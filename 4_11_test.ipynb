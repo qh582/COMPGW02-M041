{
 "cells": [
  {
   "cell_type": "code",
   "execution_count": 1,
   "metadata": {
    "collapsed": true
   },
   "outputs": [],
   "source": [
    "import pandas as pd\n",
    "import numpy as np\n",
    "from sklearn.preprocessing import OneHotEncoder\n",
    "import time\n",
    "import warnings\n",
    "warnings.filterwarnings('ignore')\n",
    "\n",
    "enc = OneHotEncoder()\n",
    "path =  '../web/dataset/'\n",
    "train = pd.read_csv(path+'train.csv')\n",
    "vali = pd.read_csv(path+'validation.csv')\n",
    "test = pd.read_csv(path+'test.csv')\n",
    "start_time = time.time()"
   ]
  },
  {
   "cell_type": "code",
   "execution_count": 2,
   "metadata": {
    "collapsed": true
   },
   "outputs": [],
   "source": [
    "basectr = 0.0007539649884458758#train['click'].value_counts(normalize = True)[1]"
   ]
  },
  {
   "cell_type": "code",
   "execution_count": 3,
   "metadata": {
    "collapsed": true
   },
   "outputs": [],
   "source": [
    "ad_ctr = [0.00083473226564105031,\n",
    " 0.00050464562342478474,\n",
    " 0.00074884754565216914,\n",
    " 0.00076448084204447765,\n",
    " 0.00030658545558598702,\n",
    " 0.00062225602378400803,\n",
    " 0.0007180766777520589,\n",
    " 0.0046066034099877034,\n",
    " 0.00030675100937663219]#[]\n",
    "ad_name = [1458,3476,3427,3358,2259,2821,3386,2997,2261]\n",
    "# for i in ad_name:\n",
    "#     ad_ctr.append(train['click'][train['advertiser']==i].value_counts(normalize = True)[1])\n",
    "ad_len = len(ad_name)"
   ]
  },
  {
   "cell_type": "code",
   "execution_count": 4,
   "metadata": {
    "collapsed": true
   },
   "outputs": [],
   "source": [
    "train_onehot = pd.read_csv(path+'train_onehot.csv')\n",
    "vali_onehot = pd.read_csv(path+'vali_onehot.csv')"
   ]
  },
  {
   "cell_type": "code",
   "execution_count": 5,
   "metadata": {
    "collapsed": true
   },
   "outputs": [],
   "source": [
    "import pickle\n",
    "# from sklearn.linear_model import Lasso\n",
    "# lasso_model = pickle.load(open('lasso_model.sav','rb'))\n",
    "rf_model = pickle.load(open('rf_model.sav','rb'))"
   ]
  },
  {
   "cell_type": "code",
   "execution_count": 6,
   "metadata": {
    "collapsed": true
   },
   "outputs": [],
   "source": [
    "names =[str(x) for x in list(vali_onehot.columns)]\n",
    "importance = pd.DataFrame({'Importance0':rf_model[0].feature_importances_,'Importance1':rf_model[1].feature_importances_,'Importance2':rf_model[2].feature_importances_,\n",
    "             'Importance3':rf_model[3].feature_importances_,'Importance4':rf_model[4].feature_importances_,\n",
    "              'Importance5':rf_model[5].feature_importances_,'Importance6':rf_model[6].feature_importances_,\n",
    "              'Importance7':rf_model[7].feature_importances_,'Importance8':rf_model[8].feature_importances_})"
   ]
  },
  {
   "cell_type": "code",
   "execution_count": 7,
   "metadata": {
    "collapsed": true
   },
   "outputs": [],
   "source": [
    "importance['importance_sum'] = importance.apply(lambda x: x.sum(),axis=1)\n",
    "importance['Names'] = names"
   ]
  },
  {
   "cell_type": "code",
   "execution_count": 8,
   "metadata": {
    "collapsed": true
   },
   "outputs": [],
   "source": [
    "vali_ad_onehot = []\n",
    "for i in ad_name:\n",
    "    vali_ad_onehot.append(vali_onehot[vali_onehot[\"advertiser_\"+str(i)]==1]) "
   ]
  },
  {
   "cell_type": "code",
   "execution_count": 10,
   "metadata": {
    "collapsed": true
   },
   "outputs": [],
   "source": [
    "def dataprocessing (data,data_onehot):\n",
    "    slotprice = data['slotprice']\n",
    "    bidprice = data['bidprice']\n",
    "    payprice = data['payprice']\n",
    "    click = data['click']\n",
    "    \n",
    "    ad_onehot = []\n",
    "    \n",
    "    ad_onehot = []\n",
    "    for i in ad_name:\n",
    "        ad_onehot.append(data_onehot[data_onehot[\"advertiser_\"+str(i)]==1]) \n",
    "    \n",
    "    ad_click = []\n",
    "    for i in ad_name:\n",
    "        ad_click.append(data['click'][data['advertiser']==i])\n",
    "        \n",
    "    return ad_onehot, ad_click, slotprice, bidprice, payprice"
   ]
  },
  {
   "cell_type": "code",
   "execution_count": null,
   "metadata": {
    "collapsed": true
   },
   "outputs": [],
   "source": []
  },
  {
   "cell_type": "code",
   "execution_count": 11,
   "metadata": {
    "collapsed": true
   },
   "outputs": [],
   "source": [
    "train_ad_onehot,train_ad_click,train_slotprice,train_bidprice,train_payprice = dataprocessing(train,train_onehot)\n",
    "vali_ad_onehot,vali_ad_click,vali_slotprice,vali_bidprice,vali_payprice = dataprocessing(vali,vali_onehot)"
   ]
  },
  {
   "cell_type": "code",
   "execution_count": 12,
   "metadata": {
    "collapsed": true
   },
   "outputs": [],
   "source": [
    "##########"
   ]
  },
  {
   "cell_type": "code",
   "execution_count": 13,
   "metadata": {
    "collapsed": true
   },
   "outputs": [],
   "source": [
    "train_click = train[['click','advertiser']]\n",
    "vali_ad_onehot_xgb= train_onehot.drop(remove_list,axis=1)\n",
    "train_ad_onehot_xgb= vali_onehot.drop(remove_list,axis=1)\n",
    "from sklearn.model_selection import train_test_split\n",
    "X_train, X_test, y_train, y_test = train_test_split(train_onehot, train_click, test_size=0.2, random_state=42)"
   ]
  },
  {
   "cell_type": "code",
   "execution_count": 14,
   "metadata": {
    "collapsed": true
   },
   "outputs": [],
   "source": [
    "def dataprocessing_ (data_onehot,click):\n",
    "    ad_onehot = []\n",
    "    for i in ad_name:\n",
    "        ad_onehot.append(data_onehot[data_onehot[\"advertiser_\"+str(i)]==1]) \n",
    "#     print('done')\n",
    "    ad_click = []\n",
    "    for i in ad_name:\n",
    "#         print(type(click))\n",
    "        a = click[click['advertiser']==i]\n",
    "        a = a.drop('advertiser',1)\n",
    "#         print(a.head())\n",
    "        ad_click.append(a)    \n",
    "    return ad_onehot, ad_click"
   ]
  },
  {
   "cell_type": "code",
   "execution_count": null,
   "metadata": {
    "collapsed": true
   },
   "outputs": [],
   "source": [
    "_train_ad_onehot,_train_ad_click = dataprocessing_(X_train,y_train)\n",
    "_ad_onehot,_ad_click= dataprocessing_(X_test,y_test)"
   ]
  },
  {
   "cell_type": "code",
   "execution_count": null,
   "metadata": {
    "collapsed": true
   },
   "outputs": [],
   "source": [
    "import os\n",
    "mingw_path = 'C:\\\\Program Files\\\\mingw-w64\\\\x86_64-6.3.0-posix-seh-rt_v5-rev1\\\\mingw64\\\\bin'\n",
    "os.environ['PATH'] = mingw_path + ';' + os.environ['PATH'] \n",
    "import xgboost as xgb\n",
    "\n",
    "xgb_model = []\n",
    "train_ad_pd = []\n",
    "train_ad_rmse = []\n",
    "train_ad_auc = []\n",
    "train_ad_report = []\n",
    "vali_ad_pd = []\n",
    "vali_ad_rmse = []\n",
    "vali_ad_auc = []\n",
    "\n",
    "param = {'max_depth':4, 'eta':1, 'silent':1, 'objective':'binary:logistic' }\n",
    "param['nthread'] = 4\n",
    "param['eval_metric'] = 'auc'\n",
    "plst = param.items()\n",
    "\n",
    "num_round = 10\n",
    "\n",
    "for i in range(ad_len):\n",
    "    dtrain = (xgb.DMatrix(_train_ad_onehot[i],_train_ad_click[i]))\n",
    "    dvali = (xgb.DMatrix(_ad_onehot[i],_ad_click[i]))\n",
    "    evallist  = [(dvali,'eval'), (dtrain,'train')]\n",
    "    dptrain = xgb.DMatrix(train_ad_onehot[i])\n",
    "    dpvali =xgb.DMatrix(vali_ad_onehot[i])\n",
    "    \n",
    "    xgb_model.append(xgb.train( plst, dtrain, num_round, evallist ))\n",
    "    train_ad_pd.append(xgb_model[i].predict(dptrain))\n",
    "    train_ad_rmse.append(rmse(train_ad_click[i],train_ad_pd[i]))\n",
    "    train_ad_auc.append(auc(train_ad_click[i],train_ad_pd[i]))\n",
    "    \n",
    "    vali_ad_pd.append(xgb_model[i].predict(dpvali))\n",
    "    vali_ad_rmse.append(rmse(vali_ad_click[i],vali_ad_pd[i]))\n",
    "    vali_ad_auc.append(auc(vali_ad_click[i],vali_ad_pd[i]))\n",
    "    print(i+1,'/9')"
   ]
  },
  {
   "cell_type": "code",
   "execution_count": null,
   "metadata": {
    "collapsed": true
   },
   "outputs": [],
   "source": [
    "#####"
   ]
  },
  {
   "cell_type": "code",
   "execution_count": 35,
   "metadata": {
    "collapsed": true
   },
   "outputs": [],
   "source": [
    "from sklearn.metrics import mean_squared_error\n",
    "def rmse(y_true, y_pred):\n",
    "    return np.sqrt(mean_squared_error(y_true, y_pred))\n",
    "from sklearn.metrics import roc_auc_score as auc\n",
    "from sklearn.metrics import classification_report as report"
   ]
  },
  {
   "cell_type": "code",
   "execution_count": 26,
   "metadata": {},
   "outputs": [
    {
     "data": {
      "text/plain": [
       "(540293, 280)"
      ]
     },
     "execution_count": 26,
     "metadata": {},
     "output_type": "execute_result"
    }
   ],
   "source": [
    "train_ad_onehot[0].shape"
   ]
  },
  {
   "cell_type": "code",
   "execution_count": 32,
   "metadata": {
    "collapsed": true
   },
   "outputs": [],
   "source": [
    "for i in range(len(train_ad_onehot)):\n",
    "    vali_ad_onehot[i] = vali_ad_onehot[i].drop(remove_list,axis=1)\n",
    "    train_ad_onehot[i] = train_ad_onehot[i].drop(remove_list,axis=1)"
   ]
  },
  {
   "cell_type": "code",
   "execution_count": 33,
   "metadata": {},
   "outputs": [
    {
     "data": {
      "text/plain": [
       "(540293, 259)"
      ]
     },
     "execution_count": 33,
     "metadata": {},
     "output_type": "execute_result"
    }
   ],
   "source": [
    "train_ad_onehot[0].shape"
   ]
  },
  {
   "cell_type": "code",
   "execution_count": 36,
   "metadata": {},
   "outputs": [
    {
     "name": "stdout",
     "output_type": "stream",
     "text": [
      "1 /9\n",
      "2 /9\n",
      "3 /9\n",
      "4 /9\n",
      "5 /9\n",
      "6 /9\n",
      "7 /9\n",
      "8 /9\n",
      "9 /9\n"
     ]
    }
   ],
   "source": [
    "from sklearn.ensemble import RandomForestClassifier\n",
    "rf_model = []\n",
    "train_ad_rfpd = []\n",
    "train_ad_rfrmse = []\n",
    "train_ad_rfauc = []\n",
    "vali_ad_rfpd = []\n",
    "vali_ad_rfrmse = []\n",
    "vali_ad_rfauc = []\n",
    "\n",
    "for i in range(ad_len):\n",
    "    rf_model.append(RandomForestClassifier(n_estimators=50, max_depth=15, random_state=2017))\n",
    "    rf_model[i].fit(train_ad_onehot[i], train_ad_click[i])\n",
    "    train_ad_rfpd.append((rf_model[i].predict_proba(train_ad_onehot[i]))[:,1])\n",
    "    train_ad_rfrmse.append(rmse(train_ad_click[i],train_ad_rfpd[i]))\n",
    "    train_ad_rfauc.append(auc(train_ad_click[i],train_ad_rfpd[i]))\n",
    "    vali_ad_rfpd.append((rf_model[i].predict_proba(vali_ad_onehot[i]))[:,1])\n",
    "    vali_ad_rfrmse.append(rmse(vali_ad_click[i],vali_ad_rfpd[i]))\n",
    "    vali_ad_rfauc.append(auc(vali_ad_click[i],vali_ad_rfpd[i]))\n",
    "    print(i+1,'/9')\n",
    "    "
   ]
  },
  {
   "cell_type": "code",
   "execution_count": null,
   "metadata": {
    "collapsed": true
   },
   "outputs": [],
   "source": [
    "j = 0\n",
    "print('random forest validation results')\n",
    "for i in ad_name:    \n",
    "    print('ad',i,':','RMSE',vali_ad_rfrmse[j],'AUC',vali_ad_rfauc[j])\n",
    "    j+=1"
   ]
  },
  {
   "cell_type": "raw",
   "metadata": {},
   "source": [
    "random forest validation results\n",
    "ad 1458 : RMSE 0.0243214407306 AUC 0.922120550229\n",
    "ad 3476 : RMSE 0.0181659869633 AUC 0.767168313065\n",
    "ad 3427 : RMSE 0.0279758478618 AUC 0.924461617928\n",
    "ad 3358 : RMSE 0.0262703146124 AUC 0.884001129966\n",
    "ad 2259 : RMSE 0.0259515780016 AUC 0.518123088516\n",
    "ad 2821 : RMSE 0.0251226841327 AUC 0.665704540131\n",
    "ad 3386 : RMSE 0.0244932747479 AUC 0.729408271574\n",
    "ad 2997 : RMSE 0.0656189612862 AUC 0.639730359521\n",
    "ad 2261 : RMSE 0.0194418370492 AUC 0.672383090161"
   ]
  },
  {
   "cell_type": "code",
   "execution_count": 38,
   "metadata": {},
   "outputs": [
    {
     "data": {
      "text/plain": [
       "[0.047720050020891636,\n",
       " 0.083414563595206603,\n",
       " 0.048498313554645622,\n",
       " 0.046871133535579701,\n",
       " 0.11159467665461043,\n",
       " 0.036810489537620894,\n",
       " 0.056729395361958312,\n",
       " 0.029707185291543703,\n",
       " 0.36625514403270187]"
      ]
     },
     "execution_count": 38,
     "metadata": {},
     "output_type": "execute_result"
    }
   ],
   "source": [
    "best = [0.964258274281,0.823949256842,0.952029031574,0.937509717487,0.644292141306,0.665704540131,0.729408271574,0.661435393834,0.773310886644]\n",
    "list(map(lambda x: x[0]-x[1], zip(best, vali_ad_rfauc)))#0.00005,0.00003#0.00004"
   ]
  },
  {
   "cell_type": "raw",
   "metadata": {},
   "source": [
    "rf_pctr = ad_to_total(vali_ad_onehot, vali_ad_rfpd)\n",
    "rf_pctr_tr = ad_to_total(train_ad_onehot, train_ad_rfpd)\n",
    "rf_pctr.to_csv(\"rf_pctr.csv\", index = False)\n",
    "rf_pctr_tr.to_csv(\"rf_pctr_tr.csv\", index = False)"
   ]
  },
  {
   "cell_type": "code",
   "execution_count": 42,
   "metadata": {},
   "outputs": [
    {
     "name": "stdout",
     "output_type": "stream",
     "text": [
      "1 /9\n",
      "2 /9\n",
      "3 /9\n",
      "4 /9\n",
      "5 /9\n",
      "6 /9\n",
      "7 /9\n",
      "8 /9\n",
      "9 /9\n"
     ]
    }
   ],
   "source": [
    "from sklearn.linear_model import ElasticNet\n",
    "\n",
    "et_model = []\n",
    "train_ad_etpd = []\n",
    "train_ad_etrmse = []\n",
    "train_ad_etauc = []\n",
    "vali_ad_etpd = []\n",
    "vali_ad_etrmse = []\n",
    "vali_ad_etauc = []\n",
    "\n",
    "for i in range(ad_len):\n",
    "    et_model.append(ElasticNet(alpha=0.000008, l1_ratio=0.7))\n",
    "    et_model[i].fit(train_ad_onehot[i], train_ad_click[i])\n",
    "    train_ad_etpd.append((et_model[i].predict(train_ad_onehot[i])))\n",
    "    train_ad_etrmse.append(rmse(train_ad_click[i],train_ad_etpd[i]))\n",
    "    train_ad_etauc.append(auc(train_ad_click[i],train_ad_etpd[i]))\n",
    "    vali_ad_etpd.append((et_model[i].predict(vali_ad_onehot[i])))\n",
    "    vali_ad_etrmse.append(rmse(vali_ad_click[i],vali_ad_etpd[i]))\n",
    "    vali_ad_etauc.append(auc(vali_ad_click[i],vali_ad_etpd[i]))\n",
    "    print(i+1,'/9')"
   ]
  },
  {
   "cell_type": "code",
   "execution_count": 43,
   "metadata": {},
   "outputs": [
    {
     "name": "stdout",
     "output_type": "stream",
     "text": [
      "elastic net validation results\n",
      "ad 1458 : RMSE 0.0242139776263 AUC 0.907493122134\n",
      "ad 3476 : RMSE 0.0182912419726 AUC 0.774192749506\n",
      "ad 3427 : RMSE 0.029686666166 AUC 0.90139639401\n",
      "ad 3358 : RMSE 0.0277666099243 AUC 0.879664119864\n",
      "ad 2259 : RMSE 0.0258762792391 AUC 0.656032534019\n",
      "ad 2821 : RMSE 0.0249766780795 AUC 0.645225396237\n",
      "ad 3386 : RMSE 0.0244067778075 AUC 0.72017722683\n",
      "ad 2997 : RMSE 0.0654756718892 AUC 0.628975468606\n",
      "ad 2261 : RMSE 0.0193369359226 AUC 0.586464646465\n"
     ]
    }
   ],
   "source": [
    "j = 0\n",
    "print('elastic net validation results')\n",
    "for i in ad_name:    \n",
    "    print('ad',i,':','RMSE',vali_ad_etrmse[j],'AUC',vali_ad_etauc[j])\n",
    "    j+=1"
   ]
  },
  {
   "cell_type": "code",
   "execution_count": 46,
   "metadata": {},
   "outputs": [
    {
     "data": {
      "text/plain": [
       "[0.056765152146777353,\n",
       " 0.049756507336315869,\n",
       " 0.050632637563969629,\n",
       " 0.057845597623033873,\n",
       " 1.1779466291272911e-13,\n",
       " 0.020479143894272966,\n",
       " 0.0092310447437630172,\n",
       " 0.032459925228038755,\n",
       " 0.18684624017935358]"
      ]
     },
     "execution_count": 46,
     "metadata": {},
     "output_type": "execute_result"
    }
   ],
   "source": [
    "best = [0.964258274281,0.823949256842,0.952029031574,0.937509717487,0.656032534019,0.665704540131,0.729408271574,0.661435393834,0.773310886644]\n",
    "list(map(lambda x: x[0]-x[1], zip(best, vali_ad_etauc)))#0.00005,0.00003#0.00004"
   ]
  },
  {
   "cell_type": "code",
   "execution_count": 47,
   "metadata": {},
   "outputs": [
    {
     "name": "stdout",
     "output_type": "stream",
     "text": [
      "1 /9\n",
      "2 /9\n",
      "3 /9\n",
      "4 /9\n",
      "5 /9\n",
      "6 /9\n",
      "7 /9\n",
      "8 /9\n",
      "9 /9\n"
     ]
    }
   ],
   "source": [
    "from sklearn.ensemble import ExtraTreesClassifier\n",
    "etr_model = []\n",
    "train_ad_etrpd = []\n",
    "train_ad_etrrmse = []\n",
    "train_ad_etrauc = []\n",
    "vali_ad_etrpd = []\n",
    "vali_ad_etrrmse = []\n",
    "vali_ad_etrauc = []\n",
    "\n",
    "for i in range(ad_len):\n",
    "    etr_model.append(ExtraTreesClassifier(n_estimators=150, max_depth=20, random_state=2017))\n",
    "    etr_model[i].fit(train_ad_onehot[i], train_ad_click[i])\n",
    "    train_ad_etrpd.append((etr_model[i].predict_proba(train_ad_onehot[i]))[:,1])\n",
    "    train_ad_etrrmse.append(rmse(train_ad_click[i],train_ad_etrpd[i]))\n",
    "    train_ad_etrauc.append(auc(train_ad_click[i],train_ad_etrpd[i]))\n",
    "    vali_ad_etrpd.append((etr_model[i].predict_proba(vali_ad_onehot[i]))[:,1])\n",
    "    vali_ad_etrrmse.append(rmse(vali_ad_click[i],vali_ad_etrpd[i]))\n",
    "    vali_ad_etrauc.append(auc(vali_ad_click[i],vali_ad_etrpd[i]))\n",
    "    print(i+1,'/9')\n"
   ]
  },
  {
   "cell_type": "code",
   "execution_count": 51,
   "metadata": {
    "scrolled": true
   },
   "outputs": [
    {
     "name": "stdout",
     "output_type": "stream",
     "text": [
      "extra tree classifier validation results\n",
      "ad 1458 : RMSE 0.0235388070982 AUC 0.927114297624\n",
      "ad 3476 : RMSE 0.0182583882036 AUC 0.763425777334\n",
      "ad 3427 : RMSE 0.0273934247314 AUC 0.930034391114\n",
      "ad 3358 : RMSE 0.0256652074792 AUC 0.892944502476\n",
      "ad 2259 : RMSE 0.0259940178264 AUC 0.634499246487\n",
      "ad 2821 : RMSE 0.0255808393772 AUC 0.673443843691\n",
      "ad 3386 : RMSE 0.0246971551726 AUC 0.65311591707\n",
      "ad 2997 : RMSE 0.066202102052 AUC 0.611466762266\n",
      "ad 2261 : RMSE 0.0194621554121 AUC 0.638862701085\n"
     ]
    }
   ],
   "source": [
    "j = 0\n",
    "print('extra tree classifier validation results')\n",
    "for i in ad_name:    \n",
    "    print('ad',i,':','RMSE',vali_ad_etrrmse[j],'AUC',vali_ad_etrauc[j])\n",
    "    j+=1"
   ]
  },
  {
   "cell_type": "code",
   "execution_count": 50,
   "metadata": {},
   "outputs": [
    {
     "data": {
      "text/plain": [
       "[0.037143976656989985,\n",
       " 0.060523479508016953,\n",
       " 0.021994640460063386,\n",
       " 0.044565215011367676,\n",
       " 0.021533287531698808,\n",
       " 0.0010833073075571242,\n",
       " 0.076292354503983306,\n",
       " 0.04996863156830289,\n",
       " 0.13444818555907678]"
      ]
     },
     "execution_count": 50,
     "metadata": {},
     "output_type": "execute_result"
    }
   ],
   "source": [
    "best = [0.964258274281,0.823949256842,0.952029031574,0.937509717487,0.656032534019,0.674527150999,0.729408271574,0.661435393834,0.773310886644]\n",
    "list(map(lambda x: x[0]-x[1], zip(best, vali_ad_etrauc)))#0.00005,0.00003#0.00004"
   ]
  },
  {
   "cell_type": "raw",
   "metadata": {},
   "source": [
    "extra tree regressor validation results\n",
    "ad 1458 : RMSE 0.0275908654708 AUC 0.821864443518\n",
    "ad 3476 : RMSE 0.0224657553045 AUC 0.611622267394\n",
    "ad 3427 : RMSE 0.0308128694995 AUC 0.79025415872\n",
    "ad 3358 : RMSE 0.0257399961702 AUC 0.817648488671\n",
    "ad 2259 : RMSE 0.0267967631974 AUC 0.495794734276\n",
    "ad 2821 : RMSE 0.0296642876183 AUC 0.605160105012\n",
    "ad 3386 : RMSE 0.0309713562114 AUC 0.671365688134\n",
    "ad 2997 : RMSE 0.0692047447831 AUC 0.572525094745\n",
    "ad 2261 : RMSE 0.0214984593169 AUC 0.496221473999"
   ]
  },
  {
   "cell_type": "code",
   "execution_count": 19,
   "metadata": {
    "collapsed": true
   },
   "outputs": [],
   "source": [
    "# merge the single model\n",
    "def ad_to_total (ad_onehot,ad_pd):\n",
    "    ad_pctr = ad_onehot\n",
    "    j = 0\n",
    "    for i in ad_name:\n",
    "        ad_pctr[j]['pctr'] = ad_pd[j]\n",
    "        ad_pctr[j]['ad'] = i\n",
    "        ad_pctr[j] = ad_pctr[j][['pctr','ad']]\n",
    "        j+=1\n",
    "    pctr = (pd.concat(ad_pctr)).sort_index()\n",
    "    return pctr"
   ]
  },
  {
   "cell_type": "raw",
   "metadata": {},
   "source": [
    "et_pctr = ad_to_total(vali_ad_onehot, vali_ad_etrpd)\n",
    "et_pctr_tr = ad_to_total(train_ad_onehot, train_ad_etrpd)\n",
    "et_pctr.to_csv(\"et_pctr.csv\", index = False)\n",
    "et_pctr_tr.to_csv(\"et_pctr_tr.csv\", index = False)"
   ]
  },
  {
   "cell_type": "code",
   "execution_count": null,
   "metadata": {
    "collapsed": true
   },
   "outputs": [],
   "source": []
  },
  {
   "cell_type": "code",
   "execution_count": 52,
   "metadata": {},
   "outputs": [
    {
     "name": "stdout",
     "output_type": "stream",
     "text": [
      "1 /9\n",
      "2 /9\n",
      "3 /9\n",
      "4 /9\n",
      "5 /9\n",
      "6 /9\n",
      "7 /9\n",
      "8 /9\n",
      "9 /9\n"
     ]
    }
   ],
   "source": [
    "from sklearn.naive_bayes import GaussianNB\n",
    "gnb_model = []\n",
    "train_ad_gnbpd = []\n",
    "train_ad_gnbrmse = []\n",
    "train_ad_gnbauc = []\n",
    "vali_ad_gnbpd = []\n",
    "vali_ad_gnbrmse = []\n",
    "vali_ad_gnbauc = []\n",
    "\n",
    "for i in range(ad_len):\n",
    "    gnb_model.append(GaussianNB())\n",
    "    gnb_model[i].fit(train_ad_onehot[i], train_ad_click[i])\n",
    "    train_ad_gnbpd.append((gnb_model[i].predict_proba(train_ad_onehot[i]))[:,1])\n",
    "    train_ad_gnbrmse.append(rmse(train_ad_click[i],train_ad_gnbpd[i]))\n",
    "    train_ad_gnbauc.append(auc(train_ad_click[i],train_ad_gnbpd[i]))\n",
    "    vali_ad_gnbpd.append((gnb_model[i].predict_proba(vali_ad_onehot[i]))[:,1])\n",
    "    vali_ad_gnbrmse.append(rmse(vali_ad_click[i],vali_ad_gnbpd[i]))\n",
    "    vali_ad_gnbauc.append(auc(vali_ad_click[i],vali_ad_gnbpd[i]))\n",
    "    print(i+1,'/9')"
   ]
  },
  {
   "cell_type": "code",
   "execution_count": 53,
   "metadata": {},
   "outputs": [
    {
     "name": "stdout",
     "output_type": "stream",
     "text": [
      "GaussianNB validation results\n",
      "ad 1458 : RMSE 0.976379070427 AUC 0.513739057941\n",
      "ad 3476 : RMSE 0.947188059746 AUC 0.474369871101\n",
      "ad 3427 : RMSE 0.979316400419 AUC 0.514837624497\n",
      "ad 3358 : RMSE 0.966329912104 AUC 0.516224096739\n",
      "ad 2259 : RMSE 0.769373882783 AUC 0.567561278312\n",
      "ad 2821 : RMSE 0.940847088705 AUC 0.527574318785\n",
      "ad 3386 : RMSE 0.967382830784 AUC 0.50357150901\n",
      "ad 2997 : RMSE 0.960782191562 AUC 0.517303851275\n",
      "ad 2261 : RMSE 0.66423765921 AUC 0.579386457164\n"
     ]
    }
   ],
   "source": [
    "j = 0\n",
    "print('GaussianNB validation results')\n",
    "for i in ad_name:    \n",
    "    print('ad',i,':','RMSE',vali_ad_gnbrmse[j],'AUC',vali_ad_gnbauc[j])\n",
    "    j+=1"
   ]
  },
  {
   "cell_type": "code",
   "execution_count": 54,
   "metadata": {},
   "outputs": [
    {
     "name": "stdout",
     "output_type": "stream",
     "text": [
      "1 /9\n",
      "2 /9\n",
      "3 /9\n",
      "4 /9\n",
      "5 /9\n",
      "6 /9\n",
      "7 /9\n",
      "8 /9\n",
      "9 /9\n"
     ]
    }
   ],
   "source": [
    "from sklearn.discriminant_analysis import LinearDiscriminantAnalysis,QuadraticDiscriminantAnalysis\n",
    "\n",
    "lda_model = []\n",
    "train_ad_ldapd = []\n",
    "train_ad_ldarmse = []\n",
    "train_ad_ldaauc = []\n",
    "vali_ad_ldapd = []\n",
    "vali_ad_ldarmse = []\n",
    "vali_ad_ldaauc = []\n",
    "\n",
    "for i in range(ad_len):\n",
    "    lda_model.append(LinearDiscriminantAnalysis())\n",
    "    lda_model[i].fit(train_ad_onehot[i], train_ad_click[i])\n",
    "    train_ad_ldapd.append((lda_model[i].predict_proba(train_ad_onehot[i]))[:,1])\n",
    "    train_ad_ldarmse.append(rmse(train_ad_click[i],train_ad_ldapd[i]))\n",
    "    train_ad_ldaauc.append(auc(train_ad_click[i],train_ad_ldapd[i]))\n",
    "    vali_ad_ldapd.append((lda_model[i].predict_proba(vali_ad_onehot[i]))[:,1])\n",
    "    vali_ad_ldarmse.append(rmse(vali_ad_click[i],vali_ad_ldapd[i]))\n",
    "    vali_ad_ldaauc.append(auc(vali_ad_click[i],vali_ad_ldapd[i]))\n",
    "    print(i+1,'/9')"
   ]
  },
  {
   "cell_type": "code",
   "execution_count": 55,
   "metadata": {
    "scrolled": true
   },
   "outputs": [
    {
     "name": "stdout",
     "output_type": "stream",
     "text": [
      "lda validation results\n",
      "ad 1458 : RMSE 0.0346338015275 AUC 0.911770237599\n",
      "ad 3476 : RMSE 0.0444493767818 AUC 0.776424600486\n",
      "ad 3427 : RMSE 0.0585734178868 AUC 0.89698890125\n",
      "ad 3358 : RMSE 0.112242940798 AUC 0.877683394978\n",
      "ad 2259 : RMSE 0.0698476230509 AUC 0.593222264084\n",
      "ad 2821 : RMSE 0.0331032494778 AUC 0.661983721112\n",
      "ad 3386 : RMSE 0.0809628476998 AUC 0.704859537492\n",
      "ad 2997 : RMSE 0.0654784807177 AUC 0.627394243573\n",
      "ad 2261 : RMSE 0.0394046277432 AUC 0.57418630752\n"
     ]
    }
   ],
   "source": [
    "j = 0\n",
    "print('lda validation results')\n",
    "for i in ad_name:    \n",
    "    print('ad',i,':','RMSE',vali_ad_ldarmse[j],'AUC',vali_ad_ldaauc[j])\n",
    "    j+=1"
   ]
  },
  {
   "cell_type": "code",
   "execution_count": 93,
   "metadata": {},
   "outputs": [
    {
     "name": "stdout",
     "output_type": "stream",
     "text": [
      "1 /9\n",
      "2 /9\n",
      "3 /9\n",
      "4 /9\n",
      "5 /9\n",
      "6 /9\n",
      "7 /9\n",
      "8 /9\n",
      "9 /9\n"
     ]
    }
   ],
   "source": [
    "from sklearn.neighbors import KNeighborsClassifier\n",
    "knc_model = []\n",
    "train_ad_kncpd = []\n",
    "train_ad_kncrmse = []\n",
    "train_ad_kncauc = []\n",
    "vali_ad_kncpd = []\n",
    "vali_ad_kncrmse = []\n",
    "vali_ad_kncauc = []\n",
    "\n",
    "for i in range(ad_len):\n",
    "    knc_model.append(KNeighborsClassifier(1))\n",
    "    knc_model[i].fit(train_ad_onehot[i], train_ad_click[i])\n",
    "    train_ad_kncpd.append((knc_model[i].predict_proba(train_ad_onehot[i]))[:,1])\n",
    "    train_ad_kncrmse.append(rmse(train_ad_click[i],train_ad_kncpd[i]))\n",
    "    train_ad_kncauc.append(auc(train_ad_click[i],train_ad_kncpd[i]))\n",
    "    vali_ad_kncpd.append((knc_model[i].predict_proba(vali_ad_onehot[i]))[:,1])\n",
    "    vali_ad_kncrmse.append(rmse(vali_ad_click[i],vali_ad_kncpd[i]))\n",
    "    vali_ad_kncauc.append(auc(vali_ad_click[i],vali_ad_kncpd[i]))\n",
    "    print(i+1,'/9')"
   ]
  },
  {
   "cell_type": "code",
   "execution_count": 94,
   "metadata": {},
   "outputs": [
    {
     "name": "stdout",
     "output_type": "stream",
     "text": [
      "knc validation results\n",
      "ad 1458 : RMSE 0.99939173504 AUC 0.460266777824\n",
      "ad 3476 : RMSE 0.500199501897 AUC 0.576781419271\n",
      "ad 3427 : RMSE 0.500416650205 AUC 0.666338869464\n",
      "ad 3358 : RMSE 0.500531428215 AUC 0.499645243304\n",
      "ad 2259 : RMSE 0.5 AUC 0.5\n",
      "ad 2821 : RMSE 0.5 AUC 0.5\n",
      "ad 3386 : RMSE 0.500642749421 AUC 0.529867956068\n",
      "ad 2997 : RMSE 0.0656423349818 AUC 0.5\n",
      "ad 2261 : RMSE 0.499906498363 AUC 0.500187055743\n"
     ]
    }
   ],
   "source": [
    "j = 0\n",
    "print('knc validation results')\n",
    "for i in ad_name:    \n",
    "    print('ad',i,':','RMSE',vali_ad_kncrmse[j],'AUC',vali_ad_kncauc[j])\n",
    "    j+=1"
   ]
  },
  {
   "cell_type": "code",
   "execution_count": 33,
   "metadata": {},
   "outputs": [
    {
     "name": "stdout",
     "output_type": "stream",
     "text": [
      "1 /9\n",
      "2 /9\n",
      "3 /9\n",
      "4 /9\n",
      "5 /9\n",
      "6 /9\n",
      "7 /9\n",
      "8 /9\n",
      "9 /9\n"
     ]
    }
   ],
   "source": [
    "from sklearn.ensemble import AdaBoostClassifier\n",
    "adb_model = []\n",
    "train_ad_adbpd = []\n",
    "train_ad_adbrmse = []\n",
    "train_ad_adbauc = []\n",
    "vali_ad_adbpd = []\n",
    "vali_ad_adbrmse = []\n",
    "vali_ad_adbauc = []\n",
    "\n",
    "for i in range(ad_len):\n",
    "    adb_model.append(AdaBoostClassifier(n_estimators=100, learning_rate=0.5, random_state=2017))\n",
    "    adb_model[i].fit(train_ad_onehot[i], train_ad_click[i])\n",
    "#     train_ad_adbpd.append((adb_model[i].predict_proba(train_ad_onehot[i]))[:,1])\n",
    "#     train_ad_adbrmse.append(rmse(train_ad_click[i],train_ad_adbpd[i]))\n",
    "#     train_ad_adbauc.append(auc(train_ad_adbpd[i],train_ad_adbpd[i]))\n",
    "    vali_ad_adbpd.append((adb_model[i].predict_proba(vali_ad_onehot[i]))[:,1])\n",
    "    vali_ad_adbrmse.append(rmse(vali_ad_click[i],vali_ad_adbpd[i]))\n",
    "    vali_ad_adbauc.append(auc(vali_ad_click[i],vali_ad_adbpd[i]))\n",
    "    print(i+1,'/9')\n"
   ]
  },
  {
   "cell_type": "code",
   "execution_count": 33,
   "metadata": {},
   "outputs": [
    {
     "name": "stdout",
     "output_type": "stream",
     "text": [
      "Adaboosting validation results\n",
      "ad 1458 : RMSE 0.450369772464 AUC 0.963908628595\n",
      "ad 3476 : RMSE 0.449349903403 AUC 0.674023949059\n",
      "ad 3427 : RMSE 0.453485636704 AUC 0.942543220668\n",
      "ad 3358 : RMSE 0.449437385353 AUC 0.93714401151\n",
      "ad 2259 : RMSE 0.416637456771 AUC 0.592787332122\n",
      "ad 2821 : RMSE 0.452913962076 AUC 0.591012453154\n",
      "ad 3386 : RMSE 0.459870000249 AUC 0.665648746772\n",
      "ad 2997 : RMSE 0.466973307183 AUC 0.630300624808\n",
      "ad 2261 : RMSE 0.403631403828 AUC 0.569726898616\n"
     ]
    }
   ],
   "source": [
    "# j = 0\n",
    "# print('Adaboosting trainning results')\n",
    "# for i in ad_name:\n",
    "#     print('ad',i,':','RMSE',train_ad_adbrmse[j],'AUC',train_ad_adbauc[j])\n",
    "#     j+=1\n",
    "j = 0\n",
    "print('Adaboosting validation results')\n",
    "for i in ad_name:    \n",
    "    print('ad',i,':','RMSE',vali_ad_adbrmse[j],'AUC',vali_ad_adbauc[j])\n",
    "    j+=1"
   ]
  },
  {
   "cell_type": "raw",
   "metadata": {},
   "source": [
    "ad_pctr = ad_to_total(vali_ad_onehot, vali_ad_adbpd)\n",
    "# ad_pctr_tr = ad_to_total(train_ad_onehot, train_ad_etrpd)\n",
    "ad_pctr.to_csv(\"ad_pctr.csv\", index = False)\n",
    "# ad_pctr_tr.to_csv(\"et_pctr_tr.csv\", index = False)"
   ]
  },
  {
   "cell_type": "code",
   "execution_count": null,
   "metadata": {
    "collapsed": true
   },
   "outputs": [],
   "source": [
    "etr_model[1].feature_importances_  \n",
    "model = SelectFromModel(etr_model, prefit=True)\n",
    "X_new = model.transform(train_ad_onehot[1])\n",
    "X_new_test = model.transform(vali_ad_onehot[1])\n",
    "clf_ET2 = rf_model[1]#ExtraTreesRegressor(n_estimators=150, max_depth=20, random_state=2017)\n",
    "t = time.time()\n",
    "clf_ET2.fit(X_new, train_ad_click[1])\n",
    "print('model training time:',round((time.time()-t)/60,3) ,'minutes\\n')\n",
    "t = time.time()\n",
    "y_pred_ET2 = clf_ET2.predict(X_new_test)\n",
    "print('predicting time:',round((time.time()-t)/60,3) ,'minutes\\n')"
   ]
  },
  {
   "cell_type": "code",
   "execution_count": 105,
   "metadata": {},
   "outputs": [
    {
     "data": {
      "text/html": [
       "<table class=\"simpletable\">\n",
       "<caption>OLS Regression Results</caption>\n",
       "<tr>\n",
       "  <th>Dep. Variable:</th>       <td>train.click</td>   <th>  R-squared:         </th>  <td>   0.787</td> \n",
       "</tr>\n",
       "<tr>\n",
       "  <th>Model:</th>                   <td>OLS</td>       <th>  Adj. R-squared:    </th>  <td>   0.787</td> \n",
       "</tr>\n",
       "<tr>\n",
       "  <th>Method:</th>             <td>Least Squares</td>  <th>  F-statistic:       </th>  <td>4.974e+06</td>\n",
       "</tr>\n",
       "<tr>\n",
       "  <th>Date:</th>             <td>Tue, 11 Apr 2017</td> <th>  Prob (F-statistic):</th>   <td>  0.00</td>  \n",
       "</tr>\n",
       "<tr>\n",
       "  <th>Time:</th>                 <td>08:03:55</td>     <th>  Log-Likelihood:    </th> <td>7.9556e+06</td>\n",
       "</tr>\n",
       "<tr>\n",
       "  <th>No. Observations:</th>      <td>2697738</td>     <th>  AIC:               </th> <td>-1.591e+07</td>\n",
       "</tr>\n",
       "<tr>\n",
       "  <th>Df Residuals:</th>          <td>2697735</td>     <th>  BIC:               </th> <td>-1.591e+07</td>\n",
       "</tr>\n",
       "<tr>\n",
       "  <th>Df Model:</th>              <td>     2</td>      <th>                     </th>      <td> </td>    \n",
       "</tr>\n",
       "<tr>\n",
       "  <th>Covariance Type:</th>      <td>nonrobust</td>    <th>                     </th>      <td> </td>    \n",
       "</tr>\n",
       "</table>\n",
       "<table class=\"simpletable\">\n",
       "<tr>\n",
       "         <td></td>            <th>coef</th>     <th>std err</th>      <th>t</th>      <th>P>|t|</th>  <th>[0.025</th>    <th>0.975]</th>  \n",
       "</tr>\n",
       "<tr>\n",
       "  <th>Intercept</th>       <td> 6.491e-05</td> <td> 7.78e-06</td> <td>    8.347</td> <td> 0.000</td> <td> 4.97e-05</td> <td> 8.02e-05</td>\n",
       "</tr>\n",
       "<tr>\n",
       "  <th>et_pctr_tr.pctr</th> <td>    1.0600</td> <td>    0.001</td> <td> 2014.837</td> <td> 0.000</td> <td>    1.059</td> <td>    1.061</td>\n",
       "</tr>\n",
       "<tr>\n",
       "  <th>rf_pctr_tr.pctr</th> <td>   -0.1476</td> <td>    0.002</td> <td>  -89.809</td> <td> 0.000</td> <td>   -0.151</td> <td>   -0.144</td>\n",
       "</tr>\n",
       "</table>\n",
       "<table class=\"simpletable\">\n",
       "<tr>\n",
       "  <th>Omnibus:</th>       <td>9083823.659</td> <th>  Durbin-Watson:     </th>     <td>   2.000</td>     \n",
       "</tr>\n",
       "<tr>\n",
       "  <th>Prob(Omnibus):</th>   <td> 0.000</td>    <th>  Jarque-Bera (JB):  </th> <td>2445764167204.572</td>\n",
       "</tr>\n",
       "<tr>\n",
       "  <th>Skew:</th>            <td>61.005</td>    <th>  Prob(JB):          </th>     <td>    0.00</td>     \n",
       "</tr>\n",
       "<tr>\n",
       "  <th>Kurtosis:</th>       <td>4665.989</td>   <th>  Cond. No.          </th>     <td>    220.</td>     \n",
       "</tr>\n",
       "</table>"
      ],
      "text/plain": [
       "<class 'statsmodels.iolib.summary.Summary'>\n",
       "\"\"\"\n",
       "                            OLS Regression Results                            \n",
       "==============================================================================\n",
       "Dep. Variable:            train.click   R-squared:                       0.787\n",
       "Model:                            OLS   Adj. R-squared:                  0.787\n",
       "Method:                 Least Squares   F-statistic:                 4.974e+06\n",
       "Date:                Tue, 11 Apr 2017   Prob (F-statistic):               0.00\n",
       "Time:                        08:03:55   Log-Likelihood:             7.9556e+06\n",
       "No. Observations:             2697738   AIC:                        -1.591e+07\n",
       "Df Residuals:                 2697735   BIC:                        -1.591e+07\n",
       "Df Model:                           2                                         \n",
       "Covariance Type:            nonrobust                                         \n",
       "===================================================================================\n",
       "                      coef    std err          t      P>|t|      [0.025      0.975]\n",
       "-----------------------------------------------------------------------------------\n",
       "Intercept        6.491e-05   7.78e-06      8.347      0.000    4.97e-05    8.02e-05\n",
       "et_pctr_tr.pctr     1.0600      0.001   2014.837      0.000       1.059       1.061\n",
       "rf_pctr_tr.pctr    -0.1476      0.002    -89.809      0.000      -0.151      -0.144\n",
       "==============================================================================\n",
       "Omnibus:                  9083823.659   Durbin-Watson:                   2.000\n",
       "Prob(Omnibus):                  0.000   Jarque-Bera (JB):    2445764167204.572\n",
       "Skew:                          61.005   Prob(JB):                         0.00\n",
       "Kurtosis:                    4665.989   Cond. No.                         220.\n",
       "==============================================================================\n",
       "\n",
       "Warnings:\n",
       "[1] Standard Errors assume that the covariance matrix of the errors is correctly specified.\n",
       "\"\"\""
      ]
     },
     "execution_count": 105,
     "metadata": {},
     "output_type": "execute_result"
    }
   ],
   "source": [
    "import statsmodels.formula.api as sm \n",
    "result = sm.ols(formula = 'train.click ~ et_pctr_tr.pctr + rf_pctr_tr.pctr ', data = train_onehot).fit()\n",
    "result.summary()"
   ]
  },
  {
   "cell_type": "code",
   "execution_count": 106,
   "metadata": {
    "collapsed": true
   },
   "outputs": [],
   "source": [
    "scaled =(et_pctr_tr*1.06-0.1476*rf_pctr_tr+6.491e-05)"
   ]
  },
  {
   "cell_type": "code",
   "execution_count": 107,
   "metadata": {},
   "outputs": [
    {
     "data": {
      "text/plain": [
       "(0.012677687788632598, 0.99968561544259016)"
      ]
     },
     "execution_count": 107,
     "metadata": {},
     "output_type": "execute_result"
    }
   ],
   "source": [
    "rmse(train.click,scaled.pctr),auc(train.click,scaled.pctr)"
   ]
  },
  {
   "cell_type": "code",
   "execution_count": 111,
   "metadata": {},
   "outputs": [
    {
     "data": {
      "text/plain": [
       "(0.022936234989245914, 0.99644619443890226)"
      ]
     },
     "execution_count": 111,
     "metadata": {},
     "output_type": "execute_result"
    }
   ],
   "source": [
    "rmse(train.click,rf_pctr_tr.pctr),auc(train.click,rf_pctr_tr.pctr)"
   ]
  },
  {
   "cell_type": "code",
   "execution_count": 108,
   "metadata": {},
   "outputs": [
    {
     "data": {
      "text/plain": [
       "(0.012708231345303328, 0.99968022812427337)"
      ]
     },
     "execution_count": 108,
     "metadata": {},
     "output_type": "execute_result"
    }
   ],
   "source": [
    "rmse(train.click,et_pctr_tr.pctr),auc(train.click,et_pctr_tr.pctr)"
   ]
  },
  {
   "cell_type": "code",
   "execution_count": 114,
   "metadata": {},
   "outputs": [
    {
     "data": {
      "text/html": [
       "<table class=\"simpletable\">\n",
       "<caption>OLS Regression Results</caption>\n",
       "<tr>\n",
       "  <th>Dep. Variable:</th>       <td>vali.click</td>    <th>  R-squared:         </th>  <td>   0.135</td> \n",
       "</tr>\n",
       "<tr>\n",
       "  <th>Model:</th>                   <td>OLS</td>       <th>  Adj. R-squared:    </th>  <td>   0.135</td> \n",
       "</tr>\n",
       "<tr>\n",
       "  <th>Method:</th>             <td>Least Squares</td>  <th>  F-statistic:       </th>  <td>2.334e+04</td>\n",
       "</tr>\n",
       "<tr>\n",
       "  <th>Date:</th>             <td>Tue, 11 Apr 2017</td> <th>  Prob (F-statistic):</th>   <td>  0.00</td>  \n",
       "</tr>\n",
       "<tr>\n",
       "  <th>Time:</th>                 <td>08:10:09</td>     <th>  Log-Likelihood:    </th> <td>6.7411e+05</td>\n",
       "</tr>\n",
       "<tr>\n",
       "  <th>No. Observations:</th>      <td>299749</td>      <th>  AIC:               </th> <td>-1.348e+06</td>\n",
       "</tr>\n",
       "<tr>\n",
       "  <th>Df Residuals:</th>          <td>299746</td>      <th>  BIC:               </th> <td>-1.348e+06</td>\n",
       "</tr>\n",
       "<tr>\n",
       "  <th>Df Model:</th>              <td>     2</td>      <th>                     </th>      <td> </td>    \n",
       "</tr>\n",
       "<tr>\n",
       "  <th>Covariance Type:</th>      <td>nonrobust</td>    <th>                     </th>      <td> </td>    \n",
       "</tr>\n",
       "</table>\n",
       "<table class=\"simpletable\">\n",
       "<tr>\n",
       "        <td></td>          <th>coef</th>     <th>std err</th>      <th>t</th>      <th>P>|t|</th>  <th>[0.025</th>    <th>0.975]</th>  \n",
       "</tr>\n",
       "<tr>\n",
       "  <th>Intercept</th>    <td>   -0.0006</td> <td> 4.72e-05</td> <td>  -13.088</td> <td> 0.000</td> <td>   -0.001</td> <td>   -0.001</td>\n",
       "</tr>\n",
       "<tr>\n",
       "  <th>et_pctr.pctr</th> <td>    0.0567</td> <td>    0.003</td> <td>   18.298</td> <td> 0.000</td> <td>    0.051</td> <td>    0.063</td>\n",
       "</tr>\n",
       "<tr>\n",
       "  <th>rf_pctr.pctr</th> <td>    1.7761</td> <td>    0.012</td> <td>  152.541</td> <td> 0.000</td> <td>    1.753</td> <td>    1.799</td>\n",
       "</tr>\n",
       "</table>\n",
       "<table class=\"simpletable\">\n",
       "<tr>\n",
       "  <th>Omnibus:</th>       <td>803245.063</td> <th>  Durbin-Watson:     </th>    <td>   2.002</td>    \n",
       "</tr>\n",
       "<tr>\n",
       "  <th>Prob(Omnibus):</th>   <td> 0.000</td>   <th>  Jarque-Bera (JB):  </th> <td>20567924744.227</td>\n",
       "</tr>\n",
       "<tr>\n",
       "  <th>Skew:</th>            <td>32.901</td>   <th>  Prob(JB):          </th>    <td>    0.00</td>    \n",
       "</tr>\n",
       "<tr>\n",
       "  <th>Kurtosis:</th>       <td>1284.593</td>  <th>  Cond. No.          </th>    <td>    253.</td>    \n",
       "</tr>\n",
       "</table>"
      ],
      "text/plain": [
       "<class 'statsmodels.iolib.summary.Summary'>\n",
       "\"\"\"\n",
       "                            OLS Regression Results                            \n",
       "==============================================================================\n",
       "Dep. Variable:             vali.click   R-squared:                       0.135\n",
       "Model:                            OLS   Adj. R-squared:                  0.135\n",
       "Method:                 Least Squares   F-statistic:                 2.334e+04\n",
       "Date:                Tue, 11 Apr 2017   Prob (F-statistic):               0.00\n",
       "Time:                        08:10:09   Log-Likelihood:             6.7411e+05\n",
       "No. Observations:              299749   AIC:                        -1.348e+06\n",
       "Df Residuals:                  299746   BIC:                        -1.348e+06\n",
       "Df Model:                           2                                         \n",
       "Covariance Type:            nonrobust                                         \n",
       "================================================================================\n",
       "                   coef    std err          t      P>|t|      [0.025      0.975]\n",
       "--------------------------------------------------------------------------------\n",
       "Intercept       -0.0006   4.72e-05    -13.088      0.000      -0.001      -0.001\n",
       "et_pctr.pctr     0.0567      0.003     18.298      0.000       0.051       0.063\n",
       "rf_pctr.pctr     1.7761      0.012    152.541      0.000       1.753       1.799\n",
       "==============================================================================\n",
       "Omnibus:                   803245.063   Durbin-Watson:                   2.002\n",
       "Prob(Omnibus):                  0.000   Jarque-Bera (JB):      20567924744.227\n",
       "Skew:                          32.901   Prob(JB):                         0.00\n",
       "Kurtosis:                    1284.593   Cond. No.                         253.\n",
       "==============================================================================\n",
       "\n",
       "Warnings:\n",
       "[1] Standard Errors assume that the covariance matrix of the errors is correctly specified.\n",
       "\"\"\""
      ]
     },
     "execution_count": 114,
     "metadata": {},
     "output_type": "execute_result"
    }
   ],
   "source": [
    "import statsmodels.formula.api as sm \n",
    "result = sm.ols(formula = 'vali.click ~ et_pctr.pctr + rf_pctr.pctr ', data = vali_onehot).fit()\n",
    "result.summary()"
   ]
  },
  {
   "cell_type": "code",
   "execution_count": 115,
   "metadata": {
    "collapsed": true
   },
   "outputs": [],
   "source": [
    "scaled_vali =(et_pctr+rf_pctr)/2"
   ]
  },
  {
   "cell_type": "code",
   "execution_count": 116,
   "metadata": {},
   "outputs": [
    {
     "data": {
      "text/plain": [
       "(0.026409143746440905, 0.83312295458333319)"
      ]
     },
     "execution_count": 116,
     "metadata": {},
     "output_type": "execute_result"
    }
   ],
   "source": [
    "rmse(vali.click,scaled_vali.pctr),auc(vali.click,scaled_vali.pctr)"
   ]
  },
  {
   "cell_type": "code",
   "execution_count": 117,
   "metadata": {},
   "outputs": [
    {
     "data": {
      "text/plain": [
       "(0.029333945865646645, 0.74721666594427905)"
      ]
     },
     "execution_count": 117,
     "metadata": {},
     "output_type": "execute_result"
    }
   ],
   "source": [
    "rmse(vali.click,et_pctr.pctr),auc(vali.click,et_pctr.pctr)"
   ]
  },
  {
   "cell_type": "code",
   "execution_count": 118,
   "metadata": {
    "scrolled": true
   },
   "outputs": [
    {
     "data": {
      "text/plain": [
       "(0.025991713806223657, 0.83314297166122453)"
      ]
     },
     "execution_count": 118,
     "metadata": {},
     "output_type": "execute_result"
    }
   ],
   "source": [
    "rmse(vali.click,rf_pctr.pctr),auc(vali.click,rf_pctr.pctr)"
   ]
  },
  {
   "cell_type": "code",
   "execution_count": 16,
   "metadata": {},
   "outputs": [
    {
     "ename": "MemoryError",
     "evalue": "",
     "output_type": "error",
     "traceback": [
      "\u001b[1;31m---------------------------------------------------------------------------\u001b[0m",
      "\u001b[1;31mMemoryError\u001b[0m                               Traceback (most recent call last)",
      "\u001b[1;32m<ipython-input-16-282ebc74f442>\u001b[0m in \u001b[0;36m<module>\u001b[1;34m()\u001b[0m\n\u001b[0;32m     11\u001b[0m \u001b[1;32mfor\u001b[0m \u001b[0mi\u001b[0m \u001b[1;32min\u001b[0m \u001b[0mrange\u001b[0m\u001b[1;33m(\u001b[0m\u001b[0mad_len\u001b[0m\u001b[1;33m)\u001b[0m\u001b[1;33m:\u001b[0m\u001b[1;33m\u001b[0m\u001b[0m\n\u001b[0;32m     12\u001b[0m     \u001b[0mridge_model\u001b[0m\u001b[1;33m.\u001b[0m\u001b[0mappend\u001b[0m\u001b[1;33m(\u001b[0m\u001b[0mRidge\u001b[0m\u001b[1;33m(\u001b[0m\u001b[0malpha\u001b[0m\u001b[1;33m=\u001b[0m\u001b[1;36m0.00004\u001b[0m\u001b[1;33m)\u001b[0m\u001b[1;33m)\u001b[0m\u001b[1;33m\u001b[0m\u001b[0m\n\u001b[1;32m---> 13\u001b[1;33m     \u001b[0mridge_model\u001b[0m\u001b[1;33m[\u001b[0m\u001b[0mi\u001b[0m\u001b[1;33m]\u001b[0m\u001b[1;33m.\u001b[0m\u001b[0mfit\u001b[0m\u001b[1;33m(\u001b[0m\u001b[0mtrain_ad_onehot\u001b[0m\u001b[1;33m[\u001b[0m\u001b[0mi\u001b[0m\u001b[1;33m]\u001b[0m\u001b[1;33m,\u001b[0m \u001b[0mtrain_ad_click\u001b[0m\u001b[1;33m[\u001b[0m\u001b[0mi\u001b[0m\u001b[1;33m]\u001b[0m\u001b[1;33m)\u001b[0m\u001b[1;33m\u001b[0m\u001b[0m\n\u001b[0m\u001b[0;32m     14\u001b[0m     \u001b[0mtrain_ad_ridgepd\u001b[0m\u001b[1;33m.\u001b[0m\u001b[0mappend\u001b[0m\u001b[1;33m(\u001b[0m\u001b[1;33m(\u001b[0m\u001b[0mridge_model\u001b[0m\u001b[1;33m[\u001b[0m\u001b[0mi\u001b[0m\u001b[1;33m]\u001b[0m\u001b[1;33m.\u001b[0m\u001b[0mpredict\u001b[0m\u001b[1;33m(\u001b[0m\u001b[0mtrain_ad_onehot\u001b[0m\u001b[1;33m[\u001b[0m\u001b[0mi\u001b[0m\u001b[1;33m]\u001b[0m\u001b[1;33m)\u001b[0m\u001b[1;33m)\u001b[0m\u001b[1;33m)\u001b[0m\u001b[1;33m\u001b[0m\u001b[0m\n\u001b[0;32m     15\u001b[0m     \u001b[0mtrain_ad_ridgermse\u001b[0m\u001b[1;33m.\u001b[0m\u001b[0mappend\u001b[0m\u001b[1;33m(\u001b[0m\u001b[0mrmse\u001b[0m\u001b[1;33m(\u001b[0m\u001b[0mtrain_ad_click\u001b[0m\u001b[1;33m[\u001b[0m\u001b[0mi\u001b[0m\u001b[1;33m]\u001b[0m\u001b[1;33m,\u001b[0m\u001b[0mtrain_ad_ridgepd\u001b[0m\u001b[1;33m[\u001b[0m\u001b[0mi\u001b[0m\u001b[1;33m]\u001b[0m\u001b[1;33m)\u001b[0m\u001b[1;33m)\u001b[0m\u001b[1;33m\u001b[0m\u001b[0m\n",
      "\u001b[1;32mC:\\Users\\he_yo\\Anaconda3\\lib\\site-packages\\sklearn\\linear_model\\ridge.py\u001b[0m in \u001b[0;36mfit\u001b[1;34m(self, X, y, sample_weight)\u001b[0m\n\u001b[0;32m    640\u001b[0m         \u001b[0mself\u001b[0m \u001b[1;33m:\u001b[0m \u001b[0mreturns\u001b[0m \u001b[0man\u001b[0m \u001b[0minstance\u001b[0m \u001b[0mof\u001b[0m \u001b[0mself\u001b[0m\u001b[1;33m.\u001b[0m\u001b[1;33m\u001b[0m\u001b[0m\n\u001b[0;32m    641\u001b[0m         \"\"\"\n\u001b[1;32m--> 642\u001b[1;33m         \u001b[1;32mreturn\u001b[0m \u001b[0msuper\u001b[0m\u001b[1;33m(\u001b[0m\u001b[0mRidge\u001b[0m\u001b[1;33m,\u001b[0m \u001b[0mself\u001b[0m\u001b[1;33m)\u001b[0m\u001b[1;33m.\u001b[0m\u001b[0mfit\u001b[0m\u001b[1;33m(\u001b[0m\u001b[0mX\u001b[0m\u001b[1;33m,\u001b[0m \u001b[0my\u001b[0m\u001b[1;33m,\u001b[0m \u001b[0msample_weight\u001b[0m\u001b[1;33m=\u001b[0m\u001b[0msample_weight\u001b[0m\u001b[1;33m)\u001b[0m\u001b[1;33m\u001b[0m\u001b[0m\n\u001b[0m\u001b[0;32m    643\u001b[0m \u001b[1;33m\u001b[0m\u001b[0m\n\u001b[0;32m    644\u001b[0m \u001b[1;33m\u001b[0m\u001b[0m\n",
      "\u001b[1;32mC:\\Users\\he_yo\\Anaconda3\\lib\\site-packages\\sklearn\\linear_model\\ridge.py\u001b[0m in \u001b[0;36mfit\u001b[1;34m(self, X, y, sample_weight)\u001b[0m\n\u001b[0;32m    463\u001b[0m     \u001b[1;32mdef\u001b[0m \u001b[0mfit\u001b[0m\u001b[1;33m(\u001b[0m\u001b[0mself\u001b[0m\u001b[1;33m,\u001b[0m \u001b[0mX\u001b[0m\u001b[1;33m,\u001b[0m \u001b[0my\u001b[0m\u001b[1;33m,\u001b[0m \u001b[0msample_weight\u001b[0m\u001b[1;33m=\u001b[0m\u001b[1;32mNone\u001b[0m\u001b[1;33m)\u001b[0m\u001b[1;33m:\u001b[0m\u001b[1;33m\u001b[0m\u001b[0m\n\u001b[0;32m    464\u001b[0m         X, y = check_X_y(X, y, ['csr', 'csc', 'coo'], dtype=np.float64,\n\u001b[1;32m--> 465\u001b[1;33m                          multi_output=True, y_numeric=True)\n\u001b[0m\u001b[0;32m    466\u001b[0m \u001b[1;33m\u001b[0m\u001b[0m\n\u001b[0;32m    467\u001b[0m         if ((sample_weight is not None) and\n",
      "\u001b[1;32mC:\\Users\\he_yo\\Anaconda3\\lib\\site-packages\\sklearn\\utils\\validation.py\u001b[0m in \u001b[0;36mcheck_X_y\u001b[1;34m(X, y, accept_sparse, dtype, order, copy, force_all_finite, ensure_2d, allow_nd, multi_output, ensure_min_samples, ensure_min_features, y_numeric, warn_on_dtype, estimator)\u001b[0m\n\u001b[0;32m    519\u001b[0m     X = check_array(X, accept_sparse, dtype, order, copy, force_all_finite,\n\u001b[0;32m    520\u001b[0m                     \u001b[0mensure_2d\u001b[0m\u001b[1;33m,\u001b[0m \u001b[0mallow_nd\u001b[0m\u001b[1;33m,\u001b[0m \u001b[0mensure_min_samples\u001b[0m\u001b[1;33m,\u001b[0m\u001b[1;33m\u001b[0m\u001b[0m\n\u001b[1;32m--> 521\u001b[1;33m                     ensure_min_features, warn_on_dtype, estimator)\n\u001b[0m\u001b[0;32m    522\u001b[0m     \u001b[1;32mif\u001b[0m \u001b[0mmulti_output\u001b[0m\u001b[1;33m:\u001b[0m\u001b[1;33m\u001b[0m\u001b[0m\n\u001b[0;32m    523\u001b[0m         y = check_array(y, 'csr', force_all_finite=True, ensure_2d=False,\n",
      "\u001b[1;32mC:\\Users\\he_yo\\Anaconda3\\lib\\site-packages\\sklearn\\utils\\validation.py\u001b[0m in \u001b[0;36mcheck_array\u001b[1;34m(array, accept_sparse, dtype, order, copy, force_all_finite, ensure_2d, allow_nd, ensure_min_samples, ensure_min_features, warn_on_dtype, estimator)\u001b[0m\n\u001b[0;32m    380\u001b[0m                                       force_all_finite)\n\u001b[0;32m    381\u001b[0m     \u001b[1;32melse\u001b[0m\u001b[1;33m:\u001b[0m\u001b[1;33m\u001b[0m\u001b[0m\n\u001b[1;32m--> 382\u001b[1;33m         \u001b[0marray\u001b[0m \u001b[1;33m=\u001b[0m \u001b[0mnp\u001b[0m\u001b[1;33m.\u001b[0m\u001b[0marray\u001b[0m\u001b[1;33m(\u001b[0m\u001b[0marray\u001b[0m\u001b[1;33m,\u001b[0m \u001b[0mdtype\u001b[0m\u001b[1;33m=\u001b[0m\u001b[0mdtype\u001b[0m\u001b[1;33m,\u001b[0m \u001b[0morder\u001b[0m\u001b[1;33m=\u001b[0m\u001b[0morder\u001b[0m\u001b[1;33m,\u001b[0m \u001b[0mcopy\u001b[0m\u001b[1;33m=\u001b[0m\u001b[0mcopy\u001b[0m\u001b[1;33m)\u001b[0m\u001b[1;33m\u001b[0m\u001b[0m\n\u001b[0m\u001b[0;32m    383\u001b[0m \u001b[1;33m\u001b[0m\u001b[0m\n\u001b[0;32m    384\u001b[0m         \u001b[1;32mif\u001b[0m \u001b[0mensure_2d\u001b[0m\u001b[1;33m:\u001b[0m\u001b[1;33m\u001b[0m\u001b[0m\n",
      "\u001b[1;31mMemoryError\u001b[0m: "
     ]
    }
   ],
   "source": [
    "from sklearn.linear_model import Ridge\n",
    "\n",
    "ridge_model = []\n",
    "train_ad_ridgepd = []\n",
    "train_ad_ridgermse = []\n",
    "train_ad_ridgeauc = []\n",
    "vali_ad_ridgepd = []\n",
    "vali_ad_ridgermse = []\n",
    "vali_ad_ridgeauc = []\n",
    "\n",
    "for i in range(ad_len):\n",
    "    ridge_model.append(Ridge(alpha=0.00004))\n",
    "    ridge_model[i].fit(train_ad_onehot[i], train_ad_click[i])\n",
    "    train_ad_ridgepd.append((ridge_model[i].predict(train_ad_onehot[i])))\n",
    "    train_ad_ridgermse.append(rmse(train_ad_click[i],train_ad_ridgepd[i]))\n",
    "    train_ad_ridgeauc.append(auc(train_ad_click[i],train_ad_ridgepd[i]))\n",
    "    vali_ad_ridgepd.append((ridge_model[i].predict(vali_ad_onehot[i])))\n",
    "    vali_ad_ridgermse.append(rmse(vali_ad_click[i],vali_ad_ridgepd[i]))\n",
    "    vali_ad_ridgeauc.append(auc(vali_ad_click[i],vali_ad_ridgepd[i]))\n",
    "    print(i+1,'/9')"
   ]
  },
  {
   "cell_type": "code",
   "execution_count": null,
   "metadata": {
    "collapsed": true
   },
   "outputs": [],
   "source": [
    "# j = 0\n",
    "# print('Adaboosting trainning results')\n",
    "# for i in ad_name:\n",
    "#     print('ad',i,':','RMSE',train_ad_adbrmse[j],'AUC',train_ad_adbauc[j])\n",
    "#     j+=1\n",
    "j = 0\n",
    "print('Ridge validation results')\n",
    "for i in ad_name:    \n",
    "    print('ad',i,':','RMSE',vali_ad_ridgermse[j],'AUC',vali_ad_ridgeauc[j])\n",
    "    j+=1"
   ]
  },
  {
   "cell_type": "code",
   "execution_count": 17,
   "metadata": {
    "collapsed": true
   },
   "outputs": [],
   "source": [
    "best = [0.964258274281,0.823949256842,0.952029031574,0.937509717487,0.644292141306,0.665704540131,0.729408271574,0.661435393834,0.773310886644]"
   ]
  },
  {
   "cell_type": "code",
   "execution_count": 27,
   "metadata": {},
   "outputs": [
    {
     "data": {
      "text/plain": [
       "[0.071949312213471783,\n",
       " 0.032110718828218587,\n",
       " 0.044672467683345207,\n",
       " 0.041687744032436136,\n",
       " 0.0094826248831707538,\n",
       " 0.060298007104766294,\n",
       " 0.034983374341061135,\n",
       " 0.033842696917068649,\n",
       " -0.068275346052991792]"
      ]
     },
     "execution_count": 27,
     "metadata": {},
     "output_type": "execute_result"
    }
   ],
   "source": [
    "best = [0.964258274281,0.823949256842,0.952029031574,0.937509717487,0.644292141306,0.665704540131,0.729408271574,0.661435393834,0.773310886644]\n",
    "list(map(lambda x: x[0]-x[1], zip(best, vali_ad_ridgeauc)))#0.00005,0.00003#0.00004"
   ]
  },
  {
   "cell_type": "code",
   "execution_count": 39,
   "metadata": {},
   "outputs": [
    {
     "name": "stdout",
     "output_type": "stream",
     "text": [
      "1 /9\n",
      "2 /9\n",
      "3 /9\n",
      "4 /9\n",
      "5 /9\n",
      "6 /9\n",
      "7 /9\n",
      "8 /9\n",
      "9 /9\n"
     ]
    }
   ],
   "source": [
    "from sklearn.linear_model import Lasso\n",
    "\n",
    "lasso_model = []\n",
    "train_ad_lassopd = []\n",
    "train_ad_lassormse = []\n",
    "train_ad_lassoauc = []\n",
    "vali_ad_lassopd = []\n",
    "vali_ad_lassormse = []\n",
    "vali_ad_lassoauc = []\n",
    "\n",
    "for i in range(ad_len):\n",
    "    lasso_model.append(Lasso(alpha=0.00004))\n",
    "    lasso_model[i].fit(train_ad_onehot[i], train_ad_click[i])\n",
    "    train_ad_lassopd.append((lasso_model[i].predict(train_ad_onehot[i])))\n",
    "    train_ad_lassormse.append(rmse(train_ad_click[i],train_ad_lassopd[i]))\n",
    "    train_ad_lassoauc.append(auc(train_ad_click[i],train_ad_lassopd[i]))\n",
    "    vali_ad_lassopd.append((lasso_model[i].predict(vali_ad_onehot[i])))\n",
    "    vali_ad_lassormse.append(rmse(vali_ad_click[i],vali_ad_lassopd[i]))\n",
    "    vali_ad_lassoauc.append(auc(vali_ad_click[i],vali_ad_lassopd[i]))\n",
    "    print(i+1,'/9')"
   ]
  },
  {
   "cell_type": "code",
   "execution_count": 40,
   "metadata": {},
   "outputs": [
    {
     "name": "stdout",
     "output_type": "stream",
     "text": [
      "Lasso validation results\n",
      "ad 1458 : RMSE 0.0243192478018 AUC 0.889510462693\n",
      "ad 3476 : RMSE 0.018284800259 AUC 0.801699099335\n",
      "ad 3427 : RMSE 0.0297079952638 AUC 0.908316777919\n",
      "ad 3358 : RMSE 0.0278228580201 AUC 0.899746195672\n",
      "ad 2259 : RMSE 0.0258764216646 AUC 0.644292141306\n",
      "ad 2821 : RMSE 0.0249759546687 AUC 0.579150970097\n",
      "ad 3386 : RMSE 0.0244193769057 AUC 0.690008783885\n",
      "ad 2997 : RMSE 0.0654709532679 AUC 0.611073056438\n",
      "ad 2261 : RMSE 0.0193342687271 AUC 0.773310886644\n"
     ]
    }
   ],
   "source": [
    "# j = 0\n",
    "# print('Adaboosting trainning results')\n",
    "# for i in ad_name:\n",
    "#     print('ad',i,':','RMSE',train_ad_adbrmse[j],'AUC',train_ad_adbauc[j])\n",
    "#     j+=1\n",
    "j = 0\n",
    "print('Lasso validation results')\n",
    "for i in ad_name:    \n",
    "    print('ad',i,':','RMSE',vali_ad_lassormse[j],'AUC',vali_ad_lassoauc[j])\n",
    "    j+=1"
   ]
  },
  {
   "cell_type": "raw",
   "metadata": {},
   "source": [
    "Lasso validation results#alpha=0.00004\n",
    "ad 1458 : RMSE 0.0243192478018 AUC 0.889510462693\n",
    "ad 3476 : RMSE 0.018284800259 AUC 0.801699099335\n",
    "ad 3427 : RMSE 0.0297079952638 AUC 0.908316777919\n",
    "ad 3358 : RMSE 0.0278228580201 AUC 0.899746195672\n",
    "ad 2259 : RMSE 0.0258764216646 AUC 0.644292141306\n",
    "ad 2821 : RMSE 0.0249759546687 AUC 0.579150970097\n",
    "ad 3386 : RMSE 0.0244193769057 AUC 0.690008783885\n",
    "ad 2997 : RMSE 0.0654709532679 AUC 0.611073056438\n",
    "ad 2261 : RMSE 0.0193342687271 AUC 0.773310886644"
   ]
  },
  {
   "cell_type": "code",
   "execution_count": 23,
   "metadata": {
    "collapsed": true
   },
   "outputs": [],
   "source": [
    "best = [0.964258274281,\n",
    "        0.823949256842,\n",
    "        0.952029031574,\n",
    "        0.937509717487,\n",
    "        0.636482757856 ,\n",
    "        0.665704540131,\n",
    "        0.729408271574,\n",
    "        0.661435393834,\n",
    "        0.672383090161]"
   ]
  },
  {
   "cell_type": "code",
   "execution_count": 35,
   "metadata": {},
   "outputs": [
    {
     "data": {
      "text/plain": [
       "[0.074747811588211199,\n",
       " 0.022250157507295643,\n",
       " 0.043712253654949351,\n",
       " 0.037763521814593637,\n",
       " -0.0078093834497932058,\n",
       " 0.086553570034185512,\n",
       " 0.039399487688886015,\n",
       " 0.050362337396429591,\n",
       " -0.10092779648322003]"
      ]
     },
     "execution_count": 35,
     "metadata": {},
     "output_type": "execute_result"
    }
   ],
   "source": [
    "list(map(lambda x: x[0]-x[1], zip(best, vali_ad_lassoauc)))#0.00005,0.00003#0.00004"
   ]
  },
  {
   "cell_type": "code",
   "execution_count": 18,
   "metadata": {
    "collapsed": true
   },
   "outputs": [],
   "source": [
    "# import pickle\n",
    "# pickle.dump(lasso_model,open('lasso_model.sav','wb'))"
   ]
  },
  {
   "cell_type": "code",
   "execution_count": 19,
   "metadata": {
    "collapsed": true
   },
   "outputs": [],
   "source": [
    "from sklearn.linear_model import Lasso\n",
    "lasso_model = pickle.load(open('lasso_model.sav','rb'))"
   ]
  },
  {
   "cell_type": "code",
   "execution_count": null,
   "metadata": {
    "collapsed": true
   },
   "outputs": [],
   "source": [
    "# LR validation results\n",
    "# ad 1458 : RMSE 0.240054189116 AUC 0.951993664027\n",
    "# ad 3476 : RMSE 0.350240830746 AUC 0.659825493622\n",
    "# ad 3427 : RMSE 0.295330816321 AUC 0.919187283676\n",
    "# ad 3358 : RMSE 0.265198623833 AUC 0.898056721654\n",
    "# ad 2259 : RMSE 0.337446378231 AUC 0.659415030362\n",
    "# ad 2821 : RMSE 0.430764933074 AUC 0.614430434104\n",
    "# ad 3386 : RMSE 0.437116856603 AUC 0.656655289915\n",
    "# ad 2997 : RMSE 0.480052104172 AUC 0.61804773123\n",
    "# ad 2261 : RMSE 0.2872565263 AUC 0.53164234942"
   ]
  },
  {
   "cell_type": "code",
   "execution_count": 20,
   "metadata": {},
   "outputs": [
    {
     "ename": "MemoryError",
     "evalue": "",
     "output_type": "error",
     "traceback": [
      "\u001b[1;31m---------------------------------------------------------------------------\u001b[0m",
      "\u001b[1;31mMemoryError\u001b[0m                               Traceback (most recent call last)",
      "\u001b[1;32m<ipython-input-20-87b4dbd7c7fd>\u001b[0m in \u001b[0;36m<module>\u001b[1;34m()\u001b[0m\n\u001b[0;32m      5\u001b[0m \u001b[1;32mfor\u001b[0m \u001b[0mi\u001b[0m \u001b[1;32min\u001b[0m \u001b[0mrange\u001b[0m\u001b[1;33m(\u001b[0m\u001b[0mad_len\u001b[0m\u001b[1;33m)\u001b[0m\u001b[1;33m:\u001b[0m\u001b[1;33m\u001b[0m\u001b[0m\n\u001b[0;32m      6\u001b[0m     \u001b[0mpipe_model\u001b[0m\u001b[1;33m.\u001b[0m\u001b[0mappend\u001b[0m\u001b[1;33m(\u001b[0m\u001b[0mPipeline\u001b[0m\u001b[1;33m(\u001b[0m\u001b[1;33m[\u001b[0m\u001b[1;33m(\u001b[0m\u001b[1;34m'feature_selection'\u001b[0m\u001b[1;33m,\u001b[0m \u001b[0mSelectFromModel\u001b[0m\u001b[1;33m(\u001b[0m\u001b[0mlasso_model\u001b[0m\u001b[1;33m[\u001b[0m\u001b[0mi\u001b[0m\u001b[1;33m]\u001b[0m\u001b[1;33m)\u001b[0m\u001b[1;33m)\u001b[0m\u001b[1;33m,\u001b[0m\u001b[1;33m(\u001b[0m\u001b[1;34m'classification'\u001b[0m\u001b[1;33m,\u001b[0m\u001b[0mrf_model\u001b[0m\u001b[1;33m[\u001b[0m\u001b[0mi\u001b[0m\u001b[1;33m]\u001b[0m\u001b[1;33m)\u001b[0m\u001b[1;33m]\u001b[0m\u001b[1;33m)\u001b[0m\u001b[1;33m)\u001b[0m\u001b[1;33m\u001b[0m\u001b[0m\n\u001b[1;32m----> 7\u001b[1;33m     \u001b[0mpipe_model\u001b[0m\u001b[1;33m[\u001b[0m\u001b[0mi\u001b[0m\u001b[1;33m]\u001b[0m\u001b[1;33m.\u001b[0m\u001b[0mfit\u001b[0m\u001b[1;33m(\u001b[0m\u001b[0mtrain_ad_onehot\u001b[0m\u001b[1;33m[\u001b[0m\u001b[0mi\u001b[0m\u001b[1;33m]\u001b[0m\u001b[1;33m,\u001b[0m\u001b[0mtrain_ad_click\u001b[0m\u001b[1;33m[\u001b[0m\u001b[0mi\u001b[0m\u001b[1;33m]\u001b[0m\u001b[1;33m)\u001b[0m\u001b[1;33m\u001b[0m\u001b[0m\n\u001b[0m",
      "\u001b[1;32mC:\\Users\\he_yo\\Anaconda3\\lib\\site-packages\\sklearn\\pipeline.py\u001b[0m in \u001b[0;36mfit\u001b[1;34m(self, X, y, **fit_params)\u001b[0m\n\u001b[0;32m    266\u001b[0m             \u001b[0mThis\u001b[0m \u001b[0mestimator\u001b[0m\u001b[1;33m\u001b[0m\u001b[0m\n\u001b[0;32m    267\u001b[0m         \"\"\"\n\u001b[1;32m--> 268\u001b[1;33m         \u001b[0mXt\u001b[0m\u001b[1;33m,\u001b[0m \u001b[0mfit_params\u001b[0m \u001b[1;33m=\u001b[0m \u001b[0mself\u001b[0m\u001b[1;33m.\u001b[0m\u001b[0m_fit\u001b[0m\u001b[1;33m(\u001b[0m\u001b[0mX\u001b[0m\u001b[1;33m,\u001b[0m \u001b[0my\u001b[0m\u001b[1;33m,\u001b[0m \u001b[1;33m**\u001b[0m\u001b[0mfit_params\u001b[0m\u001b[1;33m)\u001b[0m\u001b[1;33m\u001b[0m\u001b[0m\n\u001b[0m\u001b[0;32m    269\u001b[0m         \u001b[1;32mif\u001b[0m \u001b[0mself\u001b[0m\u001b[1;33m.\u001b[0m\u001b[0m_final_estimator\u001b[0m \u001b[1;32mis\u001b[0m \u001b[1;32mnot\u001b[0m \u001b[1;32mNone\u001b[0m\u001b[1;33m:\u001b[0m\u001b[1;33m\u001b[0m\u001b[0m\n\u001b[0;32m    270\u001b[0m             \u001b[0mself\u001b[0m\u001b[1;33m.\u001b[0m\u001b[0m_final_estimator\u001b[0m\u001b[1;33m.\u001b[0m\u001b[0mfit\u001b[0m\u001b[1;33m(\u001b[0m\u001b[0mXt\u001b[0m\u001b[1;33m,\u001b[0m \u001b[0my\u001b[0m\u001b[1;33m,\u001b[0m \u001b[1;33m**\u001b[0m\u001b[0mfit_params\u001b[0m\u001b[1;33m)\u001b[0m\u001b[1;33m\u001b[0m\u001b[0m\n",
      "\u001b[1;32mC:\\Users\\he_yo\\Anaconda3\\lib\\site-packages\\sklearn\\pipeline.py\u001b[0m in \u001b[0;36m_fit\u001b[1;34m(self, X, y, **fit_params)\u001b[0m\n\u001b[0;32m    232\u001b[0m                 \u001b[1;32mpass\u001b[0m\u001b[1;33m\u001b[0m\u001b[0m\n\u001b[0;32m    233\u001b[0m             \u001b[1;32melif\u001b[0m \u001b[0mhasattr\u001b[0m\u001b[1;33m(\u001b[0m\u001b[0mtransform\u001b[0m\u001b[1;33m,\u001b[0m \u001b[1;34m\"fit_transform\"\u001b[0m\u001b[1;33m)\u001b[0m\u001b[1;33m:\u001b[0m\u001b[1;33m\u001b[0m\u001b[0m\n\u001b[1;32m--> 234\u001b[1;33m                 \u001b[0mXt\u001b[0m \u001b[1;33m=\u001b[0m \u001b[0mtransform\u001b[0m\u001b[1;33m.\u001b[0m\u001b[0mfit_transform\u001b[0m\u001b[1;33m(\u001b[0m\u001b[0mXt\u001b[0m\u001b[1;33m,\u001b[0m \u001b[0my\u001b[0m\u001b[1;33m,\u001b[0m \u001b[1;33m**\u001b[0m\u001b[0mfit_params_steps\u001b[0m\u001b[1;33m[\u001b[0m\u001b[0mname\u001b[0m\u001b[1;33m]\u001b[0m\u001b[1;33m)\u001b[0m\u001b[1;33m\u001b[0m\u001b[0m\n\u001b[0m\u001b[0;32m    235\u001b[0m             \u001b[1;32melse\u001b[0m\u001b[1;33m:\u001b[0m\u001b[1;33m\u001b[0m\u001b[0m\n\u001b[0;32m    236\u001b[0m                 \u001b[0mXt\u001b[0m \u001b[1;33m=\u001b[0m \u001b[0mtransform\u001b[0m\u001b[1;33m.\u001b[0m\u001b[0mfit\u001b[0m\u001b[1;33m(\u001b[0m\u001b[0mXt\u001b[0m\u001b[1;33m,\u001b[0m \u001b[0my\u001b[0m\u001b[1;33m,\u001b[0m \u001b[1;33m**\u001b[0m\u001b[0mfit_params_steps\u001b[0m\u001b[1;33m[\u001b[0m\u001b[0mname\u001b[0m\u001b[1;33m]\u001b[0m\u001b[1;33m)\u001b[0m\u001b[0;31m \u001b[0m\u001b[0;31m\\\u001b[0m\u001b[1;33m\u001b[0m\u001b[0m\n",
      "\u001b[1;32mC:\\Users\\he_yo\\Anaconda3\\lib\\site-packages\\sklearn\\base.py\u001b[0m in \u001b[0;36mfit_transform\u001b[1;34m(self, X, y, **fit_params)\u001b[0m\n\u001b[0;32m    495\u001b[0m         \u001b[1;32melse\u001b[0m\u001b[1;33m:\u001b[0m\u001b[1;33m\u001b[0m\u001b[0m\n\u001b[0;32m    496\u001b[0m             \u001b[1;31m# fit method of arity 2 (supervised transformation)\u001b[0m\u001b[1;33m\u001b[0m\u001b[1;33m\u001b[0m\u001b[0m\n\u001b[1;32m--> 497\u001b[1;33m             \u001b[1;32mreturn\u001b[0m \u001b[0mself\u001b[0m\u001b[1;33m.\u001b[0m\u001b[0mfit\u001b[0m\u001b[1;33m(\u001b[0m\u001b[0mX\u001b[0m\u001b[1;33m,\u001b[0m \u001b[0my\u001b[0m\u001b[1;33m,\u001b[0m \u001b[1;33m**\u001b[0m\u001b[0mfit_params\u001b[0m\u001b[1;33m)\u001b[0m\u001b[1;33m.\u001b[0m\u001b[0mtransform\u001b[0m\u001b[1;33m(\u001b[0m\u001b[0mX\u001b[0m\u001b[1;33m)\u001b[0m\u001b[1;33m\u001b[0m\u001b[0m\n\u001b[0m\u001b[0;32m    498\u001b[0m \u001b[1;33m\u001b[0m\u001b[0m\n\u001b[0;32m    499\u001b[0m \u001b[1;33m\u001b[0m\u001b[0m\n",
      "\u001b[1;32mC:\\Users\\he_yo\\Anaconda3\\lib\\site-packages\\sklearn\\feature_selection\\from_model.py\u001b[0m in \u001b[0;36mfit\u001b[1;34m(self, X, y, **fit_params)\u001b[0m\n\u001b[0;32m    226\u001b[0m                 \"Since 'prefit=True', call transform directly\")\n\u001b[0;32m    227\u001b[0m         \u001b[0mself\u001b[0m\u001b[1;33m.\u001b[0m\u001b[0mestimator_\u001b[0m \u001b[1;33m=\u001b[0m \u001b[0mclone\u001b[0m\u001b[1;33m(\u001b[0m\u001b[0mself\u001b[0m\u001b[1;33m.\u001b[0m\u001b[0mestimator\u001b[0m\u001b[1;33m)\u001b[0m\u001b[1;33m\u001b[0m\u001b[0m\n\u001b[1;32m--> 228\u001b[1;33m         \u001b[0mself\u001b[0m\u001b[1;33m.\u001b[0m\u001b[0mestimator_\u001b[0m\u001b[1;33m.\u001b[0m\u001b[0mfit\u001b[0m\u001b[1;33m(\u001b[0m\u001b[0mX\u001b[0m\u001b[1;33m,\u001b[0m \u001b[0my\u001b[0m\u001b[1;33m,\u001b[0m \u001b[1;33m**\u001b[0m\u001b[0mfit_params\u001b[0m\u001b[1;33m)\u001b[0m\u001b[1;33m\u001b[0m\u001b[0m\n\u001b[0m\u001b[0;32m    229\u001b[0m         \u001b[1;32mreturn\u001b[0m \u001b[0mself\u001b[0m\u001b[1;33m\u001b[0m\u001b[0m\n\u001b[0;32m    230\u001b[0m \u001b[1;33m\u001b[0m\u001b[0m\n",
      "\u001b[1;32mC:\\Users\\he_yo\\Anaconda3\\lib\\site-packages\\sklearn\\linear_model\\coordinate_descent.py\u001b[0m in \u001b[0;36mfit\u001b[1;34m(self, X, y, check_input)\u001b[0m\n\u001b[0;32m    680\u001b[0m                              \u001b[0morder\u001b[0m\u001b[1;33m=\u001b[0m\u001b[1;34m'F'\u001b[0m\u001b[1;33m,\u001b[0m \u001b[0mdtype\u001b[0m\u001b[1;33m=\u001b[0m\u001b[1;33m[\u001b[0m\u001b[0mnp\u001b[0m\u001b[1;33m.\u001b[0m\u001b[0mfloat64\u001b[0m\u001b[1;33m,\u001b[0m \u001b[0mnp\u001b[0m\u001b[1;33m.\u001b[0m\u001b[0mfloat32\u001b[0m\u001b[1;33m]\u001b[0m\u001b[1;33m,\u001b[0m\u001b[1;33m\u001b[0m\u001b[0m\n\u001b[0;32m    681\u001b[0m                              \u001b[0mcopy\u001b[0m\u001b[1;33m=\u001b[0m\u001b[0mself\u001b[0m\u001b[1;33m.\u001b[0m\u001b[0mcopy_X\u001b[0m \u001b[1;32mand\u001b[0m \u001b[0mself\u001b[0m\u001b[1;33m.\u001b[0m\u001b[0mfit_intercept\u001b[0m\u001b[1;33m,\u001b[0m\u001b[1;33m\u001b[0m\u001b[0m\n\u001b[1;32m--> 682\u001b[1;33m                              multi_output=True, y_numeric=True)\n\u001b[0m\u001b[0;32m    683\u001b[0m             y = check_array(y, order='F', copy=False, dtype=X.dtype.type,\n\u001b[0;32m    684\u001b[0m                             ensure_2d=False)\n",
      "\u001b[1;32mC:\\Users\\he_yo\\Anaconda3\\lib\\site-packages\\sklearn\\utils\\validation.py\u001b[0m in \u001b[0;36mcheck_X_y\u001b[1;34m(X, y, accept_sparse, dtype, order, copy, force_all_finite, ensure_2d, allow_nd, multi_output, ensure_min_samples, ensure_min_features, y_numeric, warn_on_dtype, estimator)\u001b[0m\n\u001b[0;32m    519\u001b[0m     X = check_array(X, accept_sparse, dtype, order, copy, force_all_finite,\n\u001b[0;32m    520\u001b[0m                     \u001b[0mensure_2d\u001b[0m\u001b[1;33m,\u001b[0m \u001b[0mallow_nd\u001b[0m\u001b[1;33m,\u001b[0m \u001b[0mensure_min_samples\u001b[0m\u001b[1;33m,\u001b[0m\u001b[1;33m\u001b[0m\u001b[0m\n\u001b[1;32m--> 521\u001b[1;33m                     ensure_min_features, warn_on_dtype, estimator)\n\u001b[0m\u001b[0;32m    522\u001b[0m     \u001b[1;32mif\u001b[0m \u001b[0mmulti_output\u001b[0m\u001b[1;33m:\u001b[0m\u001b[1;33m\u001b[0m\u001b[0m\n\u001b[0;32m    523\u001b[0m         y = check_array(y, 'csr', force_all_finite=True, ensure_2d=False,\n",
      "\u001b[1;32mC:\\Users\\he_yo\\Anaconda3\\lib\\site-packages\\sklearn\\utils\\validation.py\u001b[0m in \u001b[0;36mcheck_array\u001b[1;34m(array, accept_sparse, dtype, order, copy, force_all_finite, ensure_2d, allow_nd, ensure_min_samples, ensure_min_features, warn_on_dtype, estimator)\u001b[0m\n\u001b[0;32m    380\u001b[0m                                       force_all_finite)\n\u001b[0;32m    381\u001b[0m     \u001b[1;32melse\u001b[0m\u001b[1;33m:\u001b[0m\u001b[1;33m\u001b[0m\u001b[0m\n\u001b[1;32m--> 382\u001b[1;33m         \u001b[0marray\u001b[0m \u001b[1;33m=\u001b[0m \u001b[0mnp\u001b[0m\u001b[1;33m.\u001b[0m\u001b[0marray\u001b[0m\u001b[1;33m(\u001b[0m\u001b[0marray\u001b[0m\u001b[1;33m,\u001b[0m \u001b[0mdtype\u001b[0m\u001b[1;33m=\u001b[0m\u001b[0mdtype\u001b[0m\u001b[1;33m,\u001b[0m \u001b[0morder\u001b[0m\u001b[1;33m=\u001b[0m\u001b[0morder\u001b[0m\u001b[1;33m,\u001b[0m \u001b[0mcopy\u001b[0m\u001b[1;33m=\u001b[0m\u001b[0mcopy\u001b[0m\u001b[1;33m)\u001b[0m\u001b[1;33m\u001b[0m\u001b[0m\n\u001b[0m\u001b[0;32m    383\u001b[0m \u001b[1;33m\u001b[0m\u001b[0m\n\u001b[0;32m    384\u001b[0m         \u001b[1;32mif\u001b[0m \u001b[0mensure_2d\u001b[0m\u001b[1;33m:\u001b[0m\u001b[1;33m\u001b[0m\u001b[0m\n",
      "\u001b[1;31mMemoryError\u001b[0m: "
     ]
    }
   ],
   "source": [
    "from sklearn.feature_selection import SelectFromModel\n",
    "from sklearn.pipeline import Pipeline\n",
    "pipe_model = []\n",
    "\n",
    "for i in range(ad_len):\n",
    "    pipe_model.append(Pipeline([('feature_selection', SelectFromModel(lasso_model[i])),('classification',rf_model[i])]))\n",
    "    pipe_model[i].fit(train_ad_onehot[i],train_ad_click[i])"
   ]
  },
  {
   "cell_type": "code",
   "execution_count": null,
   "metadata": {
    "collapsed": true
   },
   "outputs": [],
   "source": [
    "pipe_pd = []\n",
    "pipe_rmse = []\n",
    "pipe_auc = []\n",
    "for i in range(ad_len):\n",
    "    \n",
    "    pipe_pd.append((pipe_model[i].predict_proba(vali_ad_onehot[i]))[:,1])\n",
    "    pipe_rmse.append(rmse(vali_ad_click[i],pipe_pd[i]))\n",
    "    pipe_auc.append(auc(vali_ad_click[i],pipe_pd[i]))"
   ]
  },
  {
   "cell_type": "code",
   "execution_count": null,
   "metadata": {
    "collapsed": true
   },
   "outputs": [],
   "source": [
    "j = 0\n",
    "print('pipe+rf validation results')\n",
    "for i in ad_name:    \n",
    "    print('ad',i,':','RMSE',pipe_rmse[j],'AUC',pipe_auc[j])\n",
    "    j+=1"
   ]
  },
  {
   "cell_type": "code",
   "execution_count": 60,
   "metadata": {},
   "outputs": [
    {
     "name": "stdout",
     "output_type": "stream",
     "text": [
      "pipe+rf validation results\n",
      "ad 1458 : RMSE 0.769013785999 AUC 0.650003001251\n",
      "ad 3476 : RMSE 0.68768011187 AUC 0.615230079764\n",
      "ad 3427 : RMSE 0.473224747424 AUC 0.688287596242\n",
      "ad 3358 : RMSE 0.344162001414 AUC 0.719114268884\n",
      "ad 2259 : RMSE 0.343447953261 AUC 0.499238176499\n",
      "ad 2821 : RMSE 0.69972076961 AUC 0.501756714553\n",
      "ad 3386 : RMSE 0.503582203109 AUC 0.543935905655\n",
      "ad 2997 : RMSE 0.428160691195 AUC 0.490307794735\n",
      "ad 2261 : RMSE 0.347741798059 AUC 0.499812944257\n"
     ]
    }
   ],
   "source": [
    "j = 0\n",
    "print('pipe+rf validation results')\n",
    "for i in ad_name:    \n",
    "    print('ad',i,':','RMSE',pipe_rmse[j],'AUC',pipe_auc[j])\n",
    "    j+=1"
   ]
  },
  {
   "cell_type": "markdown",
   "metadata": {
    "collapsed": true
   },
   "source": [
    "# Save Results"
   ]
  },
  {
   "cell_type": "code",
   "execution_count": 65,
   "metadata": {
    "collapsed": true
   },
   "outputs": [],
   "source": [
    "files = ['xgb_result','rf_result','rf_bag_result','etc_result','etc_bag_result','gbc_result','gbc_bag_result','adb_result','adb_bag_result']"
   ]
  },
  {
   "cell_type": "code",
   "execution_count": 66,
   "metadata": {
    "collapsed": true
   },
   "outputs": [],
   "source": [
    "def result_save (pd, auc, rmse):\n",
    "    result = []\n",
    "    result.append(pd)\n",
    "    result.append(auc)\n",
    "    result.append(rmse)\n",
    "    \n",
    "    return result"
   ]
  },
  {
   "cell_type": "code",
   "execution_count": 67,
   "metadata": {
    "collapsed": true
   },
   "outputs": [],
   "source": [
    "#bag_model = [rf_bag, etr_bag, gbc_bag, adb_bag] \n",
    "\n",
    "xgb_result = result_save (vali_ad_pd, vali_ad_auc, vali_ad_rmse,)\n",
    "rf_result = result_save (vali_ad_rfpd, vali_ad_rfauc, vali_ad_rfrmse)\n",
    "rf_bag_result = result_save (bag_prob[0],bag_auc[0],bag_rmse[0])\n",
    "etc_result = result_save (vali_ad_etrpd, vali_ad_etrauc, vali_ad_etrrmse)\n",
    "etc_bag_result = result_save (bag_prob[1],bag_auc[1],bag_rmse[1])\n",
    "gbc_result = result_save (vali_ad_gbcpd, vali_ad_gbcauc, vali_ad_gbcrmse)\n",
    "gbc_bag_result = result_save (bag_prob[2],bag_auc[2],bag_rmse[2])\n",
    "adb_result = result_save (vali_ad_rfpd, vali_ad_rfauc, vali_ad_rfrmse)\n",
    "adb_bag_result = result_save (bag_prob[3],bag_auc[3],bag_rmse[3])"
   ]
  },
  {
   "cell_type": "code",
   "execution_count": 71,
   "metadata": {
    "collapsed": true
   },
   "outputs": [],
   "source": [
    "result_list = [xgb_result,rf_result,rf_bag_result,etc_result,etc_bag_result,gbc_result,gbc_bag_result,adb_result,adb_bag_result]"
   ]
  },
  {
   "cell_type": "code",
   "execution_count": 73,
   "metadata": {
    "collapsed": true
   },
   "outputs": [],
   "source": [
    "import pickle\n",
    "j = 0\n",
    "for i in files:\n",
    "    with open(i+\".txt\", \"wb\") as fp:\n",
    "        pickle.dump(result_list[j], fp)\n",
    "    j+=1"
   ]
  },
  {
   "cell_type": "code",
   "execution_count": null,
   "metadata": {
    "collapsed": true
   },
   "outputs": [],
   "source": []
  },
  {
   "cell_type": "code",
   "execution_count": null,
   "metadata": {
    "collapsed": true
   },
   "outputs": [],
   "source": []
  }
 ],
 "metadata": {
  "kernelspec": {
   "display_name": "Python 3",
   "language": "python",
   "name": "python3"
  },
  "language_info": {
   "codemirror_mode": {
    "name": "ipython",
    "version": 3
   },
   "file_extension": ".py",
   "mimetype": "text/x-python",
   "name": "python",
   "nbconvert_exporter": "python",
   "pygments_lexer": "ipython3",
   "version": "3.6.1"
  }
 },
 "nbformat": 4,
 "nbformat_minor": 1
}
