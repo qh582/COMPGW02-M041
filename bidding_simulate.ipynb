{
 "cells": [
  {
   "cell_type": "code",
   "execution_count": 35,
   "metadata": {
    "collapsed": false
   },
   "outputs": [],
   "source": [
    "import pandas as pd\n",
    "import numpy as np\n",
    "# from sklearn.preprocessing import OneHotEncoder\n",
    "# import time\n",
    "import warnings\n",
    "warnings.filterwarnings('ignore')\n",
    "\n",
    "# enc = OneHotEncoder()\n",
    "path = 'data/'\n",
    "train = pd.read_csv(path+'train.csv')\n",
    "vali = pd.read_csv(path+'validation.csv')\n",
    "test = pd.read_csv(path+'test.csv')\n",
    "# start_time = time.time()"
   ]
  },
  {
   "cell_type": "code",
   "execution_count": 36,
   "metadata": {
    "collapsed": false
   },
   "outputs": [],
   "source": [
    "# train_onehot = pd.read_csv('train_onehot.csv')\n",
    "vali_onehot = pd.read_csv('vali_onehot.csv')"
   ]
  },
  {
   "cell_type": "code",
   "execution_count": 37,
   "metadata": {
    "collapsed": false
   },
   "outputs": [
    {
     "data": {
      "text/plain": [
       "['weekday_0',\n",
       " 'weekday_1',\n",
       " 'weekday_2',\n",
       " 'weekday_3',\n",
       " 'weekday_4',\n",
       " 'weekday_5',\n",
       " 'weekday_6',\n",
       " 'hour_0',\n",
       " 'hour_1',\n",
       " 'hour_10',\n",
       " 'hour_11',\n",
       " 'hour_12',\n",
       " 'hour_13',\n",
       " 'hour_14',\n",
       " 'hour_15',\n",
       " 'hour_16',\n",
       " 'hour_17',\n",
       " 'hour_18',\n",
       " 'hour_19',\n",
       " 'hour_2',\n",
       " 'hour_20',\n",
       " 'hour_21',\n",
       " 'hour_22',\n",
       " 'hour_23',\n",
       " 'hour_3',\n",
       " 'hour_4',\n",
       " 'hour_5',\n",
       " 'hour_6',\n",
       " 'hour_7',\n",
       " 'hour_8',\n",
       " 'hour_9',\n",
       " 'logtype_1',\n",
       " 'region_0',\n",
       " 'region_1',\n",
       " 'region_106',\n",
       " 'region_124',\n",
       " 'region_134',\n",
       " 'region_146',\n",
       " 'region_15',\n",
       " 'region_164',\n",
       " 'region_183',\n",
       " 'region_2',\n",
       " 'region_201',\n",
       " 'region_216',\n",
       " 'region_238',\n",
       " 'region_253',\n",
       " 'region_27',\n",
       " 'region_275',\n",
       " 'region_276',\n",
       " 'region_298',\n",
       " 'region_3',\n",
       " 'region_308',\n",
       " 'region_325',\n",
       " 'region_333',\n",
       " 'region_344',\n",
       " 'region_359',\n",
       " 'region_368',\n",
       " 'region_374',\n",
       " 'region_393',\n",
       " 'region_394',\n",
       " 'region_395',\n",
       " 'region_40',\n",
       " 'region_55',\n",
       " 'region_65',\n",
       " 'region_79',\n",
       " 'region_80',\n",
       " 'region_94',\n",
       " 'adexchange_1',\n",
       " 'adexchange_2',\n",
       " 'adexchange_3',\n",
       " 'adexchange_4',\n",
       " 'adexchange_null',\n",
       " 'slotvisibility_0',\n",
       " 'slotvisibility_1',\n",
       " 'slotvisibility_2',\n",
       " 'slotvisibility_255',\n",
       " 'slotvisibility_FifthView',\n",
       " 'slotvisibility_FirstView',\n",
       " 'slotvisibility_FourthView',\n",
       " 'slotvisibility_Na',\n",
       " 'slotvisibility_OtherView',\n",
       " 'slotvisibility_SecondView',\n",
       " 'slotvisibility_ThirdView',\n",
       " 'slotformat_0',\n",
       " 'slotformat_1',\n",
       " 'slotformat_5',\n",
       " 'slotformat_Na',\n",
       " 'keypage_0f951a030abdaedd733ee8d114ce2944',\n",
       " 'keypage_15b749127478946f161a54dc0dad27c8',\n",
       " 'keypage_361e128affece850342293213691a043',\n",
       " 'keypage_43f4a37f42a7c5e6219e2601b26c6976',\n",
       " 'keypage_4f8e1c55abc204c2c8f1296dbc223af3',\n",
       " 'keypage_7e0e909ea89f707bc20f9585c9072081',\n",
       " 'keypage_9be83422522025c09a44593ecd1af8ca',\n",
       " 'keypage_a3becb967c015e9acb5e72f22b100ef8',\n",
       " 'keypage_a5d0bde104fea52ea466c77b37948424',\n",
       " 'keypage_a8f8eeaae5c1e2e9924328e78d9925a5',\n",
       " 'keypage_aa4976c67db0f076c563a29f6697928b',\n",
       " 'keypage_b2e35064f3549d447edbbdfb1f707c8c',\n",
       " 'keypage_bebefa5efe83beee17a3d245e7c5085b',\n",
       " 'keypage_c8758e8658b05bc3a88af7b37bdf0575',\n",
       " 'keypage_d29e59bf0f7f8243858b8183f14d4412',\n",
       " 'keypage_d41d8cd98f00b204e9800998ecf8427e',\n",
       " 'keypage_d4fc4aa65f6670f7fea6862f27084fbc',\n",
       " 'keypage_f4a09c06b67d0fcce088ee6e86ca052a',\n",
       " 'keypage_null',\n",
       " 'advertiser_1458',\n",
       " 'advertiser_2259',\n",
       " 'advertiser_2261',\n",
       " 'advertiser_2821',\n",
       " 'advertiser_2997',\n",
       " 'advertiser_3358',\n",
       " 'advertiser_3386',\n",
       " 'advertiser_3427',\n",
       " 'advertiser_3476',\n",
       " 'OS_android',\n",
       " 'OS_ios',\n",
       " 'OS_linux',\n",
       " 'OS_mac',\n",
       " 'OS_other',\n",
       " 'OS_windows',\n",
       " 'creative_new_00fccc64a1ee2809348509b7ac2a97a5',\n",
       " 'creative_new_0cd33fcb336655841d3e1441b915748d',\n",
       " 'creative_new_10717',\n",
       " 'creative_new_10719',\n",
       " 'creative_new_10722',\n",
       " 'creative_new_10734',\n",
       " 'creative_new_11908',\n",
       " 'creative_new_12622',\n",
       " 'creative_new_2abc9eaf57d17a96195af3f63c45dc72',\n",
       " 'creative_new_44966cc8da1ed40c95d59e863c8c75f0',\n",
       " 'creative_new_449a22cd91d9042eda3d3a1b89a22ea8',\n",
       " 'creative_new_48f2e9ba15708c0146bda5e1dd653caa',\n",
       " 'creative_new_4ad7e35171a3d8de73bb862791575f2e',\n",
       " 'creative_new_4b724cd63dfb905ebcd54e64572c646d',\n",
       " 'creative_new_59f065a795a663140e36eec106464524',\n",
       " 'creative_new_612599432d200b093719dd1f372f7a30',\n",
       " 'creative_new_7184c9560e68e977187e67e45a4f3198',\n",
       " 'creative_new_7323',\n",
       " 'creative_new_7330',\n",
       " 'creative_new_7336',\n",
       " 'creative_new_77819d3e0b3467fe5c7b16d68ad923a1',\n",
       " 'creative_new_832b91d59d0cb5731431653204a76c0e',\n",
       " 'creative_new_86c2543527c86a893d4d4f68810a0416',\n",
       " 'creative_new_911b2d84826786018761e8c0b0a3a60c',\n",
       " 'creative_new_a10c31a8ff5f42930b4c34035e523886',\n",
       " 'creative_new_a499988a822facd86dd0e8e4ffef8532',\n",
       " 'creative_new_b90c12ed2bd7950c6027bf9c6937c48a',\n",
       " 'creative_new_c46090c887c257b61ab1fa11baee91d8',\n",
       " 'creative_new_cb7c76e7784031272e37af8e7e9b062c',\n",
       " 'creative_new_cc9b344e950b4f8c2b96537174a343b7',\n",
       " 'creative_new_d01411218cc79bc49d2a4078c4093b76',\n",
       " 'creative_new_d881a6c788e76c2c27ed1ef04f119544',\n",
       " 'creative_new_e1af08818a6cd6bbba118bb54a651961',\n",
       " 'creative_new_f65c8bdb41e9015970bac52baa813239',\n",
       " 'creative_new_ff5123fb9333ca095034c62fdaaf51aa',\n",
       " 'creative_new_others',\n",
       " 'Browser_chrome',\n",
       " 'Browser_firefox',\n",
       " 'Browser_ie',\n",
       " 'Browser_maxthon',\n",
       " 'Browser_opera',\n",
       " 'Browser_other',\n",
       " 'Browser_safari',\n",
       " 'Browser_sogou',\n",
       " 'Browser_theworld',\n",
       " 'IPaddress_A',\n",
       " 'IPaddress_B',\n",
       " 'IPaddress_C',\n",
       " 'IPaddress_D',\n",
       " 'IPaddress_E',\n",
       " 'test_size_1000*90',\n",
       " 'test_size_120*240',\n",
       " 'test_size_120*600',\n",
       " 'test_size_125*125',\n",
       " 'test_size_160*600',\n",
       " 'test_size_180*150',\n",
       " 'test_size_180*600',\n",
       " 'test_size_200*200',\n",
       " 'test_size_234*60',\n",
       " 'test_size_250*230',\n",
       " 'test_size_250*250',\n",
       " 'test_size_300*100',\n",
       " 'test_size_300*250',\n",
       " 'test_size_300*300',\n",
       " 'test_size_300*600',\n",
       " 'test_size_320*50',\n",
       " 'test_size_336*280',\n",
       " 'test_size_360*300',\n",
       " 'test_size_468*60',\n",
       " 'test_size_620*60',\n",
       " 'test_size_640*90',\n",
       " 'test_size_728*90',\n",
       " 'test_size_760*90',\n",
       " 'test_size_910*90',\n",
       " 'test_size_950*90',\n",
       " 'test_size_960*60',\n",
       " 'test_size_960*90',\n",
       " 'test_size_980*80',\n",
       " 'test_size_980*90',\n",
       " 'slotvisibility_s_255',\n",
       " 'slotvisibility_s_FifthView',\n",
       " 'slotvisibility_s_FirstView',\n",
       " 'slotvisibility_s_FourthView',\n",
       " 'slotvisibility_s_Na',\n",
       " 'slotvisibility_s_OtherView',\n",
       " 'slotvisibility_s_SecondView',\n",
       " 'slotvisibility_s_ThirdView',\n",
       " 'platform_PC',\n",
       " 'platform_other',\n",
       " 'platform_phone',\n",
       " '10006',\n",
       " '10024',\n",
       " '10031',\n",
       " '10048',\n",
       " '10052',\n",
       " '10057',\n",
       " '10059',\n",
       " '10063',\n",
       " '10067',\n",
       " '10074',\n",
       " '10075',\n",
       " '10076',\n",
       " '10077',\n",
       " '10079',\n",
       " '10083',\n",
       " '10093',\n",
       " '10102',\n",
       " '10110',\n",
       " '10111',\n",
       " '10114',\n",
       " '10115',\n",
       " '10116',\n",
       " '10117',\n",
       " '10118',\n",
       " '10120',\n",
       " '10123',\n",
       " '10125',\n",
       " '10126',\n",
       " '10127',\n",
       " '10129',\n",
       " '10130',\n",
       " '10131',\n",
       " '10133',\n",
       " '10138',\n",
       " '10140',\n",
       " '10142',\n",
       " '10145',\n",
       " '10146',\n",
       " '10147',\n",
       " '10148',\n",
       " '10149',\n",
       " '10684',\n",
       " '11092',\n",
       " '11278',\n",
       " '11379',\n",
       " '11423',\n",
       " '11512',\n",
       " '11576',\n",
       " '11632',\n",
       " '11680',\n",
       " '11724',\n",
       " '11944',\n",
       " '13042',\n",
       " '13403',\n",
       " '13496',\n",
       " '13678',\n",
       " '13776',\n",
       " '13800',\n",
       " '13866',\n",
       " '13874',\n",
       " '14273',\n",
       " '15398',\n",
       " '16593',\n",
       " '16617',\n",
       " '16661',\n",
       " '16706',\n",
       " '16751',\n",
       " '16753',\n",
       " 'null']"
      ]
     },
     "execution_count": 37,
     "metadata": {},
     "output_type": "execute_result"
    }
   ],
   "source": [
    "list(vali_onehot.head())"
   ]
  },
  {
   "cell_type": "code",
   "execution_count": 38,
   "metadata": {
    "collapsed": false
   },
   "outputs": [
    {
     "data": {
      "text/plain": [
       "[0.00083473226564105031,\n",
       " 0.00050464562342478474,\n",
       " 0.00074884754565216914,\n",
       " 0.00076448084204447765,\n",
       " 0.00030658545558598702,\n",
       " 0.00062225602378400803,\n",
       " 0.0007180766777520589,\n",
       " 0.0046066034099877034,\n",
       " 0.00030675100937663219]"
      ]
     },
     "execution_count": 38,
     "metadata": {},
     "output_type": "execute_result"
    }
   ],
   "source": [
    "ad_ctr = []\n",
    "ad_name = [1458,3476,3427,3358,2259,2821,3386,2997,2261]\n",
    "for i in ad_name:\n",
    "    ad_ctr.append(train['click'][train['advertiser']==i].value_counts(normalize = True)[1])\n",
    "ad_len = len(ad_name)\n",
    "ad_ctr"
   ]
  },
  {
   "cell_type": "code",
   "execution_count": 39,
   "metadata": {
    "collapsed": true
   },
   "outputs": [],
   "source": [
    "def dataprocessing (data,data_onehot):\n",
    "    slotprice = data['slotprice']\n",
    "    bidprice = data['bidprice']\n",
    "    payprice = data['payprice']\n",
    "    click = data['click']\n",
    "    \n",
    "    ad_onehot = []\n",
    "    \n",
    "    ad_onehot = []\n",
    "    for i in ad_name:\n",
    "        ad_onehot.append(data_onehot[data_onehot[\"advertiser_\"+str(i)]==1]) \n",
    "    \n",
    "    ad_click = []\n",
    "    for i in ad_name:\n",
    "        ad_click.append(data['click'][data['advertiser']==i])\n",
    "        \n",
    "    return ad_onehot, ad_click, slotprice, bidprice, payprice"
   ]
  },
  {
   "cell_type": "code",
   "execution_count": 40,
   "metadata": {
    "collapsed": false
   },
   "outputs": [],
   "source": [
    "# train_ad_onehot,train_ad_click,train_slotprice,train_bidprice,train_payprice = dataprocessing(train,train_onehot)\n",
    "vali_ad_onehot,vali_ad_click,vali_slotprice,vali_bidprice,vali_payprice = dataprocessing(vali,vali_onehot)"
   ]
  },
  {
   "cell_type": "code",
   "execution_count": 41,
   "metadata": {
    "collapsed": false
   },
   "outputs": [],
   "source": [
    "from sklearn.metrics import mean_squared_error\n",
    "def rmse(y_true, y_pred):\n",
    "    return np.sqrt(mean_squared_error(y_true, y_pred))\n",
    "from sklearn.metrics import roc_auc_score as auc"
   ]
  },
  {
   "cell_type": "code",
   "execution_count": 42,
   "metadata": {
    "collapsed": false
   },
   "outputs": [],
   "source": [
    "xgb_result =[]\n",
    "rf_result =[]\n",
    "rf_bag_result = []\n",
    "etc_result = []\n",
    "etc_bag_result = []\n",
    "gbc_result = []\n",
    "gbc_bag_result =[]\n",
    "adb_result = []\n",
    "adb_bag_result = []\n",
    "lasso_result = []\n",
    "ridge_result = []\n",
    "et_result = []"
   ]
  },
  {
   "cell_type": "code",
   "execution_count": 43,
   "metadata": {
    "collapsed": false
   },
   "outputs": [
    {
     "name": "stdout",
     "output_type": "stream",
     "text": [
      "xgb_result\n",
      "rf_result\n",
      "rf_bag_result\n",
      "etc_result\n",
      "etc_bag_result\n",
      "gbc_result\n",
      "gbc_bag_result\n",
      "adb_result\n",
      "adb_bag_result\n",
      "Lasso\n",
      "ridge\n",
      "et\n"
     ]
    }
   ],
   "source": [
    "#load files\n",
    "import pickle\n",
    "files = ['xgb_result','rf_result','rf_bag_result','etc_result','etc_bag_result','gbc_result','gbc_bag_result','adb_result','adb_bag_result','Lasso','ridge','et']\n",
    "result_list = [xgb_result,rf_result,rf_bag_result,etc_result,etc_bag_result,gbc_result,gbc_bag_result,adb_result,adb_bag_result,lasso_result,ridge_result,et_result]\n",
    "name = ['XGBoost', 'Random Forest Classifier', 'RF bagging', 'Extra Tree Classifier','ETC bagging','Gradient Boosting Classifier', 'GBC bagging','Adaboosting','ADB bagging', 'Lasso','Ridge Regression', 'ElasticNet']\n",
    "j = 0\n",
    "for i in files:\n",
    "#     with open(i+\".txt\", \"rb\") as fp:   # Unpickling\n",
    "#         result_list[j] = pickle.load(fp)\n",
    "#         j+=1\n",
    "    result_list[j] = pickle.load(open(i+'.txt', 'rb'))\n",
    "    print(i)\n",
    "    j+=1\n",
    "   "
   ]
  },
  {
   "cell_type": "code",
   "execution_count": 44,
   "metadata": {
    "collapsed": false
   },
   "outputs": [],
   "source": [
    "#compare auc and rmse for each ads\n",
    "#create a list of auc and rmse\n",
    "ads_auc = []\n",
    "ads_rmse = []\n",
    "for i in range(ad_len):\n",
    "    inter_auc = []\n",
    "    inter_rmse = []\n",
    "    for j in range(len(files)):\n",
    "        inter_auc.append(result_list[j][1][i])\n",
    "        inter_rmse.append(result_list[j][2][i])\n",
    "    ads_auc.append(inter_auc)\n",
    "    ads_rmse.append(inter_rmse)\n"
   ]
  },
  {
   "cell_type": "code",
   "execution_count": 45,
   "metadata": {
    "collapsed": false
   },
   "outputs": [
    {
     "name": "stdout",
     "output_type": "stream",
     "text": [
      "for the 0 ads\n",
      "the best rmse is model xgb_result rmse is 0.0218420981693 auc is 0.966008170071\n",
      "the best auc is model xgb_result auc is 0.966008170071 rmse is 0.0218420981693\n",
      "for the 1 ads\n",
      "the best rmse is model rf_result rmse is 0.0180653417045 auc is 0.804952272268\n",
      "the best auc is model rf_result auc is 0.804952272268 rmse is 0.0180653417045\n",
      "for the 2 ads\n",
      "the best rmse is model xgb_result rmse is 0.0245907426539 auc is 0.970605310094\n",
      "the best auc is model xgb_result auc is 0.970605310094 rmse is 0.0245907426539\n",
      "for the 3 ads\n",
      "the best rmse is model xgb_result rmse is 0.0227024799446 auc is 0.926340903666\n",
      "the best auc is model xgb_result auc is 0.926340903666 rmse is 0.0227024799446\n",
      "for the 4 ads\n",
      "the best rmse is model et rmse is 0.0258758508431 auc is 0.625645472275\n",
      "the best auc is model Lasso auc is 0.644292141306 rmse is 0.0258764216646\n",
      "for the 5 ads\n",
      "the best rmse is model Lasso rmse is 0.0249758353338 auc is 0.585621535369\n",
      "the best auc is model gbc_bag_result auc is 0.674527150999 rmse is 0.0249778689507\n",
      "for the 6 ads\n",
      "the best rmse is model ridge rmse is 0.0244054155969 auc is 0.728055531293\n",
      "the best auc is model xgb_result auc is 0.746631058697 rmse is 0.0246328486995\n",
      "for the 7 ads\n",
      "the best rmse is model Lasso rmse is 0.0654280174078 auc is 0.678118278193\n",
      "the best auc is model xgb_result auc is 0.701964688108 rmse is 0.0654375197595\n",
      "for the 8 ads\n",
      "the best rmse is model Lasso rmse is 0.0193342687271 auc is 0.773310886644\n",
      "the best auc is model Lasso auc is 0.773310886644 rmse is 0.0193342687271\n"
     ]
    }
   ],
   "source": [
    "#find best\n",
    "for i in range(ad_len):\n",
    "    print('for the',i,'ads')\n",
    "    print('the best rmse is model',files[ads_rmse[i].index(min(ads_rmse[i]))],'rmse is',min(ads_rmse[i]),'auc is',ads_auc[i][ads_rmse[i].index(min(ads_rmse[i]))])\n",
    "    print('the best auc is model',files[ads_auc[i].index(max(ads_auc[i]))],'auc is',max(ads_auc[i]),'rmse is',ads_rmse[i][ads_auc[i].index(max(ads_auc[i]))])"
   ]
  },
  {
   "cell_type": "code",
   "execution_count": 46,
   "metadata": {
    "collapsed": false
   },
   "outputs": [],
   "source": [
    "# combine the best models by look into the result of last cell\n",
    "# xgb xgb xgb gbc lasso rf rf xgb lasso\n",
    "no = [ 0, 0, 0, 5, 9, 1, 1, 0, 9]\n",
    "combine_modle = []\n",
    "j = 0\n",
    "for i in no:\n",
    "    combine_modle.append(result_list[i][0][j])\n",
    "    j+=1"
   ]
  },
  {
   "cell_type": "code",
   "execution_count": 47,
   "metadata": {
    "collapsed": false
   },
   "outputs": [
    {
     "data": {
      "text/plain": [
       "9"
      ]
     },
     "execution_count": 47,
     "metadata": {},
     "output_type": "execute_result"
    }
   ],
   "source": [
    "len(combine_modle)"
   ]
  },
  {
   "cell_type": "code",
   "execution_count": 48,
   "metadata": {
    "collapsed": false
   },
   "outputs": [
    {
     "name": "stdout",
     "output_type": "stream",
     "text": [
      "ads 0 rmse 0.0218420981693 auc 0.966008170071\n",
      "ads 1 rmse 0.0184966660166 auc 0.797117514433\n",
      "ads 2 rmse 0.0245907426539 auc 0.970605310094\n",
      "ads 3 rmse 0.0237282904513 auc 0.920677388202\n",
      "ads 4 rmse 0.0258764216646 auc 0.644292141306\n",
      "ads 5 rmse 0.0250807669506 auc 0.558995110478\n",
      "ads 6 rmse 0.0245902394732 auc 0.724251378422\n",
      "ads 7 rmse 0.0654375197595 auc 0.701964688108\n",
      "ads 8 rmse 0.0193342687271 auc 0.773310886644\n"
     ]
    }
   ],
   "source": [
    "for i in range(ad_len):\n",
    "        print('ads',i,'rmse',rmse(vali_ad_click[i],combine_modle[i]),'auc',auc(vali_ad_click[i],combine_modle[i]))"
   ]
  },
  {
   "cell_type": "code",
   "execution_count": 49,
   "metadata": {
    "collapsed": false
   },
   "outputs": [],
   "source": [
    "# merge the combine model to pctr dataframe\n",
    "ad_pctr = vali_ad_onehot\n",
    "j = 0\n",
    "for i in ad_name:\n",
    "    ad_pctr[j]['pctr'] = combine_modle[j]\n",
    "    ad_pctr[j]['ad'] = i\n",
    "    ad_pctr[j] = ad_pctr[j][['pctr','ad']]\n",
    "    j+=1\n",
    "combine_pctr = (pd.concat(ad_pctr)).sort_index()"
   ]
  },
  {
   "cell_type": "code",
   "execution_count": 50,
   "metadata": {
    "collapsed": false
   },
   "outputs": [
    {
     "data": {
      "text/plain": [
       "0.00081574728337216386"
      ]
     },
     "execution_count": 50,
     "metadata": {},
     "output_type": "execute_result"
    }
   ],
   "source": [
    "sum(combine_pctr['pctr'])/len(combine_pctr)"
   ]
  },
  {
   "cell_type": "code",
   "execution_count": 51,
   "metadata": {
    "collapsed": false
   },
   "outputs": [
    {
     "data": {
      "text/plain": [
       "0.024693648413586591"
      ]
     },
     "execution_count": 51,
     "metadata": {},
     "output_type": "execute_result"
    }
   ],
   "source": [
    "rmse(vali['click'],combine_pctr['pctr'])"
   ]
  },
  {
   "cell_type": "code",
   "execution_count": 52,
   "metadata": {
    "collapsed": false
   },
   "outputs": [
    {
     "data": {
      "text/plain": [
       "0.88047827904775666"
      ]
     },
     "execution_count": 52,
     "metadata": {},
     "output_type": "execute_result"
    }
   ],
   "source": [
    "auc(vali['click'],combine_pctr['pctr'])"
   ]
  },
  {
   "cell_type": "code",
   "execution_count": 53,
   "metadata": {
    "collapsed": true
   },
   "outputs": [],
   "source": [
    "combine_pctr.to_csv('model_combine.csv', index = False)"
   ]
  },
  {
   "cell_type": "code",
   "execution_count": 54,
   "metadata": {
    "collapsed": true
   },
   "outputs": [],
   "source": [
    "# merge the single model\n",
    "def ad_to_total (ad_onehot,ad_pd):\n",
    "    ad_pctr = ad_onehot\n",
    "    j = 0\n",
    "    for i in ad_name:\n",
    "        ad_pctr[j]['pctr'] = ad_pd[j]\n",
    "        ad_pctr[j]['ad'] = i\n",
    "        ad_pctr[j] = ad_pctr[j][['pctr','ad']]\n",
    "        j+=1\n",
    "    pctr = (pd.concat(ad_pctr)).sort_index()\n",
    "    return pctr"
   ]
  },
  {
   "cell_type": "code",
   "execution_count": 55,
   "metadata": {
    "collapsed": true
   },
   "outputs": [],
   "source": [
    "xgb_pctr = []\n",
    "rf_pctr = []\n",
    "rf_bag_pctr = []\n",
    "etc_pctr = []\n",
    "etc_bag_pctr = []\n",
    "gbc_pctr = []\n",
    "gbc_bag_pctr = []\n",
    "adb_pctr = []\n",
    "adb_bag_pctr = []\n",
    "lasso_pctr = []\n",
    "ridge_pctr = []\n",
    "et_pctr = []\n",
    "models_pctr = [xgb_pctr,rf_pctr,rf_bag_pctr,etc_pctr,etc_bag_pctr,gbc_pctr,gbc_bag_pctr,adb_pctr,adb_bag_pctr,lasso_pctr, ridge_pctr, et_pctr]\n",
    "\n",
    "for i in range(len(models_pctr)):\n",
    "    models_pctr[i] = ad_to_total(vali_ad_onehot, result_list[i][0])"
   ]
  },
  {
   "cell_type": "code",
   "execution_count": 56,
   "metadata": {
    "collapsed": false
   },
   "outputs": [
    {
     "name": "stdout",
     "output_type": "stream",
     "text": [
      "model xgb_result rmse 0.024593457745 auc 0.875464104445\n",
      "model rf_result rmse 0.0261000363125 auc 0.830770556453\n",
      "model rf_bag_result rmse 0.0258163151843 auc 0.833167915452\n",
      "model etc_result rmse 0.0258470575015 auc 0.836967740359\n",
      "model etc_bag_result rmse 0.0259917138062 auc 0.833142971661\n",
      "model gbc_result rmse 0.0266023578917 auc 0.751412651721\n",
      "model gbc_bag_result rmse 0.0264338955763 auc 0.821180359663\n",
      "model adb_result rmse 0.0261000363125 auc 0.830770556453\n",
      "model adb_bag_result rmse 0.371819736921 auc 0.700731811072\n",
      "model Lasso rmse 0.0264605869328 auc 0.824695912519\n",
      "model ridge rmse 0.0264287293825 auc 0.825319330006\n",
      "model et rmse 0.0264288489879 auc 0.828131714677\n"
     ]
    }
   ],
   "source": [
    "# files = ['xgb_result','rf_result','rf_bag_result','etc_result','etc_bag_result','gbc_result','gbc_bag_result','adb_result','adb_bag_result']\n",
    "for i in range(len(files)):\n",
    "    print('model',files[i],'rmse',rmse(vali['click'],models_pctr[i]['pctr']),'auc',auc(vali['click'],models_pctr[i]['pctr']))"
   ]
  },
  {
   "cell_type": "code",
   "execution_count": 57,
   "metadata": {
    "collapsed": false
   },
   "outputs": [
    {
     "name": "stdout",
     "output_type": "stream",
     "text": [
      "XGBoost & 0.024593457745 & 0.875464104445 \\\\\n",
      "Random Forest Classifier & 0.0261000363125 & 0.830770556453 \\\\\n",
      "RF bagging & 0.0258163151843 & 0.833167915452 \\\\\n",
      "Extra Tree Classifier & 0.0258470575015 & 0.836967740359 \\\\\n",
      "ETC bagging & 0.0259917138062 & 0.833142971661 \\\\\n",
      "Gradient Boosting Classifier & 0.0266023578917 & 0.751412651721 \\\\\n",
      "GBC bagging & 0.0264338955763 & 0.821180359663 \\\\\n",
      "Adaboosting & 0.0261000363125 & 0.830770556453 \\\\\n",
      "ADB bagging & 0.371819736921 & 0.700731811072 \\\\\n",
      "Lasso & 0.0264605869328 & 0.824695912519 \\\\\n",
      "Ridge Regression & 0.0264287293825 & 0.825319330006 \\\\\n",
      "ElasticNet & 0.0264288489879 & 0.828131714677 \\\\\n"
     ]
    }
   ],
   "source": [
    "for i in range(len(files)):\n",
    "    print(name[i],'&',rmse(vali['click'],models_pctr[i]['pctr']),'&',auc(vali['click'],models_pctr[i]['pctr']),'\\\\\\\\')"
   ]
  },
  {
   "cell_type": "code",
   "execution_count": null,
   "metadata": {
    "collapsed": true
   },
   "outputs": [],
   "source": []
  },
  {
   "cell_type": "code",
   "execution_count": 58,
   "metadata": {
    "collapsed": false
   },
   "outputs": [
    {
     "data": {
      "image/png": "[encoded data removed]",
      "text/plain": [
       "<matplotlib.figure.Figure at 0x24142161f28>"
      ]
     },
     "metadata": {},
     "output_type": "display_data"
    }
   ],
   "source": [
    "import matplotlib.pyplot as plt\n",
    "from cycler import cycler\n",
    "import seaborn as sns\n",
    "from sklearn import metrics\n",
    "sns.set(style=\"white\", color_codes=True)\n",
    "from sklearn.metrics import roc_curve\n",
    "plt.figure(figsize=(14,10))\n",
    "\n",
    "\n",
    "fpr, tpr, thresholds = roc_curve(vali['click'], combine_pctr['pctr'])\n",
    "lab = 'AUC=%.5f' % metrics.auc(fpr, tpr)\n",
    "# axes.step(fpr, tpr, lw=2,label=lab)\n",
    "plt.plot(fpr, tpr,label='combined',linewidth=2)\n",
    "\n",
    "\n",
    "for i in range(len(name)):\n",
    "    fpr, tpr, thresholds = roc_curve(vali['click'], models_pctr[i]['pctr'])\n",
    "    lab = 'AUC=%.5f' % metrics.auc(fpr, tpr)\n",
    "    # axes.step(fpr, tpr, lw=2,label=lab)\n",
    "    plt.plot(fpr, tpr,label=name[i],linewidth=2)\n",
    "\n",
    "# axes.legend(loc='lower right', fontsize='small')\n",
    "plt.xlabel('False Positive Rate',fontsize=20)  \n",
    "plt.ylabel('True Positive Rate',fontsize=20) \n",
    "plt.title('ROC',fontsize=30) \n",
    "plt.grid(True)\n",
    "plt.legend(loc=\"lower right\",prop={'size':16})\n",
    "plt.plot([0, 1], [0, 1], 'k--', lw=1) \n",
    "plt.xlim([0.0, 1.0]) \n",
    "plt.ylim([0.0, 1.05])\n",
    "\n",
    "plt.show()"
   ]
  },
  {
   "cell_type": "markdown",
   "metadata": {},
   "source": [
    "# bid"
   ]
  },
  {
   "cell_type": "code",
   "execution_count": 59,
   "metadata": {
    "collapsed": true
   },
   "outputs": [],
   "source": [
    "import random\n",
    "random.seed(10)"
   ]
  },
  {
   "cell_type": "code",
   "execution_count": 121,
   "metadata": {
    "collapsed": false
   },
   "outputs": [],
   "source": [
    "def const(bid):\n",
    "    price = bid\n",
    "    return price\n",
    "\n",
    "def rand(upper):\n",
    "    price = int(random.random() * upper)\n",
    "    return price\n",
    "\n",
    "def mcpc(ecpc, pctr):\n",
    "    price = int(ecpc * pctr)\n",
    "    return price\n",
    "\n",
    "def lin(pctr, basectr, basebid):\n",
    "    price = int(pctr/ basectr *basebid)\n",
    "    return price\n",
    "\n",
    "def sq(pctr, basectr, basebid):\n",
    "    price = int(pctr/basectr)*(pctr/basectr) *basebid)\n",
    "    return price\n",
    "\n",
    "import math\n",
    "def epower(pctr, basectr, basebid):\n",
    "    a = (pctr-basectr)\n",
    "    try:\n",
    "        price = int(((math.exp(a)-1)*1200/2)*basebid)\n",
    "#         print((math.exp(a)-1))\n",
    "    except OverflowError:\n",
    "        price = int(100)\n",
    "    return price\n",
    "    \n",
    "def win( payprice, price):\n",
    "    result = (price>payprice)\n",
    "    return result"
   ]
  },
  {
   "cell_type": "code",
   "execution_count": null,
   "metadata": {
    "collapsed": false
   },
   "outputs": [],
   "source": []
  },
  {
   "cell_type": "markdown",
   "metadata": {},
   "source": [
    "## test on validation set"
   ]
  },
  {
   "cell_type": "code",
   "execution_count": 24,
   "metadata": {
    "collapsed": false
   },
   "outputs": [],
   "source": [
    "vali_click = vali['click']"
   ]
  },
  {
   "cell_type": "code",
   "execution_count": 25,
   "metadata": {
    "collapsed": false
   },
   "outputs": [
    {
     "data": {
      "text/plain": [
       "226"
      ]
     },
     "execution_count": 25,
     "metadata": {},
     "output_type": "execute_result"
    }
   ],
   "source": [
    "sum(vali_click)"
   ]
  },
  {
   "cell_type": "code",
   "execution_count": 82,
   "metadata": {
    "collapsed": true
   },
   "outputs": [],
   "source": [
    "def biding (model,base_bid,bid_vali):\n",
    "    valilin_bidwin = []\n",
    "    c_sum = 0\n",
    "    lin_bidwin = 0\n",
    "    budget = 6250000\n",
    "    cost = 0\n",
    "    for index in range(len(bid_vali)):\n",
    "        pclick = bid_vali.iloc[index][0]\n",
    "        adid = bid_vali.iloc[index][1]\n",
    "        slotprice = vali_slotprice.iloc[index]\n",
    "        bidprice = vali_bidprice.iloc[index]\n",
    "        payprice = vali_payprice.iloc[index]\n",
    "        click = vali_click.iloc[index]\n",
    "\n",
    "        basectr = ad_ctr[ad_name.index(adid)]\n",
    "        price = model(pclick, basectr, base_bid)\n",
    "        result = win( payprice, price)\n",
    "\n",
    "        if result and budget-payprice>0:\n",
    "            detail = []\n",
    "            budget = budget-payprice\n",
    "            detail = [index,adid,click,pclick]\n",
    "            valilin_bidwin.append(detail)\n",
    "            cost = cost + payprice\n",
    "\n",
    "        if budget<1:\n",
    "            break\n",
    "\n",
    "        pctr = 0\n",
    "        slotprice = 0\n",
    "        bidprice = 0\n",
    "\n",
    "    c_sum = 0\n",
    "    for i in range(len(valilin_bidwin)):\n",
    "        c_sum = valilin_bidwin[i][2]+c_sum\n",
    "    if valilin_bidwin == 0 and c_sum ==0:\n",
    "        ctr = 0\n",
    "        cpm = 0\n",
    "        cpc = 0\n",
    "    else: \n",
    "        ctr = c_sum/len(valilin_bidwin)\n",
    "        cpm = cost/len(valilin_bidwin)* 1000\n",
    "        cpc = cost/c_sum\n",
    "    \n",
    "    #'impression','clicks','ctr','cpm','cpc'\n",
    "    return len(valilin_bidwin), c_sum, ctr, cpm, cpc, cost"
   ]
  },
  {
   "cell_type": "code",
   "execution_count": 73,
   "metadata": {
    "collapsed": false
   },
   "outputs": [
    {
     "name": "stdout",
     "output_type": "stream",
     "text": [
      "impressions 121241 clicks 177 ctr 0.00145990217831 cpm 49445.3773888 cpc 33868.9661017 cost 5994807 basebid 129\n",
      "impressions 121748 clicks 177 ctr 0.00145382265006 cpm 49567.1797483 cpc 34094.3785311 cost 6034705 basebid 130\n",
      "impressions 122437 clicks 179 ctr 0.00146197636335 cpm 49714.2693794 cpc 34004.8379888 cost 6086866 basebid 131\n",
      "impressions 123052 clicks 179 ctr 0.00145466957059 cpm 49775.5989338 cpc 34217.8044693 cost 6124987 basebid 132\n",
      "impressions 123564 clicks 179 ctr 0.00144864199929 cpm 49932.6260076 cpc 34468.575419 cost 6169875 basebid 133\n",
      "impressions 124158 clicks 179 ctr 0.00144171136777 cpm 50219.0193141 cpc 34832.9217877 cost 6235093 basebid 134\n",
      "impressions 124135 clicks 178 ctr 0.0014339227454 cpm 50348.4029484 cpc 35112.3539326 cost 6249999 basebid 135\n",
      "impressions 123795 clicks 174 ctr 0.00140554949715 cpm 50486.6836302 cpc 35919.5344828 cost 6249999 basebid 136\n",
      "impressions 123502 clicks 173 ctr 0.00140078703179 cpm 50606.4598144 cpc 36127.1618497 cost 6249999 basebid 137\n",
      "impressions 123093 clicks 170 ctr 0.00138106959778 cpm 50774.6094416 cpc 36764.7 cost 6249999 basebid 138\n",
      "impressions 122872 clicks 169 ctr 0.00137541506609 cpm 50865.9336545 cpc 36982.2426036 cost 6249999 basebid 139\n"
     ]
    }
   ],
   "source": [
    "#find best result of linear biding\n",
    "lin_bid_result = []\n",
    "for i in range(129,140):\n",
    "    base_bid = i\n",
    "    pctr = combine_pctr\n",
    "    lin_winbid,lin_click,lin_ctr,cpm,cpc,lin_cost = biding (lin,base_bid,pctr)\n",
    "    lin_bid_result.append([lin_winbid,lin_click,lin_ctr,cpm,cpc,lin_cost])\n",
    "    print('impressions',lin_winbid,'clicks',lin_click,'ctr',lin_ctr,'cpm', cpm, 'cpc', cpc, 'cost',lin_cost,'basebid',base_bid)"
   ]
  },
  {
   "cell_type": "code",
   "execution_count": 74,
   "metadata": {
    "collapsed": false
   },
   "outputs": [
    {
     "name": "stdout",
     "output_type": "stream",
     "text": [
      "impressions 102072 clicks 183 ctr 0.0017928521044 cpm 59494.2099694 cpc 33184.1147541 cost 6072693 basebid 72000\n",
      "impressions 102967 clicks 183 ctr 0.00177726844523 cpm 59590.0045646 cpc 33528.9836066 cost 6135804 basebid 73000\n",
      "impressions 103565 clicks 183 ctr 0.00176700622797 cpm 59679.2159513 cpc 33774.1967213 cost 6180678 basebid 74000\n",
      "impressions 104191 clicks 183 ctr 0.00175638970736 cpm 59887.7446229 cpc 34097.0710383 cost 6239764 basebid 75000\n",
      "impressions 104224 clicks 182 ctr 0.00174623887013 cpm 59966.9845717 cpc 34340.6538462 cost 6249999 basebid 76000\n",
      "impressions 104088 clicks 179 ctr 0.00171969871647 cpm 60045.3366382 cpc 34916.1955307 cost 6249999 basebid 77000\n",
      "impressions 103950 clicks 176 ctr 0.00169312169312 cpm 60125.0505051 cpc 35511.3579545 cost 6249999 basebid 78000\n"
     ]
    }
   ],
   "source": [
    "#find the best result of the combine model\n",
    "sq_bid_result = []\n",
    "for i in range(72000,79000,1000):\n",
    "    base_bid = i\n",
    "    pctr = combine_pctr\n",
    "    lin_winbid,lin_click,lin_ctr,cpm,cpc,lin_cost = biding (sq,base_bid,pctr)\n",
    "    sq_bid_result.append([lin_winbid,lin_click,lin_ctr,cpm,cpc,lin_cost])\n",
    "    print('impressions',lin_winbid,'clicks',lin_click,'ctr',lin_ctr,'cpm', cpm, 'cpc', cpc, 'cost',lin_cost,'basebid',base_bid)"
   ]
  },
  {
   "cell_type": "code",
   "execution_count": 122,
   "metadata": {
    "collapsed": false
   },
   "outputs": [
    {
     "name": "stdout",
     "output_type": "stream",
     "text": [
      "impressions 1852 clicks 93 ctr 0.0502159827214 cpm 43723.5421166 cpc 870.709677419 cost 80976 basebid 10\n",
      "impressions 10237 clicks 116 ctr 0.0113314447592 cpm 53899.7753248 cpc 4756.65517241 cost 551772 basebid 100\n",
      "impressions 32362 clicks 140 ctr 0.00432606143007 cpm 76826.4322353 cpc 17758.9785714 cost 2486257 basebid 1000\n",
      "impressions 44772 clicks 154 ctr 0.00343964978111 cpm 89297.5073707 cpc 25961.2207792 cost 3998028 basebid 10000\n",
      "impressions 47697 clicks 157 ctr 0.00329161163176 cpm 91897.6665199 cpc 27918.7452229 cost 4383243 basebid 100000\n",
      "impressions 49080 clicks 157 ctr 0.0031988590057 cpm 90862.6935615 cpc 28404.7197452 cost 4459541 basebid 1000000\n",
      "impressions 49795 clicks 157 ctr 0.0031529270007 cpm 92186.1030224 cpc 29238.2611465 cost 4590407 basebid 10000000\n",
      "impressions 49795 clicks 157 ctr 0.0031529270007 cpm 92186.1030224 cpc 29238.2611465 cost 4590407 basebid 100000000\n",
      "impressions 49795 clicks 157 ctr 0.0031529270007 cpm 92186.1030224 cpc 29238.2611465 cost 4590407 basebid 1000000000\n",
      "impressions 49795 clicks 157 ctr 0.0031529270007 cpm 92186.1030224 cpc 29238.2611465 cost 4590407 basebid 10000000000\n"
     ]
    }
   ],
   "source": [
    "# exponential function \n",
    "epower_bid_result = []\n",
    "for i in (10,100,1000,10000,100000,1000000,10000000,100000000,1000000000,10000000000):\n",
    "    base_bid = i\n",
    "    pctr = combine_pctr\n",
    "    lin_winbid,lin_click,lin_ctr,cpm,cpc,lin_cost = biding (epower,base_bid,pctr)\n",
    "    epower_bid_result.append([lin_winbid,lin_click,lin_ctr,cpm,cpc,lin_cost])\n",
    "    print('impressions',lin_winbid,'clicks',lin_click,'ctr',lin_ctr,'cpm', cpm, 'cpc', cpc, 'cost',lin_cost,'basebid',base_bid)"
   ]
  },
  {
   "cell_type": "raw",
   "metadata": {},
   "source": [
    "impressions 33457 clicks 142 ctr 0.00424425381833 cpm 77661.4460352 cpc 18298.0211268 cost 2598319 basebid 1000\n",
    "impressions 45193 clicks 156 ctr 0.00345186201403 cpm 89512.5129998 cpc 25931.6602564 cost 4045339 basebid 10000\n",
    "impressions 47731 clicks 157 ctr 0.00328926693344 cpm 91875.95064 cpc 27932.044586 cost 4385331 basebid 100000\n",
    "impressions 49140 clicks 157 ctr 0.00319495319495 cpm 90901.3431013 cpc 28451.5414013 cost 4466892 basebid 1000000\n",
    "1.75\n",
    "impressions 2052 clicks 96 ctr 0.046783625731 cpm 43686.6471735 cpc 933.802083333 cost 89645 basebid 10\n",
    "impressions 11076 clicks 117 ctr 0.0105633802817 cpm 55132.8999639 cpc 5219.24786325 cost 610652 basebid 100\n",
    "impressions 33457 clicks 142 ctr 0.00424425381833 cpm 77661.4460352 cpc 18298.0211268 cost 2598319 basebid 1000\n",
    "impressions 45193 clicks 156 ctr 0.00345186201403 cpm 89512.5129998 cpc 25931.6602564 cost 4045339 basebid 10000\n",
    "impressions 47731 clicks 157 ctr 0.00328926693344 cpm 91875.95064 cpc 27932.044586 cost 4385331 basebid 100000\n",
    "impressions 49140 clicks 157 ctr 0.00319495319495 cpm 90901.3431013 cpc 28451.5414013 cost 4466892 basebid 1000000\n",
    "impressions 49795 clicks 157 ctr 0.0031529270007 cpm 92186.1030224 cpc 29238.2611465 cost 4590407 basebid 10000000\n",
    "impressions 49795 clicks 157 ctr 0.0031529270007 cpm 92186.1030224 cpc 29238.2611465 cost 4590407 basebid 100000000\n",
    "impressions 49795 clicks 157 ctr 0.0031529270007 cpm 92186.1030224 cpc 29238.2611465 cost 4590407 basebid 1000000000\n",
    "impressions 49795 clicks 157 ctr 0.0031529270007 cpm 92186.1030224 cpc 29238.2611465 cost 4590407 basebid 10000000000\n"
   ]
  },
  {
   "cell_type": "code",
   "execution_count": 87,
   "metadata": {
    "collapsed": false,
    "scrolled": true
   },
   "outputs": [
    {
     "name": "stdout",
     "output_type": "stream",
     "text": [
      "model xgb_result\n",
      "impressions 99178 clicks 155 ctr 0.00156284659904 cpm 47489.0903225 cpc 30386.2774194 cost 4709873 basebid 100\n",
      "impressions 106099 clicks 162 ctr 0.00152687584237 cpm 49004.8633823 cpc 32094.8580247 cost 5199367 basebid 110\n",
      "impressions 112729 clicks 165 ctr 0.00146368724995 cpm 50140.4962343 cpc 34256.2909091 cost 5652288 basebid 120\n",
      "impressions 118677 clicks 170 ctr 0.00143245953302 cpm 51454.2834753 cpc 35920.2352941 cost 6106440 basebid 130\n",
      "impressions 119079 clicks 161 ctr 0.00135204360131 cpm 52486.1562492 cpc 38819.8695652 cost 6249999 basebid 140\n",
      "model rf_result\n",
      "impressions 101962 clicks 160 ctr 0.00156921205939 cpm 45722.9261882 cpc 29137.50625 cost 4662001 basebid 100\n",
      "impressions 110540 clicks 162 ctr 0.00146553283879 cpm 47240.4921295 cpc 32234.345679 cost 5221964 basebid 110\n",
      "impressions 118591 clicks 165 ctr 0.0013913366107 cpm 48651.5587186 cpc 34967.4969697 cost 5769637 basebid 120\n",
      "impressions 125353 clicks 166 ctr 0.00132426028894 cpm 49859.1896484 cpc 37650.5963855 cost 6249999 basebid 130\n",
      "impressions 122774 clicks 151 ctr 0.00122990209654 cpm 50906.5355857 cpc 41390.7218543 cost 6249999 basebid 140\n",
      "model rf_bag_result\n",
      "impressions 98587 clicks 152 ctr 0.0015417854281 cpm 55793.6036191 cpc 36187.6578947 cost 5500524 basebid 100\n",
      "impressions 104959 clicks 155 ctr 0.00147676711859 cpm 56725.03549 cpc 38411.6322581 cost 5953803 basebid 110\n",
      "impressions 108593 clicks 150 ctr 0.00138130450397 cpm 57554.3451235 cpc 41666.66 cost 6249999 basebid 120\n",
      "impressions 107134 clicks 140 ctr 0.00130677469337 cpm 58338.1466201 cpc 44642.85 cost 6249999 basebid 130\n",
      "impressions 105725 clicks 133 ctr 0.00125798061007 cpm 59115.6207141 cpc 46992.4736842 cost 6249999 basebid 140\n",
      "model etc_result\n",
      "impressions 80342 clicks 147 ctr 0.00182967812601 cpm 48644.8432949 cpc 26586.5578231 cost 3908224 basebid 100\n",
      "impressions 87040 clicks 153 ctr 0.0017578125 cpm 49642.8538603 cpc 28241.2679739 cost 4320914 basebid 110\n",
      "impressions 93354 clicks 156 ctr 0.00167105855132 cpm 50604.7089573 cpc 30283.025641 cost 4724152 basebid 120\n",
      "impressions 99213 clicks 158 ctr 0.00159253323657 cpm 51373.8320583 cpc 32259.1898734 cost 5096952 basebid 130\n",
      "impressions 104795 clicks 162 ctr 0.00154587528031 cpm 52110.8736104 cpc 33709.6234568 cost 5460959 basebid 140\n",
      "model etc_bag_result\n",
      "impressions 85446 clicks 153 ctr 0.00179060459237 cpm 56036.7834656 cpc 31294.8954248 cost 4788119 basebid 100\n",
      "impressions 90811 clicks 156 ctr 0.001717853564 cpm 56927.3325919 cpc 33138.6410256 cost 5169628 basebid 110\n",
      "impressions 95778 clicks 157 ctr 0.00163920733363 cpm 57735.1583871 cpc 35221.388535 cost 5529758 basebid 120\n",
      "impressions 100308 clicks 157 ctr 0.00156517924792 cpm 58468.8459545 cpc 37356.0063694 cost 5864893 basebid 130\n",
      "impressions 104715 clicks 160 ctr 0.00152795683522 cpm 59063.0855178 cpc 38654.94375 cost 6184791 basebid 140\n",
      "model gbc_result\n",
      "impressions 111954 clicks 147 ctr 0.00131303928399 cpm 41161.1644068 cpc 31348.0068027 cost 4608157 basebid 100\n",
      "impressions 120692 clicks 153 ctr 0.00126768965632 cpm 43456.7162695 cpc 34280.248366 cost 5244878 basebid 110\n",
      "impressions 129590 clicks 159 ctr 0.00122694652365 cpm 46027.0622733 cpc 37513.5031447 cost 5964647 basebid 120\n",
      "impressions 131435 clicks 150 ctr 0.00114124852589 cpm 47552.0143036 cpc 41666.66 cost 6249999 basebid 130\n",
      "impressions 126883 clicks 136 ctr 0.00107185359741 cpm 49257.9699408 cpc 45955.875 cost 6249999 basebid 140\n",
      "model gbc_bag_result\n",
      "impressions 98587 clicks 152 ctr 0.0015417854281 cpm 55793.6036191 cpc 36187.6578947 cost 5500524 basebid 100\n",
      "impressions 104959 clicks 155 ctr 0.00147676711859 cpm 56725.03549 cpc 38411.6322581 cost 5953803 basebid 110\n",
      "impressions 108593 clicks 150 ctr 0.00138130450397 cpm 57554.3451235 cpc 41666.66 cost 6249999 basebid 120\n",
      "impressions 107134 clicks 140 ctr 0.00130677469337 cpm 58338.1466201 cpc 44642.85 cost 6249999 basebid 130\n",
      "impressions 105725 clicks 133 ctr 0.00125798061007 cpm 59115.6207141 cpc 46992.4736842 cost 6249999 basebid 140\n",
      "model adb_result\n",
      "impressions 101962 clicks 160 ctr 0.00156921205939 cpm 45722.9261882 cpc 29137.50625 cost 4662001 basebid 100\n",
      "impressions 110540 clicks 162 ctr 0.00146553283879 cpm 47240.4921295 cpc 32234.345679 cost 5221964 basebid 110\n",
      "impressions 118591 clicks 165 ctr 0.0013913366107 cpm 48651.5587186 cpc 34967.4969697 cost 5769637 basebid 120\n",
      "impressions 125353 clicks 166 ctr 0.00132426028894 cpm 49859.1896484 cpc 37650.5963855 cost 6249999 basebid 130\n",
      "impressions 122774 clicks 151 ctr 0.00122990209654 cpm 50906.5355857 cpc 41390.7218543 cost 6249999 basebid 140\n",
      "model adb_bag_result\n",
      "impressions 78115 clicks 69 ctr 0.000883313064072 cpm 80010.2285092 cpc 90579.6956522 cost 6249999 basebid 100\n",
      "impressions 78115 clicks 69 ctr 0.000883313064072 cpm 80010.2285092 cpc 90579.6956522 cost 6249999 basebid 110\n",
      "impressions 78115 clicks 69 ctr 0.000883313064072 cpm 80010.2285092 cpc 90579.6956522 cost 6249999 basebid 120\n",
      "impressions 78115 clicks 69 ctr 0.000883313064072 cpm 80010.2285092 cpc 90579.6956522 cost 6249999 basebid 130\n",
      "impressions 78115 clicks 69 ctr 0.000883313064072 cpm 80010.2285092 cpc 90579.6956522 cost 6249999 basebid 140\n",
      "model Lasso\n",
      "impressions 129036 clicks 129 ctr 0.000999721008091 cpm 48436.0876035 cpc 48449.6046512 cost 6249999 basebid 100\n",
      "impressions 122827 clicks 126 ctr 0.0010258330823 cpm 50884.5693536 cpc 49603.1666667 cost 6249999 basebid 110\n",
      "impressions 118290 clicks 118 ctr 0.000997548398005 cpm 52836.2414405 cpc 52966.0932203 cost 6249999 basebid 120\n",
      "impressions 114401 clicks 112 ctr 0.00097901242122 cpm 54632.3808358 cpc 55803.5625 cost 6249999 basebid 130\n",
      "impressions 110136 clicks 110 ctr 0.000998765163071 cpm 56748.0115494 cpc 56818.1727273 cost 6249999 basebid 140\n",
      "model ridge\n",
      "impressions 102375 clicks 112 ctr 0.00109401709402 cpm 61050.0512821 cpc 55803.5625 cost 6249999 basebid 100\n",
      "impressions 99600 clicks 111 ctr 0.00111445783133 cpm 62750.9939759 cpc 56306.2972973 cost 6249999 basebid 110\n",
      "impressions 96989 clicks 110 ctr 0.00113414923342 cpm 64440.2870429 cpc 56818.1727273 cost 6249999 basebid 120\n",
      "impressions 94956 clicks 106 ctr 0.00111630649985 cpm 65819.9481865 cpc 58962.254717 cost 6249999 basebid 130\n",
      "impressions 93156 clicks 100 ctr 0.00107346816093 cpm 67091.7493237 cpc 62499.99 cost 6249999 basebid 140\n",
      "model et\n",
      "impressions 111768 clicks 129 ctr 0.00115417650848 cpm 55919.3955336 cpc 48449.6046512 cost 6249999 basebid 100\n",
      "impressions 108297 clicks 120 ctr 0.00110806393529 cpm 57711.6540624 cpc 52083.325 cost 6249999 basebid 110\n",
      "impressions 105435 clicks 113 ctr 0.00107175036753 cpm 59278.2188078 cpc 55309.7256637 cost 6249999 basebid 120\n",
      "impressions 102748 clicks 109 ctr 0.00106084789972 cpm 60828.4248842 cpc 57339.440367 cost 6249999 basebid 130\n",
      "impressions 100333 clicks 111 ctr 0.00110631596783 cpm 62292.5557892 cpc 56306.2972973 cost 6249999 basebid 140\n"
     ]
    }
   ],
   "source": [
    "#find best result of the models\n",
    "models_bid_result = []\n",
    "for i in range(len(files)):\n",
    "    print('model',files[i])\n",
    "    model_bid = []\n",
    "    for j in range(100,150,10):\n",
    "        base_bid = j\n",
    "        pctr = models_pctr[i]\n",
    "        lin_winbid,lin_click,lin_ctr,cpm,cpc,lin_cost = biding (lin,base_bid,pctr)\n",
    "        model_bid.append([lin_winbid,lin_click,lin_ctr,cpm,cpc,lin_cost])\n",
    "        print('impressions',lin_winbid,'clicks',lin_click,'ctr',lin_ctr,'cpm', cpm, 'cpc', cpc, 'cost',lin_cost,'basebid',base_bid)\n",
    "    models_bid_result.append(model_bid)"
   ]
  },
  {
   "cell_type": "code",
   "execution_count": null,
   "metadata": {
    "collapsed": true
   },
   "outputs": [],
   "source": [
    "models_bid_result."
   ]
  },
  {
   "cell_type": "code",
   "execution_count": 88,
   "metadata": {
    "collapsed": false
   },
   "outputs": [
    {
     "name": "stdout",
     "output_type": "stream",
     "text": [
      "norm:  0.85 num of win:  53720 num of click:  130 ctr:  0.0024199553239 cpm:  60999.4601638 cpc:  25206.8538462\n",
      "norm:  0.858551724138 num of win:  53343 num of click:  130 ctr:  0.00243705828319 cpm:  60998.9689369 cpc:  25029.7538462\n",
      "norm:  0.867103448276 num of win:  51608 num of click:  130 ctr:  0.00251898930398 cpm:  61242.8305689 cpc:  24312.4615385\n",
      "norm:  0.875655172414 num of win:  51351 num of click:  130 ctr:  0.00253159626882 cpm:  61271.2702771 cpc:  24202.6230769\n",
      "norm:  0.884206896552 num of win:  51098 num of click:  130 ctr:  0.00254413088575 cpm:  61266.3705037 cpc:  24081.4538462\n",
      "norm:  0.89275862069 num of win:  50841 num of click:  130 ctr:  0.00255699140458 cpm:  61270.2936606 cpc:  23961.8692308\n",
      "norm:  0.901310344828 num of win:  45688 num of click:  125 ctr:  0.0027359481702 cpm:  61210.3396953 cpc:  22372.624\n",
      "norm:  0.909862068966 num of win:  45257 num of click:  124 ctr:  0.0027399076386 cpm:  61229.2684005 cpc:  22347.2016129\n",
      "norm:  0.918413793103 num of win:  43309 num of click:  124 ctr:  0.00286314622827 cpm:  61618.9475629 cpc:  21521.4112903\n",
      "norm:  0.926965517241 num of win:  43056 num of click:  124 ctr:  0.00287997027127 cpm:  61603.075065 cpc:  21390.1774194\n",
      "norm:  0.935517241379 num of win:  42684 num of click:  123 ctr:  0.00288164183301 cpm:  61623.4420392 cpc:  21384.8373984\n",
      "norm:  0.944068965517 num of win:  42481 num of click:  123 ctr:  0.00289541206657 cpm:  61633.0359455 cpc:  21286.4471545\n",
      "norm:  0.952620689655 num of win:  41231 num of click:  123 ctr:  0.00298319225825 cpm:  61712.7404138 cpc:  20686.8130081\n",
      "norm:  0.961172413793 num of win:  41041 num of click:  123 ctr:  0.002997002997 cpm:  61742.6475963 cpc:  20601.4634146\n",
      "norm:  0.969724137931 num of win:  40645 num of click:  123 ctr:  0.00302620248493 cpm:  61815.6476811 cpc:  20426.804878\n",
      "norm:  0.978275862069 num of win:  40471 num of click:  123 ctr:  0.00303921326382 cpm:  61798.7447802 cpc:  20333.796748\n",
      "norm:  0.986827586207 num of win:  40189 num of click:  123 ctr:  0.00306053895344 cpm:  61766.8267436 cpc:  20181.6829268\n",
      "norm:  0.995379310345 num of win:  39919 num of click:  122 ctr:  0.00305618878228 cpm:  61795.3606052 cpc:  20219.7459016\n",
      "norm:  1.00393103448 num of win:  37972 num of click:  122 ctr:  0.00321289371116 cpm:  61945.9865164 cpc:  19280.4344262\n",
      "norm:  1.01248275862 num of win:  37770 num of click:  122 ctr:  0.00323007678051 cpm:  61915.2501986 cpc:  19168.352459\n",
      "norm:  1.02103448276 num of win:  37370 num of click:  122 ctr:  0.0032646507894 cpm:  61945.6248328 cpc:  18974.6557377\n",
      "norm:  1.0295862069 num of win:  34946 num of click:  121 ctr:  0.00346248497682 cpm:  62497.7107537 cpc:  18049.9586777\n",
      "norm:  1.03813793103 num of win:  34716 num of click:  121 ctr:  0.00348542458809 cpm:  62518.8097707 cpc:  17937.214876\n",
      "norm:  1.04668965517 num of win:  34177 num of click:  120 ctr:  0.00351113321825 cpm:  62566.8139392 cpc:  17819.55\n",
      "norm:  1.05524137931 num of win:  33967 num of click:  119 ctr:  0.00350340035917 cpm:  62589.0717461 cpc:  17865.2352941\n",
      "norm:  1.06379310345 num of win:  33440 num of click:  119 ctr:  0.00355861244019 cpm:  62667.9126794 cpc:  17610.210084\n",
      "norm:  1.07234482759 num of win:  33234 num of click:  119 ctr:  0.00358067039779 cpm:  62695.6731059 cpc:  17509.4789916\n",
      "norm:  1.08089655172 num of win:  33004 num of click:  119 ctr:  0.00360562356078 cpm:  62679.5842928 cpc:  17383.8403361\n",
      "norm:  1.08944827586 num of win:  32766 num of click:  118 ctr:  0.00360129402429 cpm:  62709.6685589 cpc:  17413.0932203\n",
      "norm:  1.098 num of win:  32600 num of click:  117 ctr:  0.00358895705521 cpm:  62694.2638037 cpc:  17468.6581197\n",
      "norm:  0.85 num of win:  66611 num of click:  166 ctr:  0.00249208088754 cpm:  89353.7703983 cpc:  35855.0843373\n",
      "norm:  0.858551724138 num of win:  66141 num of click:  166 ctr:  0.00250978969172 cpm:  89341.5581863 cpc:  35597.2289157\n",
      "norm:  0.867103448276 num of win:  63965 num of click:  166 ctr:  0.00259516923317 cpm:  89510.1070898 cpc:  34491.0481928\n",
      "norm:  0.875655172414 num of win:  63673 num of click:  166 ctr:  0.00260707050084 cpm:  89585.0988645 cpc:  34362.3614458\n",
      "norm:  0.884206896552 num of win:  63378 num of click:  166 ctr:  0.00261920540251 cpm:  89613.6040897 cpc:  34214.0421687\n",
      "norm:  0.89275862069 num of win:  63072 num of click:  166 ctr:  0.00263191273465 cpm:  89634.8934551 cpc:  34056.939759\n",
      "norm:  0.901310344828 num of win:  56968 num of click:  159 ctr:  0.00279104058419 cpm:  90171.8333099 cpc:  32307.6037736\n",
      "norm:  0.909862068966 num of win:  56485 num of click:  158 ctr:  0.0027972027972 cpm:  90303.1955386 cpc:  32283.3924051\n",
      "norm:  0.918413793103 num of win:  54349 num of click:  158 ctr:  0.00290713720584 cpm:  91255.6440781 cpc:  31390.2088608\n",
      "norm:  0.926965517241 num of win:  54056 num of click:  158 ctr:  0.00292289477579 cpm:  91293.4549356 cpc:  31233.9177215\n",
      "norm:  0.935517241379 num of win:  53640 num of click:  157 ctr:  0.0029269202088 cpm:  91417.2445936 cpc:  31233.2547771\n",
      "norm:  0.944068965517 num of win:  53396 num of click:  157 ctr:  0.00294029515319 cpm:  91456.8694284 cpc:  31104.656051\n",
      "norm:  0.952620689655 num of win:  51671 num of click:  157 ctr:  0.00303845483927 cpm:  91092.6438428 cpc:  29979.9235669\n",
      "norm:  0.961172413793 num of win:  51451 num of click:  157 ctr:  0.00305144700783 cpm:  91158.1893452 cpc:  29873.7579618\n",
      "norm:  0.969724137931 num of win:  51018 num of click:  157 ctr:  0.0030773452507 cpm:  91354.2083186 cpc:  29686.044586\n",
      "norm:  0.978275862069 num of win:  50806 num of click:  157 ctr:  0.00309018619848 cpm:  91355.1942684 cpc:  29563.0063694\n",
      "norm:  0.986827586207 num of win:  50469 num of click:  157 ctr:  0.00311082050368 cpm:  91369.5337732 cpc:  29371.522293\n",
      "norm:  0.995379310345 num of win:  50148 num of click:  156 ctr:  0.00311079205552 cpm:  91441.1741246 cpc:  29394.8205128\n",
      "norm:  1.00393103448 num of win:  47670 num of click:  156 ctr:  0.00327249842668 cpm:  91532.1795679 cpc:  27970.1217949\n",
      "norm:  1.01248275862 num of win:  47441 num of click:  156 ctr:  0.00328829493476 cpm:  91575.0932738 cpc:  27848.8076923\n",
      "norm:  1.02103448276 num of win:  46942 num of click:  156 ctr:  0.00332324996805 cpm:  91611.6697201 cpc:  27566.8910256\n",
      "norm:  1.0295862069 num of win:  43986 num of click:  154 ctr:  0.00350111399082 cpm:  92315.3730733 cpc:  26367.4285714\n",
      "norm:  1.03813793103 num of win:  43713 num of click:  154 ctr:  0.00352297943404 cpm:  92369.6840757 cpc:  26219.1948052\n",
      "norm:  1.04668965517 num of win:  43043 num of click:  153 ctr:  0.00355458494993 cpm:  92421.555189 cpc:  26000.6601307\n",
      "norm:  1.05524137931 num of win:  42796 num of click:  152 ctr:  0.0035517338069 cpm:  92485.9332648 cpc:  26039.6578947\n",
      "norm:  1.06379310345 num of win:  42207 num of click:  152 ctr:  0.00360129836283 cpm:  92751.0602507 cpc:  25754.8947368\n",
      "norm:  1.07234482759 num of win:  41959 num of click:  152 ctr:  0.003622583951 cpm:  92806.9305751 cpc:  25618.9868421\n",
      "norm:  1.08089655172 num of win:  41689 num of click:  152 ctr:  0.00364604571949 cpm:  92851.0638298 cpc:  25466.2368421\n",
      "norm:  1.08944827586 num of win:  41416 num of click:  151 ctr:  0.00364593393857 cpm:  92952.3131157 cpc:  25494.7880795\n",
      "norm:  1.098 num of win:  41217 num of click:  150 ctr:  0.00363927505641 cpm:  92957.541791 cpc:  25542.8733333\n"
     ]
    }
   ],
   "source": [
    "final_final_result = []\n",
    "for i in [158,300]:#124,158from best constant bid\n",
    "    final_result = []\n",
    "    for n in np.linspace(0.85,1.098,30):\n",
    "        gate_bidwin = []\n",
    "        bidwin = []\n",
    "        budget = 6500*1000\n",
    "        cost = 0\n",
    "        bid_vali = combine_pctr\n",
    "        for index in range(len(vali)):\n",
    "            adid = bid_vali.iloc[index][1]\n",
    "            bidid = vali.bidid[index]\n",
    "            slotprice = vali.slotprice[index]\n",
    "            bidprice = vali.bidprice[index]\n",
    "            payprice = vali.payprice[index]\n",
    "            click = vali.click[index]\n",
    "            basectr = ad_ctr[ad_name.index(adid)]\n",
    "            pclick = bid_vali.iloc[index][0]\n",
    "\n",
    "            if (pclick/ basectr) >= n:\n",
    "                price = const(i)\n",
    "            else:\n",
    "                price=const(2)\n",
    "\n",
    "            result = win(payprice, price)\n",
    "\n",
    "            if result and budget-payprice>0:\n",
    "                detail = []\n",
    "                budget = budget-payprice\n",
    "                #index, adid, click, pclick\n",
    "                detail = [index,bidid,click]\n",
    "                gate_bidwin.append(detail)\n",
    "                cost = cost + payprice\n",
    "            if budget<1:\n",
    "                break\n",
    "\n",
    "            slotprice = 0\n",
    "            bidprice = 0\n",
    "\n",
    "        c_sum = 0\n",
    "        for k in range(len(gate_bidwin)):\n",
    "            c_sum = gate_bidwin[k][2]+c_sum\n",
    "        if len(gate_bidwin) ==0:\n",
    "            ctr=0\n",
    "        else:\n",
    "            ctr=c_sum/len(gate_bidwin)\n",
    "            cpm = cost/len(gate_bidwin)* 1000\n",
    "            cpc = cost/c_sum\n",
    "        if ctr == 0:\n",
    "            cpc = 0\n",
    "        detail2 = [i,len(gate_bidwin),c_sum,ctr,cpm,cpc]\n",
    "        final_result.append(detail2)\n",
    "        print('norm: ',n,'num of win: ',len(gate_bidwin),'num of click: ',c_sum,'ctr: ',ctr,'cpm: ',cpm,'cpc: ',cpc)\n",
    "    final_final_result.append(final_result)"
   ]
  },
  {
   "cell_type": "code",
   "execution_count": 91,
   "metadata": {
    "collapsed": false
   },
   "outputs": [
    {
     "data": {
      "text/plain": [
       "2"
      ]
     },
     "execution_count": 91,
     "metadata": {},
     "output_type": "execute_result"
    }
   ],
   "source": [
    "len(final_final_result)"
   ]
  },
  {
   "cell_type": "code",
   "execution_count": 92,
   "metadata": {
    "collapsed": false
   },
   "outputs": [],
   "source": [
    "gate_result = pd.DataFrame(final_final_result[1])\n",
    "gate_result.columns = ['norm', 'impression','clicks','ctr','cpm','cpc']"
   ]
  },
  {
   "cell_type": "code",
   "execution_count": 93,
   "metadata": {
    "collapsed": true
   },
   "outputs": [],
   "source": [
    "gate_result.to_csv('gate_bidding.csv', index = False)"
   ]
  },
  {
   "cell_type": "code",
   "execution_count": null,
   "metadata": {
    "collapsed": true
   },
   "outputs": [],
   "source": []
  }
 ],
 "metadata": {
  "kernelspec": {
   "display_name": "Python 3",
   "language": "python",
   "name": "python3"
  },
  "language_info": {
   "codemirror_mode": {
    "name": "ipython",
    "version": 3
   },
   "file_extension": ".py",
   "mimetype": "text/x-python",
   "name": "python",
   "nbconvert_exporter": "python",
   "pygments_lexer": "ipython3",
   "version": "3.6.0"
  }
 },
 "nbformat": 4,
 "nbformat_minor": 0
}
