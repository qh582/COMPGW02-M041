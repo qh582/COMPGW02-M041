{
 "cells": [
  {
   "cell_type": "code",
   "execution_count": 1,
   "metadata": {
    "collapsed": false
   },
   "outputs": [],
   "source": [
    "import pandas as pd\n",
    "import numpy as np\n",
    "# from sklearn.preprocessing import OneHotEncoder\n",
    "# import time\n",
    "import warnings\n",
    "warnings.filterwarnings('ignore')\n",
    "\n",
    "# enc = OneHotEncoder()\n",
    "path = 'data/'\n",
    "train = pd.read_csv(path+'train.csv')\n",
    "vali = pd.read_csv(path+'validation.csv')\n",
    "test = pd.read_csv(path+'test.csv')\n",
    "# start_time = time.time()"
   ]
  },
  {
   "cell_type": "code",
   "execution_count": 2,
   "metadata": {
    "collapsed": false
   },
   "outputs": [
    {
     "data": {
      "text/plain": [
       "0.0007539649884458758"
      ]
     },
     "execution_count": 2,
     "metadata": {},
     "output_type": "execute_result"
    }
   ],
   "source": [
    "basectr = train['click'].value_counts(normalize = True)[1]\n",
    "basectr"
   ]
  },
  {
   "cell_type": "code",
   "execution_count": 3,
   "metadata": {
    "collapsed": false
   },
   "outputs": [
    {
     "data": {
      "text/plain": [
       "[0.00083473226564105031,\n",
       " 0.00050464562342478474,\n",
       " 0.00074884754565216914,\n",
       " 0.00076448084204447765,\n",
       " 0.00030658545558598702,\n",
       " 0.00062225602378400803,\n",
       " 0.0007180766777520589,\n",
       " 0.0046066034099877034,\n",
       " 0.00030675100937663219]"
      ]
     },
     "execution_count": 3,
     "metadata": {},
     "output_type": "execute_result"
    }
   ],
   "source": [
    "ad_ctr = []\n",
    "ad_name = [1458,3476,3427,3358,2259,2821,3386,2997,2261]\n",
    "for i in ad_name:\n",
    "    ad_ctr.append(train['click'][train['advertiser']==i].value_counts(normalize = True)[1])\n",
    "ad_len = len(ad_name)\n",
    "ad_ctr"
   ]
  },
  {
   "cell_type": "code",
   "execution_count": null,
   "metadata": {
    "collapsed": true
   },
   "outputs": [],
   "source": [
    "ad_train = []\n",
    "for i in ad_name:\n",
    "    ad_train.append(train[train['advertiser']==i])"
   ]
  },
  {
   "cell_type": "code",
   "execution_count": null,
   "metadata": {
    "collapsed": true
   },
   "outputs": [],
   "source": [
    "ad_imp = [0]*9\n",
    "for i in range(len(ad_name)):\n",
    "    if ad_train[i]['bidprice']>ad_train[i]['payprice']:\n",
    "        ad_imp"
   ]
  },
  {
   "cell_type": "code",
   "execution_count": 4,
   "metadata": {
    "collapsed": true
   },
   "outputs": [],
   "source": [
    "train_onehot = pd.read_csv('train_onehot_new.csv')\n",
    "vali_onehot = pd.read_csv('vali_onehot_new.csv')"
   ]
  },
  {
   "cell_type": "code",
   "execution_count": 5,
   "metadata": {
    "collapsed": false,
    "scrolled": true
   },
   "outputs": [],
   "source": [
    "vali_ad_onehot = []\n",
    "for i in ad_name:\n",
    "    vali_ad_onehot.append(vali_onehot[vali_onehot[\"advertiser_\"+str(i)]==1]) "
   ]
  },
  {
   "cell_type": "code",
   "execution_count": null,
   "metadata": {
    "collapsed": false
   },
   "outputs": [],
   "source": []
  },
  {
   "cell_type": "code",
   "execution_count": 6,
   "metadata": {
    "collapsed": false
   },
   "outputs": [],
   "source": [
    "def dataprocessing (data,data_onehot):\n",
    "    slotprice = data['slotprice']\n",
    "    bidprice = data['bidprice']\n",
    "    payprice = data['payprice']\n",
    "    click = data['click']\n",
    "    \n",
    "    ad_onehot = []\n",
    "    \n",
    "    ad_onehot = []\n",
    "    for i in ad_name:\n",
    "        ad_onehot.append(data_onehot[data_onehot[\"advertiser_\"+str(i)]==1]) \n",
    "    \n",
    "    ad_click = []\n",
    "    for i in ad_name:\n",
    "        ad_click.append(data['click'][data['advertiser']==i])\n",
    "        \n",
    "    return ad_onehot, ad_click, slotprice, bidprice, payprice"
   ]
  },
  {
   "cell_type": "code",
   "execution_count": null,
   "metadata": {
    "collapsed": false
   },
   "outputs": [],
   "source": []
  },
  {
   "cell_type": "code",
   "execution_count": 7,
   "metadata": {
    "collapsed": false
   },
   "outputs": [],
   "source": [
    "train_ad_onehot,train_ad_click,train_slotprice,train_bidprice,train_payprice = dataprocessing(train,train_onehot)\n",
    "vali_ad_onehot,vali_ad_click,vali_slotprice,vali_bidprice,vali_payprice = dataprocessing(vali,vali_onehot)"
   ]
  },
  {
   "cell_type": "code",
   "execution_count": 8,
   "metadata": {
    "collapsed": false
   },
   "outputs": [
    {
     "data": {
      "text/plain": [
       "9"
      ]
     },
     "execution_count": 8,
     "metadata": {},
     "output_type": "execute_result"
    }
   ],
   "source": [
    "len(train_ad_onehot)"
   ]
  },
  {
   "cell_type": "code",
   "execution_count": 9,
   "metadata": {
    "collapsed": true
   },
   "outputs": [],
   "source": [
    "from sklearn.metrics import mean_squared_error\n",
    "def rmse(y_true, y_pred):\n",
    "    return np.sqrt(mean_squared_error(y_true, y_pred))\n",
    "from sklearn.metrics import roc_auc_score as auc\n",
    "from sklearn.metrics import classification_report as report"
   ]
  },
  {
   "cell_type": "code",
   "execution_count": 10,
   "metadata": {
    "collapsed": false
   },
   "outputs": [],
   "source": [
    "train_click = train[['click','advertiser']]\n",
    "from sklearn.model_selection import train_test_split\n",
    "X_train, X_test, y_train, y_test = train_test_split(train_onehot, train_click, test_size=0.2, random_state=42)"
   ]
  },
  {
   "cell_type": "code",
   "execution_count": 11,
   "metadata": {
    "collapsed": true
   },
   "outputs": [],
   "source": [
    "def dataprocessing_ (data_onehot,click):\n",
    "    ad_onehot = []\n",
    "    for i in ad_name:\n",
    "        ad_onehot.append(data_onehot[data_onehot[\"advertiser_\"+str(i)]==1]) \n",
    "#     print('done')\n",
    "    ad_click = []\n",
    "    for i in ad_name:\n",
    "#         print(type(click))\n",
    "        a = click[click['advertiser']==i]\n",
    "        a = a.drop('advertiser',1)\n",
    "#         print(a.head())\n",
    "        ad_click.append(a)    \n",
    "    return ad_onehot, ad_click"
   ]
  },
  {
   "cell_type": "code",
   "execution_count": 12,
   "metadata": {
    "collapsed": false
   },
   "outputs": [],
   "source": [
    "_train_ad_onehot,_train_ad_click = dataprocessing_(X_train,y_train)\n",
    "_ad_onehot,_ad_click= dataprocessing_(X_test,y_test)"
   ]
  },
  {
   "cell_type": "code",
   "execution_count": 13,
   "metadata": {
    "collapsed": false,
    "scrolled": true
   },
   "outputs": [
    {
     "name": "stderr",
     "output_type": "stream",
     "text": [
      "C:\\Users\\hannah\\Anaconda3\\lib\\site-packages\\sklearn\\cross_validation.py:44: DeprecationWarning: This module was deprecated in version 0.18 in favor of the model_selection module into which all the refactored classes and functions are moved. Also note that the interface of the new CV iterators are different from that of this module. This module will be removed in 0.20.\n",
      "  \"This module will be removed in 0.20.\", DeprecationWarning)\n"
     ]
    },
    {
     "name": "stdout",
     "output_type": "stream",
     "text": [
      "[0]\teval-auc:0.874758\ttrain-auc:0.838705\n",
      "[1]\teval-auc:0.874798\ttrain-auc:0.838751\n",
      "[2]\teval-auc:0.893077\ttrain-auc:0.87243\n",
      "[3]\teval-auc:0.924506\ttrain-auc:0.912023\n",
      "[4]\teval-auc:0.950281\ttrain-auc:0.943449\n",
      "[5]\teval-auc:0.952527\ttrain-auc:0.946198\n",
      "[6]\teval-auc:0.959691\ttrain-auc:0.950253\n",
      "[7]\teval-auc:0.950639\ttrain-auc:0.959192\n",
      "[8]\teval-auc:0.945097\ttrain-auc:0.962278\n",
      "[9]\teval-auc:0.945891\ttrain-auc:0.966897\n",
      "1 /9\n",
      "[0]\teval-auc:0.5\ttrain-auc:0.5\n",
      "[1]\teval-auc:0.72314\ttrain-auc:0.829555\n",
      "[2]\teval-auc:0.723045\ttrain-auc:0.831138\n",
      "[3]\teval-auc:0.731639\ttrain-auc:0.839872\n",
      "[4]\teval-auc:0.728257\ttrain-auc:0.866595\n",
      "[5]\teval-auc:0.727669\ttrain-auc:0.87222\n",
      "[6]\teval-auc:0.770678\ttrain-auc:0.913726\n",
      "[7]\teval-auc:0.807829\ttrain-auc:0.935333\n",
      "[8]\teval-auc:0.8127\ttrain-auc:0.946567\n",
      "[9]\teval-auc:0.800477\ttrain-auc:0.955399\n",
      "2 /9\n",
      "[0]\teval-auc:0.777004\ttrain-auc:0.821562\n",
      "[1]\teval-auc:0.777025\ttrain-auc:0.821728\n",
      "[2]\teval-auc:0.795067\ttrain-auc:0.852231\n",
      "[3]\teval-auc:0.797141\ttrain-auc:0.853403\n",
      "[4]\teval-auc:0.879431\ttrain-auc:0.928175\n",
      "[5]\teval-auc:0.873403\ttrain-auc:0.930455\n",
      "[6]\teval-auc:0.908659\ttrain-auc:0.94785\n",
      "[7]\teval-auc:0.922544\ttrain-auc:0.952412\n",
      "[8]\teval-auc:0.912739\ttrain-auc:0.963828\n",
      "[9]\teval-auc:0.907896\ttrain-auc:0.968931\n",
      "3 /9\n",
      "[0]\teval-auc:0.781259\ttrain-auc:0.803755\n",
      "[1]\teval-auc:0.781574\ttrain-auc:0.804165\n",
      "[2]\teval-auc:0.781734\ttrain-auc:0.804487\n",
      "[3]\teval-auc:0.860305\ttrain-auc:0.905616\n",
      "[4]\teval-auc:0.873427\ttrain-auc:0.916138\n",
      "[5]\teval-auc:0.882536\ttrain-auc:0.934586\n",
      "[6]\teval-auc:0.920599\ttrain-auc:0.954705\n",
      "[7]\teval-auc:0.900056\ttrain-auc:0.960493\n",
      "[8]\teval-auc:0.904901\ttrain-auc:0.967429\n",
      "[9]\teval-auc:0.911101\ttrain-auc:0.970583\n",
      "4 /9\n",
      "[0]\teval-auc:0.5\ttrain-auc:0.5\n",
      "[1]\teval-auc:0.5\ttrain-auc:0.5\n",
      "[2]\teval-auc:0.499677\ttrain-auc:0.514005\n",
      "[3]\teval-auc:0.497277\ttrain-auc:0.554554\n",
      "[4]\teval-auc:0.537958\ttrain-auc:0.60526\n",
      "[5]\teval-auc:0.493131\ttrain-auc:0.740173\n",
      "[6]\teval-auc:0.50964\ttrain-auc:0.819816\n",
      "[7]\teval-auc:0.499389\ttrain-auc:0.864516\n",
      "[8]\teval-auc:0.559854\ttrain-auc:0.913107\n",
      "[9]\teval-auc:0.596275\ttrain-auc:0.942693\n",
      "5 /9\n",
      "[0]\teval-auc:0.5\ttrain-auc:0.5\n",
      "[1]\teval-auc:0.5\ttrain-auc:0.5\n",
      "[2]\teval-auc:0.5\ttrain-auc:0.5\n",
      "[3]\teval-auc:0.505019\ttrain-auc:0.551318\n",
      "[4]\teval-auc:0.54953\ttrain-auc:0.635384\n",
      "[5]\teval-auc:0.499092\ttrain-auc:0.656019\n",
      "[6]\teval-auc:0.516964\ttrain-auc:0.696607\n",
      "[7]\teval-auc:0.564401\ttrain-auc:0.782013\n",
      "[8]\teval-auc:0.558649\ttrain-auc:0.815516\n",
      "[9]\teval-auc:0.489221\ttrain-auc:0.844793\n",
      "6 /9\n",
      "[0]\teval-auc:0.5\ttrain-auc:0.5\n",
      "[1]\teval-auc:0.539769\ttrain-auc:0.557686\n",
      "[2]\teval-auc:0.539776\ttrain-auc:0.557691\n",
      "[3]\teval-auc:0.64306\ttrain-auc:0.652041\n",
      "[4]\teval-auc:0.669147\ttrain-auc:0.692711\n",
      "[5]\teval-auc:0.686608\ttrain-auc:0.740013\n",
      "[6]\teval-auc:0.672192\ttrain-auc:0.767766\n",
      "[7]\teval-auc:0.680195\ttrain-auc:0.784095\n",
      "[8]\teval-auc:0.675297\ttrain-auc:0.802771\n",
      "[9]\teval-auc:0.677668\ttrain-auc:0.811038\n",
      "7 /9\n",
      "[0]\teval-auc:0.5\ttrain-auc:0.5\n",
      "[1]\teval-auc:0.526524\ttrain-auc:0.60391\n",
      "[2]\teval-auc:0.521551\ttrain-auc:0.663587\n",
      "[3]\teval-auc:0.519652\ttrain-auc:0.677154\n",
      "[4]\teval-auc:0.554562\ttrain-auc:0.697358\n",
      "[5]\teval-auc:0.560378\ttrain-auc:0.725454\n",
      "[6]\teval-auc:0.588329\ttrain-auc:0.744043\n",
      "[7]\teval-auc:0.601838\ttrain-auc:0.76809\n",
      "[8]\teval-auc:0.595977\ttrain-auc:0.773644\n",
      "[9]\teval-auc:0.59934\ttrain-auc:0.776005\n",
      "8 /9\n",
      "[0]\teval-auc:0.5\ttrain-auc:0.5\n",
      "[1]\teval-auc:0.5\ttrain-auc:0.5\n",
      "[2]\teval-auc:0.5\ttrain-auc:0.5\n",
      "[3]\teval-auc:0.5\ttrain-auc:0.5\n",
      "[4]\teval-auc:0.498525\ttrain-auc:0.514777\n",
      "[5]\teval-auc:0.41235\ttrain-auc:0.731229\n",
      "[6]\teval-auc:0.397707\ttrain-auc:0.776408\n",
      "[7]\teval-auc:0.420149\ttrain-auc:0.82209\n",
      "[8]\teval-auc:0.373949\ttrain-auc:0.883955\n",
      "[9]\teval-auc:0.315388\ttrain-auc:0.895053\n",
      "9 /9\n"
     ]
    }
   ],
   "source": [
    "import xgboost as xgb\n",
    "\n",
    "xgb_model = []\n",
    "train_ad_pd = []\n",
    "train_ad_rmse = []\n",
    "train_ad_auc = []\n",
    "train_ad_report = []\n",
    "vali_ad_pd = []\n",
    "vali_ad_rmse = []\n",
    "vali_ad_auc = []\n",
    "\n",
    "param = {'max_depth':4, 'eta':1, 'silent':1, 'objective':'binary:logistic' }\n",
    "param['nthread'] = 4\n",
    "param['eval_metric'] = 'auc'\n",
    "plst = param.items()\n",
    "\n",
    "num_round = 10\n",
    "\n",
    "for i in range(ad_len):\n",
    "    dtrain = (xgb.DMatrix(_train_ad_onehot[i],_train_ad_click[i]))\n",
    "    dvali = (xgb.DMatrix(_ad_onehot[i],_ad_click[i]))\n",
    "    evallist  = [(dvali,'eval'), (dtrain,'train')]\n",
    "    dptrain = xgb.DMatrix(train_ad_onehot[i])\n",
    "    dpvali =xgb.DMatrix(vali_ad_onehot[i])\n",
    "    \n",
    "    xgb_model.append(xgb.train( plst, dtrain, num_round, evallist ))\n",
    "    train_ad_pd.append(xgb_model[i].predict(dptrain))\n",
    "    train_ad_rmse.append(rmse(train_ad_click[i],train_ad_pd[i]))\n",
    "    train_ad_auc.append(auc(train_ad_click[i],train_ad_pd[i]))\n",
    "    \n",
    "    vali_ad_pd.append(xgb_model[i].predict(dpvali))\n",
    "    vali_ad_rmse.append(rmse(vali_ad_click[i],vali_ad_pd[i]))\n",
    "    vali_ad_auc.append(auc(vali_ad_click[i],vali_ad_pd[i]))\n",
    "    print(i+1,'/9')"
   ]
  },
  {
   "cell_type": "code",
   "execution_count": 14,
   "metadata": {
    "collapsed": false
   },
   "outputs": [
    {
     "name": "stdout",
     "output_type": "stream",
     "text": [
      "xgb trainning results\n",
      "ad 1458 : RMSE 0.0210262659299 AUC 0.96357488059\n",
      "ad 3476 : RMSE 0.0207153351128 AUC 0.925217669784\n",
      "ad 3427 : RMSE 0.0222728394306 AUC 0.957090440669\n",
      "ad 3358 : RMSE 0.0236658000896 AUC 0.956338287431\n",
      "ad 2259 : RMSE 0.0174646943302 AUC 0.865710356755\n",
      "ad 2821 : RMSE 0.0248399425182 AUC 0.777989154065\n",
      "ad 3386 : RMSE 0.0264984011767 AUC 0.782049242606\n",
      "ad 2997 : RMSE 0.0674131482699 AUC 0.741621132551\n",
      "ad 2261 : RMSE 0.0174405504593 AUC 0.800851119817\n",
      "xgb validation results\n",
      "ad 1458 : RMSE 0.0218420981693 AUC 0.966008170071\n",
      "ad 3476 : RMSE 0.0184966660166 AUC 0.797117514433\n",
      "ad 3427 : RMSE 0.0245907426539 AUC 0.970605310094\n",
      "ad 3358 : RMSE 0.0227024799446 AUC 0.926340903666\n",
      "ad 2259 : RMSE 0.0259096584936 AUC 0.606347790435\n",
      "ad 2821 : RMSE 0.0250477005773 AUC 0.537762043254\n",
      "ad 3386 : RMSE 0.0246328486995 AUC 0.746631058697\n",
      "ad 2997 : RMSE 0.0654375197595 AUC 0.701964688108\n",
      "ad 2261 : RMSE 0.0193934779049 AUC 0.621129816685\n"
     ]
    }
   ],
   "source": [
    "j = 0\n",
    "print('xgb trainning results')\n",
    "for i in ad_name:\n",
    "    \n",
    "    print('ad',i,':','RMSE',train_ad_rmse[j],'AUC',train_ad_auc[j])\n",
    "    \n",
    "    j+=1\n",
    "j = 0\n",
    "print('xgb validation results')\n",
    "for i in ad_name:    \n",
    "    print('ad',i,':','RMSE',vali_ad_rmse[j],'AUC',vali_ad_auc[j])\n",
    "    j+=1"
   ]
  },
  {
   "cell_type": "raw",
   "metadata": {},
   "source": [
    "xgb validation results\n",
    "ad 1458 : RMSE 0.0217942473851 AUC 0.964258274281\n",
    "ad 3476 : RMSE 0.019836956863 AUC 0.823949256842\n",
    "ad 3427 : RMSE 0.0247393551685 AUC 0.952029031574\n",
    "ad 3358 : RMSE 0.0227416115309 AUC 0.920750748383\n",
    "ad 2259 : RMSE 0.0259010117117 AUC 0.597219759762\n",
    "ad 2821 : RMSE 0.0250923827508 AUC 0.530942574953\n",
    "ad 3386 : RMSE 0.0245510455235 AUC 0.668235845393\n",
    "ad 2997 : RMSE 0.0655661704949 AUC 0.661435393834\n",
    "ad 2261 : RMSE 0.0193977560541 AUC 0.494605312383"
   ]
  },
  {
   "cell_type": "code",
   "execution_count": 15,
   "metadata": {
    "collapsed": true
   },
   "outputs": [],
   "source": [
    "from sklearn.ensemble import RandomForestRegressor, BaggingRegressor, ExtraTreesRegressor,AdaBoostRegressor,GradientBoostingRegressor"
   ]
  },
  {
   "cell_type": "code",
   "execution_count": 64,
   "metadata": {
    "collapsed": false
   },
   "outputs": [
    {
     "name": "stdout",
     "output_type": "stream",
     "text": [
      "1 /9\n",
      "2 /9\n",
      "3 /9\n",
      "4 /9\n",
      "5 /9\n",
      "6 /9\n",
      "7 /9\n",
      "8 /9\n",
      "9 /9\n"
     ]
    }
   ],
   "source": [
    "from sklearn.ensemble import RandomForestClassifier\n",
    "rf_model = []\n",
    "train_ad_rfpd = []\n",
    "train_ad_rfrmse = []\n",
    "train_ad_rfauc = []\n",
    "vali_ad_rfpd = []\n",
    "vali_ad_rfrmse = []\n",
    "vali_ad_rfauc = []\n",
    "\n",
    "for i in range(ad_len):\n",
    "    rf_model.append(RandomForestClassifier(n_estimators=50, max_depth=15, random_state=2017))\n",
    "    rf_model[i].fit(train_ad_onehot[i], train_ad_click[i])\n",
    "    train_ad_rfpd.append((rf_model[i].predict_proba(train_ad_onehot[i]))[:,1])\n",
    "    train_ad_rfrmse.append(rmse(train_ad_click[i],train_ad_rfpd[i]))\n",
    "    train_ad_rfauc.append(auc(train_ad_click[i],train_ad_rfpd[i]))\n",
    "    vali_ad_rfpd.append((rf_model[i].predict_proba(vali_ad_onehot[i]))[:,1])\n",
    "    vali_ad_rfrmse.append(rmse(vali_ad_click[i],vali_ad_rfpd[i]))\n",
    "    vali_ad_rfauc.append(auc(vali_ad_click[i],vali_ad_rfpd[i]))\n",
    "    print(i+1,'/9')\n",
    "    "
   ]
  },
  {
   "cell_type": "code",
   "execution_count": 17,
   "metadata": {
    "collapsed": false
   },
   "outputs": [
    {
     "name": "stdout",
     "output_type": "stream",
     "text": [
      "random forest trainning results\n",
      "ad 1458 : RMSE 0.0206354988129 AUC 0.999407509158\n",
      "ad 3476 : RMSE 0.0184468591658 AUC 0.999726397554\n",
      "ad 3427 : RMSE 0.0224076299965 AUC 0.999052584637\n",
      "ad 3358 : RMSE 0.021810827074 AUC 0.997375102623\n",
      "ad 2259 : RMSE 0.0145293845256 AUC 0.999201421781\n",
      "ad 2821 : RMSE 0.0215474213039 AUC 0.996983995637\n",
      "ad 3386 : RMSE 0.0239921667852 AUC 0.996682757647\n",
      "ad 2997 : RMSE 0.0654183671527 AUC 0.940485972623\n",
      "ad 2261 : RMSE 0.0135280100227 AUC 0.999778775641\n",
      "random forest validation results\n",
      "ad 1458 : RMSE 0.0244789946604 AUC 0.915764902043\n",
      "ad 3476 : RMSE 0.0180653417045 AUC 0.804952272268\n",
      "ad 3427 : RMSE 0.0283000335803 AUC 0.94059983577\n",
      "ad 3358 : RMSE 0.0263264345625 AUC 0.88220763778\n",
      "ad 2259 : RMSE 0.0259315535327 AUC 0.614622578786\n",
      "ad 2821 : RMSE 0.0250807669506 AUC 0.558995110478\n",
      "ad 3386 : RMSE 0.0245902394732 AUC 0.724251378422\n",
      "ad 2997 : RMSE 0.0658352288264 AUC 0.655449784902\n",
      "ad 2261 : RMSE 0.0194210495672 AUC 0.680336700337\n"
     ]
    }
   ],
   "source": [
    "j = 0\n",
    "print('random forest trainning results')\n",
    "for i in ad_name:\n",
    "    \n",
    "    print('ad',i,':','RMSE',train_ad_rfrmse[j],'AUC',train_ad_rfauc[j])\n",
    "    \n",
    "    j+=1\n",
    "j = 0\n",
    "print('random forest validation results')\n",
    "for i in ad_name:    \n",
    "    print('ad',i,':','RMSE',vali_ad_rfrmse[j],'AUC',vali_ad_rfauc[j])\n",
    "    j+=1"
   ]
  },
  {
   "cell_type": "raw",
   "metadata": {},
   "source": [
    "random forest trainning results\n",
    "ad 1458 : RMSE 0.0210113022319 AUC 0.99918776637\n",
    "ad 3476 : RMSE 0.0184816119955 AUC 0.99973722097\n",
    "ad 3427 : RMSE 0.0222041869007 AUC 0.998321505943\n",
    "ad 3358 : RMSE 0.0220191036685 AUC 0.997361820477\n",
    "ad 2259 : RMSE 0.0149088471846 AUC 0.998543991846\n",
    "ad 2821 : RMSE 0.0214543949742 AUC 0.994721388067\n",
    "ad 3386 : RMSE 0.0239865954047 AUC 0.995089985786\n",
    "ad 2997 : RMSE 0.0666411769728 AUC 0.892797201194\n",
    "ad 2261 : RMSE 0.0136995586807 AUC 0.999481680516\n",
    "random forest validation results\n",
    "ad 1458 : RMSE 0.0243214407306 AUC 0.922120550229\n",
    "ad 3476 : RMSE 0.0181659869633 AUC 0.767168313065\n",
    "ad 3427 : RMSE 0.0279758478618 AUC 0.924461617928\n",
    "ad 3358 : RMSE 0.0262703146124 AUC 0.884001129966\n",
    "ad 2259 : RMSE 0.0259515780016 AUC 0.518123088516\n",
    "ad 2821 : RMSE 0.0251226841327 AUC 0.665704540131\n",
    "ad 3386 : RMSE 0.0244932747479 AUC 0.729408271574\n",
    "ad 2997 : RMSE 0.0656189612862 AUC 0.639730359521\n",
    "ad 2261 : RMSE 0.0194418370492 AUC 0.672383090161\n"
   ]
  },
  {
   "cell_type": "code",
   "execution_count": 18,
   "metadata": {
    "collapsed": false
   },
   "outputs": [
    {
     "name": "stdout",
     "output_type": "stream",
     "text": [
      "1 /9\n",
      "2 /9\n",
      "3 /9\n",
      "4 /9\n",
      "5 /9\n",
      "6 /9\n",
      "7 /9\n",
      "8 /9\n",
      "9 /9\n"
     ]
    }
   ],
   "source": [
    "from sklearn.ensemble import ExtraTreesClassifier\n",
    "etr_model = []\n",
    "train_ad_etrpd = []\n",
    "train_ad_etrrmse = []\n",
    "train_ad_etrauc = []\n",
    "vali_ad_etrpd = []\n",
    "vali_ad_etrrmse = []\n",
    "vali_ad_etrauc = []\n",
    "\n",
    "for i in range(ad_len):\n",
    "    etr_model.append(ExtraTreesClassifier(n_estimators=150, max_depth=20, random_state=2017))\n",
    "    etr_model[i].fit(train_ad_onehot[i], train_ad_click[i])\n",
    "    train_ad_etrpd.append((etr_model[i].predict_proba(train_ad_onehot[i]))[:,1])\n",
    "    train_ad_etrrmse.append(rmse(train_ad_click[i],train_ad_etrpd[i]))\n",
    "    train_ad_etrauc.append(auc(train_ad_click[i],train_ad_etrpd[i]))\n",
    "    vali_ad_etrpd.append((etr_model[i].predict_proba(vali_ad_onehot[i]))[:,1])\n",
    "    vali_ad_etrrmse.append(rmse(vali_ad_click[i],vali_ad_etrpd[i]))\n",
    "    vali_ad_etrauc.append(auc(vali_ad_click[i],vali_ad_etrpd[i]))\n",
    "    print(i+1,'/9')\n"
   ]
  },
  {
   "cell_type": "code",
   "execution_count": 19,
   "metadata": {
    "collapsed": false
   },
   "outputs": [
    {
     "name": "stdout",
     "output_type": "stream",
     "text": [
      "extra tree regressor trainning results\n",
      "ad 1458 : RMSE 0.0140260372712 AUC 0.999965001667\n",
      "ad 3476 : RMSE 0.0126974736822 AUC 0.999998573914\n",
      "ad 3427 : RMSE 0.0155911426269 AUC 0.99994270848\n",
      "ad 3358 : RMSE 0.0163638245587 AUC 0.999198188183\n",
      "ad 2259 : RMSE 0.0119800210738 AUC 0.999834014465\n",
      "ad 2821 : RMSE 0.0176154045248 AUC 0.999669595998\n",
      "ad 3386 : RMSE 0.0198284036356 AUC 0.999777033526\n",
      "ad 2997 : RMSE 0.0635040482819 AUC 0.966523426171\n",
      "ad 2261 : RMSE 0.0103079363546 AUC 0.999976241356\n",
      "extra tree regressor validation results\n",
      "ad 1458 : RMSE 0.0233972475267 AUC 0.92254039183\n",
      "ad 3476 : RMSE 0.0181007358943 AUC 0.774514698715\n",
      "ad 3427 : RMSE 0.0277463527719 AUC 0.939131039415\n",
      "ad 3358 : RMSE 0.0257494361167 AUC 0.901073248498\n",
      "ad 2259 : RMSE 0.0260401907863 AUC 0.582858694207\n",
      "ad 2821 : RMSE 0.0253784219822 AUC 0.620409363289\n",
      "ad 3386 : RMSE 0.0247225347456 AUC 0.677119984355\n",
      "ad 2997 : RMSE 0.0668980301332 AUC 0.647255582301\n",
      "ad 2261 : RMSE 0.019443100562 AUC 0.61872802095\n"
     ]
    }
   ],
   "source": [
    "j = 0\n",
    "print('extra tree regressor trainning results')\n",
    "for i in ad_name:\n",
    "    print('ad',i,':','RMSE',train_ad_etrrmse[j],'AUC',train_ad_etrauc[j])\n",
    "    j+=1\n",
    "    \n",
    "j = 0\n",
    "print('extra tree regressor validation results')\n",
    "for i in ad_name:    \n",
    "    print('ad',i,':','RMSE',vali_ad_etrrmse[j],'AUC',vali_ad_etrauc[j])\n",
    "    j+=1"
   ]
  },
  {
   "cell_type": "raw",
   "metadata": {},
   "source": [
    "extra tree regressor trainning results\n",
    "ad 1458 : RMSE 0.0144540014519 AUC 0.999959545115\n",
    "ad 3476 : RMSE 0.0130555210319 AUC 0.999998219453\n",
    "ad 3427 : RMSE 0.0160957586317 AUC 0.999915516482\n",
    "ad 3358 : RMSE 0.0164950030626 AUC 0.999151816933\n",
    "ad 2259 : RMSE 0.0126159955774 AUC 0.999560350357\n",
    "ad 2821 : RMSE 0.0179952696016 AUC 0.998505412458\n",
    "ad 3386 : RMSE 0.0201007613147 AUC 0.999642144612\n",
    "ad 2997 : RMSE 0.065880925332 AUC 0.924206338596\n",
    "ad 2261 : RMSE 0.0107796932391 AUC 0.999962008583\n",
    "extra tree regressor validation results\n",
    "ad 1458 : RMSE 0.0234284317376 AUC 0.939818924552\n",
    "ad 3476 : RMSE 0.0182198480733 AUC 0.777860989266\n",
    "ad 3427 : RMSE 0.0276705970687 AUC 0.935677800735\n",
    "ad 3358 : RMSE 0.0257304873023 AUC 0.88544862488\n",
    "ad 2259 : RMSE 0.0259863372874 AUC 0.546972651921\n",
    "ad 2821 : RMSE 0.0255063213375 AUC 0.637955769831\n",
    "ad 3386 : RMSE 0.0247106841752 AUC 0.664531946369\n",
    "ad 2997 : RMSE 0.0661753882853 AUC 0.617253917853\n",
    "ad 2261 : RMSE 0.0194518585125 AUC 0.607961092406"
   ]
  },
  {
   "cell_type": "code",
   "execution_count": 20,
   "metadata": {
    "collapsed": false
   },
   "outputs": [
    {
     "name": "stdout",
     "output_type": "stream",
     "text": [
      "1 /9\n",
      "2 /9\n",
      "3 /9\n",
      "4 /9\n",
      "5 /9\n",
      "6 /9\n",
      "7 /9\n",
      "8 /9\n",
      "9 /9\n"
     ]
    }
   ],
   "source": [
    "from sklearn.ensemble import GradientBoostingClassifier\n",
    "gbc_model = []\n",
    "train_ad_gbcpd = []\n",
    "train_ad_gbcrmse = []\n",
    "train_ad_gbcauc = []\n",
    "vali_ad_gbcpd = []\n",
    "vali_ad_gbcrmse = []\n",
    "vali_ad_gbcauc = []\n",
    "    \n",
    "for i in range(ad_len):\n",
    "\n",
    "    gbc_model.append(GradientBoostingClassifier(n_estimators= 100,max_depth= 4, min_samples_leaf=15, learning_rate= 0.035))\n",
    "#     print('fitting model:',i)\n",
    "    gbc_model[i].fit(train_ad_onehot[i], train_ad_click[i])\n",
    "#     print('predicting')\n",
    "    vali_ad_gbcpd.append((gbc_model[i].predict_proba(vali_ad_onehot[i]))[:,1])\n",
    "    vali_ad_gbcrmse.append(rmse(vali_ad_click[i],vali_ad_gbcpd[i]))\n",
    "    vali_ad_gbcauc.append(auc(vali_ad_click[i],vali_ad_gbcpd[i]))\n",
    "    print(i+1,'/9')"
   ]
  },
  {
   "cell_type": "code",
   "execution_count": 21,
   "metadata": {
    "collapsed": true
   },
   "outputs": [],
   "source": [
    "for i in range(ad_len):\n",
    "    train_ad_gbcpd.append((gbc_model[i].predict_proba(train_ad_onehot[i]))[:,1])"
   ]
  },
  {
   "cell_type": "code",
   "execution_count": 22,
   "metadata": {
    "collapsed": false
   },
   "outputs": [
    {
     "name": "stdout",
     "output_type": "stream",
     "text": [
      "gradient boosting classification validation results\n",
      "ad 1458 : RMSE 0.0269461885943 AUC 0.703915131305\n",
      "ad 3476 : RMSE 0.0207309003167 AUC 0.674057629899\n",
      "ad 3427 : RMSE 0.0282553662663 AUC 0.674674189447\n",
      "ad 3358 : RMSE 0.0237282904513 AUC 0.920677388202\n",
      "ad 2259 : RMSE 0.0259758503478 AUC 0.580102278268\n",
      "ad 2821 : RMSE 0.0251567783722 AUC 0.592125039038\n",
      "ad 3386 : RMSE 0.0245737886826 AUC 0.739048297085\n",
      "ad 2997 : RMSE 0.0654336574265 AUC 0.69494200041\n",
      "ad 2261 : RMSE 0.021365131573 AUC 0.572248410026\n"
     ]
    }
   ],
   "source": [
    "# j = 0\n",
    "# print('extra tree classification trainning results')\n",
    "# for i in ad_name:\n",
    "#     print('ad',i,':','RMSE',train_ad_gbcrmse[j],'AUC',train_ad_gbcauc[j])\n",
    "#     j+=1\n",
    "j = 0\n",
    "print('gradient boosting classification validation results')\n",
    "for i in ad_name:    \n",
    "    print('ad',i,':','RMSE',vali_ad_gbcrmse[j],'AUC',vali_ad_gbcauc[j])\n",
    "    j+=1"
   ]
  },
  {
   "cell_type": "raw",
   "metadata": {},
   "source": [
    "gradient boosting classification validation results\n",
    "ad 1458 : RMSE 0.0298038599796 AUC 0.963225343893\n",
    "ad 3476 : RMSE 0.0207179601668 AUC 0.672073432157\n",
    "ad 3427 : RMSE 0.0285043446949 AUC 0.694419500954\n",
    "ad 3358 : RMSE 0.0414943462695 AUC 0.937509717487\n",
    "ad 2259 : RMSE 0.0259830818523 AUC 0.591042063738\n",
    "ad 2821 : RMSE 0.0250796616159 AUC 0.58919962133\n",
    "ad 3386 : RMSE 0.024527083622 AUC 0.68457227863\n",
    "ad 2997 : RMSE 0.0655184049188 AUC 0.656547680016\n",
    "ad 2261 : RMSE 0.0211107043447 AUC 0.57011597456"
   ]
  },
  {
   "cell_type": "code",
   "execution_count": 23,
   "metadata": {
    "collapsed": false
   },
   "outputs": [
    {
     "name": "stdout",
     "output_type": "stream",
     "text": [
      "1 /9\n",
      "2 /9\n",
      "3 /9\n",
      "4 /9\n",
      "5 /9\n",
      "6 /9\n",
      "7 /9\n",
      "8 /9\n",
      "9 /9\n"
     ]
    }
   ],
   "source": [
    "from sklearn.ensemble import AdaBoostClassifier\n",
    "adb_model = []\n",
    "train_ad_adbpd = []\n",
    "train_ad_adbrmse = []\n",
    "train_ad_adbauc = []\n",
    "vali_ad_adbpd = []\n",
    "vali_ad_adbrmse = []\n",
    "vali_ad_adbauc = []\n",
    "\n",
    "for i in range(ad_len):\n",
    "    adb_model.append(AdaBoostClassifier(n_estimators=100, learning_rate=0.5, random_state=2017))\n",
    "    adb_model[i].fit(train_ad_onehot[i], train_ad_click[i])\n",
    "#     train_ad_adbpd.append((adb_model[i].predict_proba(train_ad_onehot[i]))[:,1])\n",
    "#     train_ad_adbrmse.append(rmse(train_ad_click[i],train_ad_adbpd[i]))\n",
    "#     train_ad_adbauc.append(auc(train_ad_adbpd[i],train_ad_adbpd[i]))\n",
    "    vali_ad_adbpd.append((adb_model[i].predict_proba(vali_ad_onehot[i]))[:,1])\n",
    "    vali_ad_adbrmse.append(rmse(vali_ad_click[i],vali_ad_adbpd[i]))\n",
    "    vali_ad_adbauc.append(auc(vali_ad_click[i],vali_ad_adbpd[i]))\n",
    "    print(i+1,'/9')\n"
   ]
  },
  {
   "cell_type": "code",
   "execution_count": 24,
   "metadata": {
    "collapsed": false
   },
   "outputs": [
    {
     "name": "stdout",
     "output_type": "stream",
     "text": [
      "Adaboosting validation results\n",
      "ad 1458 : RMSE 0.450230607151 AUC 0.96234731138\n",
      "ad 3476 : RMSE 0.448387021958 AUC 0.685262452995\n",
      "ad 3427 : RMSE 0.453616844208 AUC 0.949467357138\n",
      "ad 3358 : RMSE 0.450010233814 AUC 0.937913745946\n",
      "ad 2259 : RMSE 0.417785497635 AUC 0.585811799122\n",
      "ad 2821 : RMSE 0.452874823988 AUC 0.601711332761\n",
      "ad 3386 : RMSE 0.459623950185 AUC 0.695428534388\n",
      "ad 2997 : RMSE 0.466812336247 AUC 0.674645344669\n",
      "ad 2261 : RMSE 0.403476709359 AUC 0.565679012346\n"
     ]
    }
   ],
   "source": [
    "# j = 0\n",
    "# print('Adaboosting trainning results')\n",
    "# for i in ad_name:\n",
    "#     print('ad',i,':','RMSE',train_ad_adbrmse[j],'AUC',train_ad_adbauc[j])\n",
    "#     j+=1\n",
    "j = 0\n",
    "print('Adaboosting validation results')\n",
    "for i in ad_name:    \n",
    "    print('ad',i,':','RMSE',vali_ad_adbrmse[j],'AUC',vali_ad_adbauc[j])\n",
    "    j+=1"
   ]
  },
  {
   "cell_type": "raw",
   "metadata": {
    "collapsed": true
   },
   "source": [
    "Adaboosting validation results\n",
    "ad 1458 : RMSE 0.450369772464 AUC 0.963908628595\n",
    "ad 3476 : RMSE 0.449349903403 AUC 0.674023949059\n",
    "ad 3427 : RMSE 0.453485636704 AUC 0.942543220668\n",
    "ad 3358 : RMSE 0.449437385353 AUC 0.93714401151\n",
    "ad 2259 : RMSE 0.416637456771 AUC 0.592787332122\n",
    "ad 2821 : RMSE 0.452913962076 AUC 0.591012453154\n",
    "ad 3386 : RMSE 0.459870000249 AUC 0.665648746772\n",
    "ad 2997 : RMSE 0.466973307183 AUC 0.630300624808\n",
    "ad 2261 : RMSE 0.403631403828 AUC 0.569726898616"
   ]
  },
  {
   "cell_type": "code",
   "execution_count": 25,
   "metadata": {
    "collapsed": false
   },
   "outputs": [],
   "source": [
    "from sklearn.feature_selection import SelectFromModel\n",
    "from sklearn.pipeline import Pipeline\n",
    "pipe_model = []\n",
    "\n",
    "for i in range(ad_len):\n",
    "    pipe_model.append(Pipeline([('feature_selection', SelectFromModel(rf_model[i])),('classification',rf_model[i])]))\n",
    "    pipe_model[i].fit(train_ad_onehot[i],train_ad_click[i])"
   ]
  },
  {
   "cell_type": "code",
   "execution_count": 26,
   "metadata": {
    "collapsed": false
   },
   "outputs": [],
   "source": [
    "pipe_pd = []\n",
    "pipe_rmse = []\n",
    "pipe_auc = []\n",
    "for i in range(ad_len):\n",
    "    pipe_pd.append((pipe_model[i].predict_proba(vali_ad_onehot[i]))[:,1])\n",
    "    pipe_rmse.append(rmse(vali_ad_click[i],pipe_pd[i]))\n",
    "    pipe_auc.append(auc(vali_ad_click[i],pipe_pd[i]))"
   ]
  },
  {
   "cell_type": "code",
   "execution_count": 27,
   "metadata": {
    "collapsed": false,
    "scrolled": true
   },
   "outputs": [
    {
     "name": "stdout",
     "output_type": "stream",
     "text": [
      "pipe+rf validation results\n",
      "ad 1458 : RMSE 0.0225445415203 AUC 0.936548228429\n",
      "ad 3476 : RMSE 0.0182073395726 AUC 0.759756546961\n",
      "ad 3427 : RMSE 0.0266955381163 AUC 0.932587677474\n",
      "ad 3358 : RMSE 0.025772788801 AUC 0.900473775378\n",
      "ad 2259 : RMSE 0.0259403996502 AUC 0.633191680333\n",
      "ad 2821 : RMSE 0.0251815299869 AUC 0.60585547119\n",
      "ad 3386 : RMSE 0.0246136344906 AUC 0.721710973374\n",
      "ad 2997 : RMSE 0.067272112364 AUC 0.620944509884\n",
      "ad 2261 : RMSE 0.0194772234451 AUC 0.378174335952\n"
     ]
    }
   ],
   "source": [
    "j = 0\n",
    "print('pipe+rf validation results')\n",
    "for i in ad_name:    \n",
    "    print('ad',i,':','RMSE',pipe_rmse[j],'AUC',pipe_auc[j])\n",
    "    j+=1"
   ]
  },
  {
   "cell_type": "raw",
   "metadata": {},
   "source": [
    "pipe+rf validation results\n",
    "ad 1458 : RMSE 0.0227165261253 AUC 0.929832263443\n",
    "ad 3476 : RMSE 0.0182591352309 AUC 0.72260757066\n",
    "ad 3427 : RMSE 0.0270927658372 AUC 0.898220844812\n",
    "ad 3358 : RMSE 0.0255401111796 AUC 0.890382370782\n",
    "ad 2259 : RMSE 0.0260225433615 AUC 0.389070187492\n",
    "ad 2821 : RMSE 0.025170116463 AUC 0.581348083229\n",
    "ad 3386 : RMSE 0.0245879128571 AUC 0.631885722698\n",
    "ad 2997 : RMSE 0.0663635854884 AUC 0.563092159172\n",
    "ad 2261 : RMSE 0.0194618428083 AUC 0.625267489712"
   ]
  },
  {
   "cell_type": "raw",
   "metadata": {},
   "source": [
    "random forest validation results\n",
    "ad 1458 : RMSE 0.0243214407306 AUC 0.922120550229\n",
    "ad 3476 : RMSE 0.0181659869633 AUC 0.767168313065\n",
    "ad 3427 : RMSE 0.0279758478618 AUC 0.924461617928\n",
    "ad 3358 : RMSE 0.0262703146124 AUC 0.884001129966\n",
    "ad 2259 : RMSE 0.0259515780016 AUC 0.518123088516\n",
    "ad 2821 : RMSE 0.0251226841327 AUC 0.665704540131\n",
    "ad 3386 : RMSE 0.0244932747479 AUC 0.729408271574\n",
    "ad 2997 : RMSE 0.0656189612862 AUC 0.639730359521\n",
    "ad 2261 : RMSE 0.0194418370492 AUC 0.672383090161"
   ]
  },
  {
   "cell_type": "code",
   "execution_count": 28,
   "metadata": {
    "collapsed": false
   },
   "outputs": [
    {
     "name": "stdout",
     "output_type": "stream",
     "text": [
      "0\n",
      "1\n",
      "2\n",
      "3\n",
      "4\n",
      "5\n",
      "6\n",
      "7\n",
      "8\n"
     ]
    }
   ],
   "source": [
    "# ## Concatenating Level 1 results\n",
    "train_L1 = []\n",
    "test_L1 = []\n",
    "L2_model = []\n",
    "vali_pd = []\n",
    "for i in range(ad_len):\n",
    "    print(i)\n",
    "    train_L1.append(np.column_stack((train_ad_gbcpd[i],train_ad_rfpd[i],train_ad_pd[i])))\n",
    "    test_L1.append(np.column_stack((vali_ad_gbcpd[i],vali_ad_rfpd[i],vali_ad_pd[i])))#add as much as u want and wish u good luck\n",
    "    \n",
    "\n",
    "    # ## Fitting Level 1 models\n",
    "\n",
    "    L2_model.append(RandomForestClassifier(n_estimators=66, max_depth=16, random_state=1024))#y_pred_rfbagging,y_pred_xgb\n",
    "\n",
    "    L2_model[i].fit(train_L1[i],train_ad_click[i])\n",
    "    vali_pd.append(L2_model[i].predict(test_L1[i]))"
   ]
  },
  {
   "cell_type": "code",
   "execution_count": 29,
   "metadata": {
    "collapsed": false
   },
   "outputs": [],
   "source": [
    "st_vali_pd = []\n",
    "for i in range(ad_len):\n",
    "    st_vali_pd.append((L2_model[i].predict_proba(test_L1[i]))[:,1])"
   ]
  },
  {
   "cell_type": "code",
   "execution_count": 30,
   "metadata": {
    "collapsed": false
   },
   "outputs": [
    {
     "name": "stdout",
     "output_type": "stream",
     "text": [
      "RMSE 0.0269302627164 AUC 0.895781909129\n",
      "RMSE 0.0199903453799 AUC 0.627741521344\n",
      "RMSE 0.0303891607233 AUC 0.77827753055\n",
      "RMSE 0.0270759497991 AUC 0.748761088884\n",
      "RMSE 0.0275496601772 AUC 0.486439541687\n",
      "RMSE 0.0291799672515 AUC 0.480600503592\n",
      "RMSE 0.0292834039277 AUC 0.546990214675\n",
      "RMSE 0.0738400631875 AUC 0.560592287207\n",
      "RMSE 0.0199694437269 AUC 0.460044893378\n"
     ]
    }
   ],
   "source": [
    "for i in range(ad_len):\n",
    "    print('RMSE',rmse(vali_ad_click[i],st_vali_pd[i]),'AUC',auc(vali_ad_click[i],st_vali_pd[i]))"
   ]
  },
  {
   "cell_type": "raw",
   "metadata": {},
   "source": [
    "RMSE 0.0261605842793 AUC 0.835797749062\n",
    "RMSE 0.0208116853042 AUC 0.614119602645\n",
    "RMSE 0.0289148680207 AUC 0.848645325634\n",
    "RMSE 0.0266069073876 AUC 0.765681559878\n",
    "RMSE 0.0265537209878 AUC 0.473460839502\n",
    "RMSE 0.0290534809734 AUC 0.624971941365\n",
    "RMSE 0.0275238309624 AUC 0.502676365746\n",
    "RMSE 0.0686416475347 AUC 0.537226006351\n",
    "RMSE 0.0213003248104 AUC 0.505836139169"
   ]
  },
  {
   "cell_type": "code",
   "execution_count": 31,
   "metadata": {
    "collapsed": false
   },
   "outputs": [
    {
     "name": "stdout",
     "output_type": "stream",
     "text": [
      "1 /9\n",
      "2 /9\n",
      "3 /9\n",
      "4 /9\n",
      "5 /9\n",
      "6 /9\n",
      "7 /9\n",
      "8 /9\n",
      "9 /9\n"
     ]
    }
   ],
   "source": [
    "from sklearn.linear_model import Lasso\n",
    "\n",
    "lasso_model = []\n",
    "train_ad_lassopd = []\n",
    "train_ad_lassormse = []\n",
    "train_ad_lassoauc = []\n",
    "vali_ad_lassopd = []\n",
    "vali_ad_lassormse = []\n",
    "vali_ad_lassoauc = []\n",
    "\n",
    "for i in range(ad_len):\n",
    "    lasso_model.append(Lasso(alpha=0.00004))\n",
    "    lasso_model[i].fit(train_ad_onehot[i], train_ad_click[i])\n",
    "    train_ad_lassopd.append((lasso_model[i].predict(train_ad_onehot[i])))\n",
    "    train_ad_lassormse.append(rmse(train_ad_click[i],train_ad_lassopd[i]))\n",
    "    train_ad_lassoauc.append(auc(train_ad_click[i],train_ad_lassopd[i]))\n",
    "    vali_ad_lassopd.append((lasso_model[i].predict(vali_ad_onehot[i])))\n",
    "    vali_ad_lassormse.append(rmse(vali_ad_click[i],vali_ad_lassopd[i]))\n",
    "    vali_ad_lassoauc.append(auc(vali_ad_click[i],vali_ad_lassopd[i]))\n",
    "    print(i+1,'/9')"
   ]
  },
  {
   "cell_type": "code",
   "execution_count": 32,
   "metadata": {
    "collapsed": false
   },
   "outputs": [
    {
     "name": "stdout",
     "output_type": "stream",
     "text": [
      "Lasso validation results\n",
      "ad 1458 : RMSE 0.024319230495 AUC 0.889207836599\n",
      "ad 3476 : RMSE 0.0182846412984 AUC 0.797896136213\n",
      "ad 3427 : RMSE 0.0297063306345 AUC 0.906300769937\n",
      "ad 3358 : RMSE 0.0278221759976 AUC 0.897813647621\n",
      "ad 2259 : RMSE 0.0258764216646 AUC 0.644292141306\n",
      "ad 2821 : RMSE 0.0249758353338 AUC 0.585621535369\n",
      "ad 3386 : RMSE 0.0244187993159 AUC 0.727662755943\n",
      "ad 2997 : RMSE 0.0654280174078 AUC 0.678118278193\n",
      "ad 2261 : RMSE 0.0193342687271 AUC 0.773310886644\n"
     ]
    }
   ],
   "source": [
    "j = 0\n",
    "print('Lasso validation results')\n",
    "for i in ad_name:    \n",
    "    print('ad',i,':','RMSE',vali_ad_lassormse[j],'AUC',vali_ad_lassoauc[j])\n",
    "    j+=1"
   ]
  },
  {
   "cell_type": "raw",
   "metadata": {},
   "source": [
    "Lasso validation results\n",
    "ad 1458 : RMSE 0.0243192478018 AUC 0.889510462693\n",
    "ad 3476 : RMSE 0.018284800259 AUC 0.801699099335\n",
    "ad 3427 : RMSE 0.0297079952638 AUC 0.908316777919\n",
    "ad 3358 : RMSE 0.0278228580201 AUC 0.899746195672\n",
    "ad 2259 : RMSE 0.0258764216646 AUC 0.644292141306\n",
    "ad 2821 : RMSE 0.0249759546687 AUC 0.579150970097\n",
    "ad 3386 : RMSE 0.0244193769057 AUC 0.690008783885\n",
    "ad 2997 : RMSE 0.0654709532679 AUC 0.611073056438\n",
    "ad 2261 : RMSE 0.0193342687271 AUC 0.773310886644"
   ]
  },
  {
   "cell_type": "code",
   "execution_count": 35,
   "metadata": {
    "collapsed": false
   },
   "outputs": [
    {
     "name": "stdout",
     "output_type": "stream",
     "text": [
      "1 /9\n",
      "2 /9\n",
      "3 /9\n",
      "4 /9\n",
      "5 /9\n",
      "6 /9\n",
      "7 /9\n",
      "8 /9\n",
      "9 /9\n"
     ]
    }
   ],
   "source": [
    "from sklearn.linear_model import Ridge\n",
    "\n",
    "ridge_model = []\n",
    "train_ad_ridgepd = []\n",
    "train_ad_ridgermse = []\n",
    "train_ad_ridgeauc = []\n",
    "vali_ad_ridgepd = []\n",
    "vali_ad_ridgermse = []\n",
    "vali_ad_ridgeauc = []\n",
    "for i in range(ad_len):\n",
    "    ridge_model.append(Ridge(alpha=0))\n",
    "    ridge_model[i].fit(train_ad_onehot[i], train_ad_click[i])\n",
    "    train_ad_ridgepd.append((ridge_model[i].predict(train_ad_onehot[i])))\n",
    "    train_ad_ridgermse.append(rmse(train_ad_click[i],train_ad_ridgepd[i]))\n",
    "    train_ad_ridgeauc.append(auc(train_ad_click[i],train_ad_ridgepd[i]))\n",
    "    vali_ad_ridgepd.append((ridge_model[i].predict(vali_ad_onehot[i])))\n",
    "    vali_ad_ridgermse.append(rmse(vali_ad_click[i],vali_ad_ridgepd[i]))\n",
    "    vali_ad_ridgeauc.append(auc(vali_ad_click[i],vali_ad_ridgepd[i]))\n",
    "    print(i+1,'/9')\n",
    "\n"
   ]
  },
  {
   "cell_type": "code",
   "execution_count": 36,
   "metadata": {
    "collapsed": false
   },
   "outputs": [
    {
     "name": "stdout",
     "output_type": "stream",
     "text": [
      "ridge validation results\n",
      "ad 1458 : RMSE 0.0241945485354 AUC 0.908487036265\n",
      "ad 3476 : RMSE 0.0182992712889 AUC 0.787690841585\n",
      "ad 3427 : RMSE 0.0296858404349 AUC 0.898131004097\n",
      "ad 3358 : RMSE 0.0277765753306 AUC 0.872620995027\n",
      "ad 2259 : RMSE 0.0258769773153 AUC 0.57909390098\n",
      "ad 2821 : RMSE 0.0249785769926 AUC 0.669823059806\n",
      "ad 3386 : RMSE 0.0244054155969 AUC 0.728055531293\n",
      "ad 2997 : RMSE 0.0654387042822 AUC 0.67899531394\n",
      "ad 2261 : RMSE 0.019349782198 AUC 0.50910587355\n"
     ]
    }
   ],
   "source": [
    "j = 0\n",
    "print('ridge validation results')\n",
    "for i in ad_name:    \n",
    "    print('ad',i,':','RMSE',vali_ad_ridgermse[j],'AUC',vali_ad_ridgeauc[j])\n",
    "    j+=1"
   ]
  },
  {
   "cell_type": "raw",
   "metadata": {},
   "source": [
    "ridge validation results\n",
    "ad 1458 : RMSE 0.0241951095158 AUC 0.912422509379\n",
    "ad 3476 : RMSE 0.0182987847454 AUC 0.772598853266\n",
    "ad 3427 : RMSE 0.0296885821819 AUC 0.89639798333\n",
    "ad 3358 : RMSE 0.0277993227712 AUC 0.859772014076\n",
    "ad 2259 : RMSE 0.0258773845011 AUC 0.581681330615\n",
    "ad 2821 : RMSE 0.0249778689507 AUC 0.674527150999\n",
    "ad 3386 : RMSE 0.0244067677275 AUC 0.710937667376\n",
    "ad 2997 : RMSE 0.0654762247539 AUC 0.631392118201\n",
    "ad 2261 : RMSE 0.0193443759476 AUC 0.575735129068"
   ]
  },
  {
   "cell_type": "code",
   "execution_count": 37,
   "metadata": {
    "collapsed": false
   },
   "outputs": [
    {
     "name": "stdout",
     "output_type": "stream",
     "text": [
      "1 /9\n",
      "2 /9\n",
      "3 /9\n",
      "4 /9\n",
      "5 /9\n",
      "6 /9\n",
      "7 /9\n",
      "8 /9\n",
      "9 /9\n"
     ]
    }
   ],
   "source": [
    "from sklearn.linear_model import ElasticNet\n",
    "\n",
    "et_model = []\n",
    "train_ad_etpd = []\n",
    "train_ad_etrmse = []\n",
    "train_ad_etauc = []\n",
    "vali_ad_etpd = []\n",
    "vali_ad_etrmse = []\n",
    "vali_ad_etauc = []\n",
    "\n",
    "for i in range(ad_len):\n",
    "    et_model.append(ElasticNet(alpha=0.000008, l1_ratio=0.7))\n",
    "    et_model[i].fit(train_ad_onehot[i], train_ad_click[i])\n",
    "    train_ad_etpd.append((et_model[i].predict(train_ad_onehot[i])))\n",
    "    train_ad_etrmse.append(rmse(train_ad_click[i],train_ad_etpd[i]))\n",
    "    train_ad_etauc.append(auc(train_ad_click[i],train_ad_etpd[i]))\n",
    "    vali_ad_etpd.append((et_model[i].predict(vali_ad_onehot[i])))\n",
    "    vali_ad_etrmse.append(rmse(vali_ad_click[i],vali_ad_etpd[i]))\n",
    "    vali_ad_etauc.append(auc(vali_ad_click[i],vali_ad_etpd[i]))\n",
    "    print(i+1,'/9')"
   ]
  },
  {
   "cell_type": "code",
   "execution_count": 38,
   "metadata": {
    "collapsed": false
   },
   "outputs": [
    {
     "name": "stdout",
     "output_type": "stream",
     "text": [
      "elastic net validation results\n",
      "ad 1458 : RMSE 0.0242135117801 AUC 0.901769904127\n",
      "ad 3476 : RMSE 0.0182905485456 AUC 0.779818440458\n",
      "ad 3427 : RMSE 0.0296844008066 AUC 0.904117441902\n",
      "ad 3358 : RMSE 0.0277655410721 AUC 0.879011542732\n",
      "ad 2259 : RMSE 0.0258758508431 AUC 0.625645472275\n",
      "ad 2821 : RMSE 0.0249759824242 AUC 0.667998028576\n",
      "ad 3386 : RMSE 0.0244061613161 AUC 0.732153304339\n",
      "ad 2997 : RMSE 0.0654299443657 AUC 0.680634154461\n",
      "ad 2261 : RMSE 0.0193370816714 AUC 0.5815114104\n"
     ]
    }
   ],
   "source": [
    "j = 0\n",
    "print('elastic net validation results')\n",
    "for i in ad_name:    \n",
    "    print('ad',i,':','RMSE',vali_ad_etrmse[j],'AUC',vali_ad_etauc[j])\n",
    "    j+=1"
   ]
  },
  {
   "cell_type": "raw",
   "metadata": {},
   "source": [
    "elastic net validation results\n",
    "ad 1458 : RMSE 0.0242139776263 AUC 0.907493122134\n",
    "ad 3476 : RMSE 0.0182912419726 AUC 0.774192749506\n",
    "ad 3427 : RMSE 0.029686666166 AUC 0.90139639401\n",
    "ad 3358 : RMSE 0.0277666099243 AUC 0.879664119864\n",
    "ad 2259 : RMSE 0.0258762792391 AUC 0.656032534019\n",
    "ad 2821 : RMSE 0.0249766780795 AUC 0.645225396237\n",
    "ad 3386 : RMSE 0.0244067778075 AUC 0.72017722683\n",
    "ad 2997 : RMSE 0.0654756718892 AUC 0.628975468606\n",
    "ad 2261 : RMSE 0.0193369359226 AUC 0.586464646465"
   ]
  },
  {
   "cell_type": "code",
   "execution_count": 39,
   "metadata": {
    "collapsed": true
   },
   "outputs": [],
   "source": [
    "best = [0.964258274281,0.823949256842,0.952029031574,0.937509717487,0.644292141306,0.674527150999,0.729408271574,0.661435393834,0.773310886644]"
   ]
  },
  {
   "cell_type": "code",
   "execution_count": 40,
   "metadata": {
    "collapsed": false
   },
   "outputs": [
    {
     "data": {
      "text/plain": [
       "[0.062488370154280548,\n",
       " 0.044130816383782245,\n",
       " 0.047911589672467225,\n",
       " 0.058498174755242105,\n",
       " 0.018646669030834784,\n",
       " 0.0065291224231098788,\n",
       " -0.0027450327653710804,\n",
       " -0.019198760626719102,\n",
       " 0.19179947624370075]"
      ]
     },
     "execution_count": 40,
     "metadata": {},
     "output_type": "execute_result"
    }
   ],
   "source": [
    "list(map(lambda x: x[0]-x[1], zip(best, vali_ad_etauc)))"
   ]
  },
  {
   "cell_type": "markdown",
   "metadata": {
    "collapsed": true
   },
   "source": [
    "# Save Results"
   ]
  },
  {
   "cell_type": "code",
   "execution_count": 41,
   "metadata": {
    "collapsed": true
   },
   "outputs": [],
   "source": [
    "files = ['xgb_result','rf_result','etc_result','gbc_result','adb_result','Lasso','ridge','et']"
   ]
  },
  {
   "cell_type": "code",
   "execution_count": 42,
   "metadata": {
    "collapsed": true
   },
   "outputs": [],
   "source": [
    "def result_save (pd, auc, rmse):\n",
    "    result = []\n",
    "    result.append(pd)\n",
    "    result.append(auc)\n",
    "    result.append(rmse)\n",
    "    \n",
    "    return result"
   ]
  },
  {
   "cell_type": "code",
   "execution_count": 43,
   "metadata": {
    "collapsed": false
   },
   "outputs": [],
   "source": [
    "#bag_model = [rf_bag, etr_bag, gbc_bag, adb_bag] \n",
    "xgb_result = result_save (vali_ad_pd, vali_ad_auc, vali_ad_rmse,)\n",
    "rf_result = result_save (vali_ad_rfpd, vali_ad_rfauc, vali_ad_rfrmse)\n",
    "# rf_bag_result = result_save (bag_prob[0],bag_auc[0],bag_rmse[0])\n",
    "etc_result = result_save (vali_ad_etrpd, vali_ad_etrauc, vali_ad_etrrmse)\n",
    "# etc_bag_result = result_save (bag_prob[1],bag_auc[1],bag_rmse[1])\n",
    "gbc_result = result_save (vali_ad_gbcpd, vali_ad_gbcauc, vali_ad_gbcrmse)\n",
    "# gbc_bag_result = result_save (bag_prob[2],bag_auc[2],bag_rmse[2])\n",
    "adb_result = result_save (vali_ad_rfpd, vali_ad_rfauc, vali_ad_rfrmse)\n",
    "# adb_bag_result = result_save (bag_prob[3],bag_auc[3],bag_rmse[3])\n",
    "lasso_result = result_save (vali_ad_lassopd, vali_ad_lassoauc, vali_ad_lassormse)\n",
    "ridge_result = result_save (vali_ad_ridgepd, vali_ad_ridgeauc, vali_ad_ridgermse)\n",
    "et_result = result_save (vali_ad_etpd, vali_ad_etauc, vali_ad_etrmse)"
   ]
  },
  {
   "cell_type": "code",
   "execution_count": 44,
   "metadata": {
    "collapsed": true
   },
   "outputs": [],
   "source": [
    "result_list = [xgb_result,rf_result,etc_result,gbc_result,adb_result,lasso_result,ridge_result,et_result]"
   ]
  },
  {
   "cell_type": "code",
   "execution_count": 45,
   "metadata": {
    "collapsed": false
   },
   "outputs": [],
   "source": [
    "import pickle\n",
    "j = 0\n",
    "for i in files:\n",
    "    with open(i+\".txt\", \"wb\") as fp:\n",
    "        pickle.dump(result_list[j], fp)\n",
    "    j+=1"
   ]
  },
  {
   "cell_type": "code",
   "execution_count": 46,
   "metadata": {
    "collapsed": false
   },
   "outputs": [],
   "source": [
    "model = [xgb_model,rf_model,etr_model,gbc_model,adb_model,lasso_model,ridge_model,et_model]"
   ]
  },
  {
   "cell_type": "code",
   "execution_count": null,
   "metadata": {
    "collapsed": true
   },
   "outputs": [],
   "source": []
  },
  {
   "cell_type": "code",
   "execution_count": 47,
   "metadata": {
    "collapsed": true
   },
   "outputs": [],
   "source": [
    "# xgb xgb xgb gbc lasso rf rf xgb lasso\n",
    "no = [0, 0, 0, 3, 5, 1, 1, 0, 5]"
   ]
  },
  {
   "cell_type": "code",
   "execution_count": 48,
   "metadata": {
    "collapsed": true
   },
   "outputs": [],
   "source": [
    "combine_model = []\n",
    "j = 0\n",
    "for i in no:\n",
    "    combine_model.append(model[i][j])\n",
    "    j+=1"
   ]
  },
  {
   "cell_type": "code",
   "execution_count": 51,
   "metadata": {
    "collapsed": true
   },
   "outputs": [],
   "source": [
    "creative_list = train['creative'].value_counts().index.tolist()[:35]\n",
    "def test_data(data):\n",
    "    data['weekday'].apply(str)\n",
    "    data['hour'].apply(str)\n",
    "    \n",
    "    os_name = ['windows','android','mac','other','linux','ios']\n",
    "    data[\"OS\"] = float('NaN')\n",
    "    j=0\n",
    "    for i in (os_name):\n",
    "        data[\"OS\"][data['useragent'].map(lambda x: x.split('_')[0])==i] = os_name[j]\n",
    "        j +=1\n",
    "    \n",
    "    data[\"creative_new\"] = 'others'\n",
    "    j=0\n",
    "    for i in creative_list:\n",
    "        data[\"creative_new\"][data['creative']==i] = creative_list[j]\n",
    "        j +=1\n",
    "    \n",
    "    browser_name = ['ie','chrome','safari','firefox','other','theworld','maxthon','opera','sogou']\n",
    "    data[\"Browser\"] = float('NaN')\n",
    "    j=0\n",
    "    for i in (browser_name):\n",
    "        data[\"Browser\"][data['useragent'].map(lambda x: x.split('_')[1])==i] = browser_name[j]\n",
    "        j +=1\n",
    "    \n",
    "    data[\"IPaddress\"] = float('NaN')\n",
    "    data[\"IPaddress\"][data[\"IP\"].map(lambda x: x.split('.')[0]).astype(float)<= 255]='E'\n",
    "    data[\"IPaddress\"][data['IP'].map(lambda x: x.split('.')[0]).astype(float)<= 239]='D'\n",
    "    data[\"IPaddress\"][data['IP'].map(lambda x: x.split('.')[0]).astype(float)<= 223]='C'\n",
    "    data[\"IPaddress\"][data['IP'].map(lambda x: x.split('.')[0]).astype(float)<= 191]='B'\n",
    "    data[\"IPaddress\"][data['IP'].map(lambda x: x.split('.')[0]).astype(float)<= 126]='A'\n",
    "    \n",
    "    data[\"slotsize\"]= data.slotwidth.astype(str).str.cat(data.slotheight.astype(str), sep='*')\n",
    "    \n",
    "    data[\"slotprice_range\"] = 0\n",
    "    data[\"slotprice_range\"][data[\"slotprice\"]>0]='1-10'\n",
    "    data[\"slotprice_range\"][data[\"slotprice\"]>10]='11-50'\n",
    "    data[\"slotprice_range\"][data[\"slotprice\"]>50]='51-100'\n",
    "    data[\"slotprice_range\"][data[\"slotprice\"]>100]='101+'\n",
    "    \n",
    "    data['slotvisibility_s']=data[\"slotvisibility\"]\n",
    "    data['slotvisibility_s'][data[\"slotvisibility\"]=='0']='Na'\n",
    "    data['slotvisibility_s'][data[\"slotvisibility\"]=='1']='FirstView'\n",
    "    data['slotvisibility_s'][data[\"slotvisibility\"]=='2']='SecondView'\n",
    "    \n",
    "    data[\"platform\"]='other'\n",
    "    PC_name=['windows','mac','linux']\n",
    "    phone_name=['android','ios']\n",
    "\n",
    "    for i in (PC_name):\n",
    "        data['platform'][data[\"OS\"]==i] = 'PC'\n",
    "\n",
    "    for i in (phone_name):\n",
    "        data['platform'][data[\"OS\"]==i] = 'phone'\n",
    "        \n",
    "    usertag = data['usertag']\n",
    "    aaa = usertag.str.get_dummies(sep = ',')\n",
    "    data = data.drop('usertag',1)\n",
    "    data = data.drop(['logtype','slotprice','bidid','userid','useragent','domain','IP','url','urlid','city','slotid','slotwidth','slotheight','creative'],axis=1)\n",
    "    data=data.applymap(str)\n",
    "    bbb = pd.get_dummies(data)\n",
    "    onehot = pd.concat([bbb,aaa],axis = 1, join_axes = [bbb.index])\n",
    "    \n",
    "    \n",
    "    return onehot"
   ]
  },
  {
   "cell_type": "code",
   "execution_count": 85,
   "metadata": {
    "collapsed": true
   },
   "outputs": [],
   "source": [
    "def sq(pctr, basectr, basebid):\n",
    "    price = int(pctr*pctr*4/basectr *basebid)\n",
    "    return price"
   ]
  },
  {
   "cell_type": "code",
   "execution_count": 81,
   "metadata": {
    "collapsed": true
   },
   "outputs": [],
   "source": [
    "def ad_to_total (ad_onehot,ad_pd):\n",
    "    ad_pctr = ad_onehot\n",
    "    j = 0\n",
    "    for i in ad_name:\n",
    "        ad_pctr[j]['pctr'] = ad_pd[j]\n",
    "        ad_pctr[j]['ad'] = i\n",
    "        ad_pctr[j] = ad_pctr[j][['pctr','ad']]\n",
    "        j+=1\n",
    "    pctr = (pd.concat(ad_pctr)).sort_index()\n",
    "    return pctr"
   ]
  },
  {
   "cell_type": "code",
   "execution_count": 104,
   "metadata": {
    "collapsed": false
   },
   "outputs": [
    {
     "data": {
      "text/plain": [
       "0.00011279020403018402"
      ]
     },
     "execution_count": 104,
     "metadata": {},
     "output_type": "execute_result"
    }
   ],
   "source": [
    "import time\n",
    "start_time = time.time()\n",
    "test_onehot = test_data(test)\n",
    "ad_onehot = []\n",
    "for i in ad_name:\n",
    "    ad_onehot.append(test_onehot[test_onehot[\"advertiser_\"+str(i)]==1]) \n",
    "test_pd = [0]*9\n",
    "for i in [0,1,2,7]:\n",
    "    dpvali =xgb.DMatrix(ad_onehot[i])\n",
    "    test_pd[i] = (combine_model[i].predict(dpvali))\n",
    "for i in [4,8]:\n",
    "    test_pd[i] = combine_model[i].predict(ad_onehot[i])\n",
    "test_pd[5] = rf_model[5].predict(ad_onehot[5])\n",
    "test_pd[6] = rf_model[6].predict(ad_onehot[6])\n",
    "\n",
    "test_pctr = ad_to_total(ad_onehot,test_pd)\n",
    "\n",
    "test_price = []\n",
    "for index in range(len(test_pctr)):\n",
    "    adid = test['advertiser'].iloc[index]    \n",
    "    basectr = ad_ctr[ad_name.index(adid)]\n",
    "    pctr = test_pctr['pctr'].iloc[index]\n",
    "    test_price.append(sq(pctr,basectr,72000))\n",
    "time = time.time()-start_time\n",
    "time = time/len(test)\n",
    "time"
   ]
  },
  {
   "cell_type": "code",
   "execution_count": 99,
   "metadata": {
    "collapsed": false
   },
   "outputs": [],
   "source": [
    "test_result = pd.DataFrame({'bidid':test['bidid'],'bid_price':test_price},columns = ['bidid','bid_price'])"
   ]
  },
  {
   "cell_type": "code",
   "execution_count": 100,
   "metadata": {
    "collapsed": false
   },
   "outputs": [
    {
     "data": {
      "text/html": [
       "<div>\n",
       "<table border=\"1\" class=\"dataframe\">\n",
       "  <thead>\n",
       "    <tr style=\"text-align: right;\">\n",
       "      <th></th>\n",
       "      <th>bidid</th>\n",
       "      <th>bid_price</th>\n",
       "    </tr>\n",
       "  </thead>\n",
       "  <tbody>\n",
       "    <tr>\n",
       "      <th>0</th>\n",
       "      <td>fe2e06dff1dfd227471fd1ca717888ac</td>\n",
       "      <td>240</td>\n",
       "    </tr>\n",
       "    <tr>\n",
       "      <th>1</th>\n",
       "      <td>92ea762b7b2cfd7aee30a2e88e1f5899</td>\n",
       "      <td>1</td>\n",
       "    </tr>\n",
       "    <tr>\n",
       "      <th>2</th>\n",
       "      <td>617dfab714eedf4988c4aa9ad5425eca</td>\n",
       "      <td>0</td>\n",
       "    </tr>\n",
       "    <tr>\n",
       "      <th>3</th>\n",
       "      <td>7fa016aaa3db39413b482f757facc3f4</td>\n",
       "      <td>0</td>\n",
       "    </tr>\n",
       "    <tr>\n",
       "      <th>4</th>\n",
       "      <td>49db062ac10d19591dc7d988d730aad5</td>\n",
       "      <td>25</td>\n",
       "    </tr>\n",
       "  </tbody>\n",
       "</table>\n",
       "</div>"
      ],
      "text/plain": [
       "                              bidid  bid_price\n",
       "0  fe2e06dff1dfd227471fd1ca717888ac        240\n",
       "1  92ea762b7b2cfd7aee30a2e88e1f5899          1\n",
       "2  617dfab714eedf4988c4aa9ad5425eca          0\n",
       "3  7fa016aaa3db39413b482f757facc3f4          0\n",
       "4  49db062ac10d19591dc7d988d730aad5         25"
      ]
     },
     "execution_count": 100,
     "metadata": {},
     "output_type": "execute_result"
    }
   ],
   "source": [
    "test_result.head()"
   ]
  },
  {
   "cell_type": "code",
   "execution_count": 101,
   "metadata": {
    "collapsed": true
   },
   "outputs": [],
   "source": [
    "test_result.to_csv('test_bidding_price.csv',index = False)"
   ]
  },
  {
   "cell_type": "code",
   "execution_count": 102,
   "metadata": {
    "collapsed": false
   },
   "outputs": [
    {
     "data": {
      "text/html": [
       "<div>\n",
       "<table border=\"1\" class=\"dataframe\">\n",
       "  <thead>\n",
       "    <tr style=\"text-align: right;\">\n",
       "      <th></th>\n",
       "      <th>bidid</th>\n",
       "      <th>bid_price</th>\n",
       "    </tr>\n",
       "  </thead>\n",
       "  <tbody>\n",
       "    <tr>\n",
       "      <th>0</th>\n",
       "      <td>fe2e06dff1dfd227471fd1ca717888ac</td>\n",
       "      <td>240</td>\n",
       "    </tr>\n",
       "    <tr>\n",
       "      <th>1</th>\n",
       "      <td>92ea762b7b2cfd7aee30a2e88e1f5899</td>\n",
       "      <td>1</td>\n",
       "    </tr>\n",
       "    <tr>\n",
       "      <th>2</th>\n",
       "      <td>617dfab714eedf4988c4aa9ad5425eca</td>\n",
       "      <td>0</td>\n",
       "    </tr>\n",
       "    <tr>\n",
       "      <th>3</th>\n",
       "      <td>7fa016aaa3db39413b482f757facc3f4</td>\n",
       "      <td>0</td>\n",
       "    </tr>\n",
       "    <tr>\n",
       "      <th>4</th>\n",
       "      <td>49db062ac10d19591dc7d988d730aad5</td>\n",
       "      <td>25</td>\n",
       "    </tr>\n",
       "  </tbody>\n",
       "</table>\n",
       "</div>"
      ],
      "text/plain": [
       "                              bidid  bid_price\n",
       "0  fe2e06dff1dfd227471fd1ca717888ac        240\n",
       "1  92ea762b7b2cfd7aee30a2e88e1f5899          1\n",
       "2  617dfab714eedf4988c4aa9ad5425eca          0\n",
       "3  7fa016aaa3db39413b482f757facc3f4          0\n",
       "4  49db062ac10d19591dc7d988d730aad5         25"
      ]
     },
     "execution_count": 102,
     "metadata": {},
     "output_type": "execute_result"
    }
   ],
   "source": [
    "pd.read_csv('test_bidding_price.csv').head()"
   ]
  },
  {
   "cell_type": "code",
   "execution_count": null,
   "metadata": {
    "collapsed": true
   },
   "outputs": [],
   "source": []
  }
 ],
 "metadata": {
  "kernelspec": {
   "display_name": "Python 3",
   "language": "python",
   "name": "python3"
  },
  "language_info": {
   "codemirror_mode": {
    "name": "ipython",
    "version": 3
   },
   "file_extension": ".py",
   "mimetype": "text/x-python",
   "name": "python",
   "nbconvert_exporter": "python",
   "pygments_lexer": "ipython3",
   "version": "3.6.0"
  }
 },
 "nbformat": 4,
 "nbformat_minor": 0
}
