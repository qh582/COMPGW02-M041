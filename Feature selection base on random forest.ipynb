{
 "cells": [
  {
   "cell_type": "code",
   "execution_count": 2,
   "metadata": {},
   "outputs": [],
   "source": [
    "import pandas as pd\n",
    "import numpy as np\n",
    "from sklearn.preprocessing import OneHotEncoder\n",
    "import time\n",
    "import warnings\n",
    "warnings.filterwarnings('ignore')\n",
    "\n",
    "enc = OneHotEncoder()\n",
    "path = 'data/'\n",
    "train = pd.read_csv(path+'train.csv')\n",
    "vali = pd.read_csv(path+'validation.csv')\n",
    "test = pd.read_csv(path+'test.csv')\n",
    "start_time = time.time()"
   ]
  },
  {
   "cell_type": "code",
   "execution_count": 3,
   "metadata": {
    "collapsed": true
   },
   "outputs": [],
   "source": [
    "basectr = 0.0007539649884458758#train['click'].value_counts(normalize = True)[1]"
   ]
  },
  {
   "cell_type": "code",
   "execution_count": 4,
   "metadata": {
    "collapsed": true
   },
   "outputs": [],
   "source": [
    "ad_ctr = [0.00083473226564105031,\n",
    " 0.00050464562342478474,\n",
    " 0.00074884754565216914,\n",
    " 0.00076448084204447765,\n",
    " 0.00030658545558598702,\n",
    " 0.00062225602378400803,\n",
    " 0.0007180766777520589,\n",
    " 0.0046066034099877034,\n",
    " 0.00030675100937663219]#[]\n",
    "ad_name = [1458,3476,3427,3358,2259,2821,3386,2997,2261]\n",
    "# for i in ad_name:\n",
    "#     ad_ctr.append(train['click'][train['advertiser']==i].value_counts(normalize = True)[1])\n",
    "ad_len = len(ad_name)"
   ]
  },
  {
   "cell_type": "code",
   "execution_count": 6,
   "metadata": {},
   "outputs": [],
   "source": [
    "train_onehot = pd.read_csv('train_onehot.csv')\n",
    "vali_onehot = pd.read_csv('vali_onehot.csv')"
   ]
  },
  {
   "cell_type": "code",
   "execution_count": 7,
   "metadata": {
    "collapsed": true
   },
   "outputs": [],
   "source": [
    "import pickle\n",
    "rf_model = pickle.load(open('rf_model.sav','rb'))"
   ]
  },
  {
   "cell_type": "code",
   "execution_count": 8,
   "metadata": {
    "collapsed": true
   },
   "outputs": [],
   "source": [
    "names =[str(x) for x in list(vali_onehot.columns)]\n",
    "importance = pd.DataFrame({'Importance0':rf_model[0].feature_importances_,'Importance1':rf_model[1].feature_importances_,'Importance2':rf_model[2].feature_importances_,\n",
    "             'Importance3':rf_model[3].feature_importances_,'Importance4':rf_model[4].feature_importances_,\n",
    "              'Importance5':rf_model[5].feature_importances_,'Importance6':rf_model[6].feature_importances_,\n",
    "              'Importance7':rf_model[7].feature_importances_,'Importance8':rf_model[8].feature_importances_})"
   ]
  },
  {
   "cell_type": "code",
   "execution_count": 9,
   "metadata": {
    "collapsed": true
   },
   "outputs": [],
   "source": [
    "importance['importance_sum'] = importance.apply(lambda x: x.sum(),axis=1)\n",
    "importance['Names'] = names"
   ]
  },
  {
   "cell_type": "code",
   "execution_count": 10,
   "metadata": {
    "collapsed": true
   },
   "outputs": [],
   "source": [
    "vali_ad_onehot = []\n",
    "for i in ad_name:\n",
    "    vali_ad_onehot.append(vali_onehot[vali_onehot[\"advertiser_\"+str(i)]==1]) "
   ]
  },
  {
   "cell_type": "code",
   "execution_count": 11,
   "metadata": {
    "collapsed": true
   },
   "outputs": [],
   "source": [
    "zero_importance_rf = importance[importance['importance_sum']!=0].Names.values\n",
    "remove_list=names\n",
    "\n",
    "for x in zero_importance_rf:\n",
    "    remove_list.remove(x)"
   ]
  },
  {
   "cell_type": "code",
   "execution_count": 12,
   "metadata": {
    "collapsed": true
   },
   "outputs": [],
   "source": [
    "def dataprocessing (data,data_onehot):\n",
    "    slotprice = data['slotprice']\n",
    "    bidprice = data['bidprice']\n",
    "    payprice = data['payprice']\n",
    "    click = data['click']\n",
    "    \n",
    "    ad_onehot = []\n",
    "    \n",
    "    ad_onehot = []\n",
    "    for i in ad_name:\n",
    "        ad_onehot.append(data_onehot[data_onehot[\"advertiser_\"+str(i)]==1]) \n",
    "    \n",
    "    ad_click = []\n",
    "    for i in ad_name:\n",
    "        ad_click.append(data['click'][data['advertiser']==i])\n",
    "        \n",
    "    return ad_onehot, ad_click, slotprice, bidprice, payprice"
   ]
  },
  {
   "cell_type": "code",
   "execution_count": 13,
   "metadata": {
    "collapsed": true
   },
   "outputs": [],
   "source": [
    "train_ad_onehot,train_ad_click,train_slotprice,train_bidprice,train_payprice = dataprocessing(train,train_onehot)\n",
    "vali_ad_onehot,vali_ad_click,vali_slotprice,vali_bidprice,vali_payprice = dataprocessing(vali,vali_onehot)"
   ]
  },
  {
   "cell_type": "raw",
   "metadata": {
    "collapsed": true
   },
   "source": []
  },
  {
   "cell_type": "code",
   "execution_count": 15,
   "metadata": {
    "collapsed": true
   },
   "outputs": [],
   "source": [
    "train_click = train[['click','advertiser']]\n",
    "vali_ad_onehot_xgb= train_onehot.drop(remove_list,axis=1)\n",
    "train_ad_onehot_xgb= vali_onehot.drop(remove_list,axis=1)\n",
    "from sklearn.model_selection import train_test_split\n",
    "X_train, X_test, y_train, y_test = train_test_split(train_onehot, train_click, test_size=0.2, random_state=42)"
   ]
  },
  {
   "cell_type": "code",
   "execution_count": 16,
   "metadata": {
    "collapsed": true
   },
   "outputs": [],
   "source": [
    "def dataprocessing_ (data_onehot,click):\n",
    "    ad_onehot = []\n",
    "    for i in ad_name:\n",
    "        ad_onehot.append(data_onehot[data_onehot[\"advertiser_\"+str(i)]==1]) \n",
    "#     print('done')\n",
    "    ad_click = []\n",
    "    for i in ad_name:\n",
    "#         print(type(click))\n",
    "        a = click[click['advertiser']==i]\n",
    "        a = a.drop('advertiser',1)\n",
    "#         print(a.head())\n",
    "        ad_click.append(a)    \n",
    "    return ad_onehot, ad_click"
   ]
  },
  {
   "cell_type": "code",
   "execution_count": 17,
   "metadata": {
    "collapsed": true
   },
   "outputs": [],
   "source": [
    "_train_ad_onehot,_train_ad_click = dataprocessing_(X_train,y_train)\n",
    "_ad_onehot,_ad_click= dataprocessing_(X_test,y_test)"
   ]
  },
  {
   "cell_type": "code",
   "execution_count": 18,
   "metadata": {
    "collapsed": true
   },
   "outputs": [],
   "source": [
    "from sklearn.metrics import mean_squared_error\n",
    "def rmse(y_true, y_pred):\n",
    "    return np.sqrt(mean_squared_error(y_true, y_pred))\n",
    "from sklearn.metrics import roc_auc_score as auc\n",
    "from sklearn.metrics import classification_report as report"
   ]
  },
  {
   "cell_type": "code",
   "execution_count": 19,
   "metadata": {
    "collapsed": true
   },
   "outputs": [
    {
     "name": "stdout",
     "output_type": "stream",
     "text": [
      "[0]\teval-auc:0.874726\ttrain-auc:0.838692\n",
      "[1]\teval-auc:0.874764\ttrain-auc:0.838739\n",
      "[2]\teval-auc:0.893065\ttrain-auc:0.872415\n",
      "[3]\teval-auc:0.924495\ttrain-auc:0.91202\n",
      "[4]\teval-auc:0.950284\ttrain-auc:0.943447\n",
      "[5]\teval-auc:0.952522\ttrain-auc:0.946195\n",
      "[6]\teval-auc:0.959695\ttrain-auc:0.950249\n",
      "[7]\teval-auc:0.958682\ttrain-auc:0.959249\n",
      "[8]\teval-auc:0.957698\ttrain-auc:0.964258\n",
      "[9]\teval-auc:0.955095\ttrain-auc:0.966611\n",
      "1 /9\n",
      "[0]\teval-auc:0.5\ttrain-auc:0.5\n",
      "[1]\teval-auc:0.723147\ttrain-auc:0.829556\n",
      "[2]\teval-auc:0.723071\ttrain-auc:0.831126\n",
      "[3]\teval-auc:0.731619\ttrain-auc:0.839873\n",
      "[4]\teval-auc:0.728242\ttrain-auc:0.866599\n",
      "[5]\teval-auc:0.727653\ttrain-auc:0.872377\n",
      "[6]\teval-auc:0.772911\ttrain-auc:0.914038\n",
      "[7]\teval-auc:0.815196\ttrain-auc:0.935729\n",
      "[8]\teval-auc:0.797808\ttrain-auc:0.949348\n",
      "[9]\teval-auc:0.811628\ttrain-auc:0.952915\n",
      "2 /9\n",
      "[0]\teval-auc:0.776993\ttrain-auc:0.821568\n",
      "[1]\teval-auc:0.777002\ttrain-auc:0.82173\n",
      "[2]\teval-auc:0.795036\ttrain-auc:0.85223\n",
      "[3]\teval-auc:0.797125\ttrain-auc:0.853402\n",
      "[4]\teval-auc:0.879755\ttrain-auc:0.927912\n",
      "[5]\teval-auc:0.873587\ttrain-auc:0.930016\n",
      "[6]\teval-auc:0.906565\ttrain-auc:0.946479\n",
      "[7]\teval-auc:0.928358\ttrain-auc:0.950359\n",
      "[8]\teval-auc:0.916917\ttrain-auc:0.954264\n",
      "[9]\teval-auc:0.912462\ttrain-auc:0.959521\n",
      "3 /9\n",
      "[0]\teval-auc:0.781518\ttrain-auc:0.803985\n",
      "[1]\teval-auc:0.781588\ttrain-auc:0.804231\n",
      "[2]\teval-auc:0.781763\ttrain-auc:0.804472\n",
      "[3]\teval-auc:0.860505\ttrain-auc:0.905622\n",
      "[4]\teval-auc:0.872859\ttrain-auc:0.915616\n",
      "[5]\teval-auc:0.882571\ttrain-auc:0.934534\n",
      "[6]\teval-auc:0.921193\ttrain-auc:0.954684\n",
      "[7]\teval-auc:0.899654\ttrain-auc:0.960188\n",
      "[8]\teval-auc:0.878909\ttrain-auc:0.965495\n",
      "[9]\teval-auc:0.900122\ttrain-auc:0.96984\n",
      "4 /9\n",
      "[0]\teval-auc:0.5\ttrain-auc:0.5\n",
      "[1]\teval-auc:0.5\ttrain-auc:0.5\n",
      "[2]\teval-auc:0.499677\ttrain-auc:0.514005\n",
      "[3]\teval-auc:0.497277\ttrain-auc:0.554554\n",
      "[4]\teval-auc:0.537932\ttrain-auc:0.605111\n",
      "[5]\teval-auc:0.503468\ttrain-auc:0.714552\n",
      "[6]\teval-auc:0.511316\ttrain-auc:0.828265\n",
      "[7]\teval-auc:0.5112\ttrain-auc:0.866049\n",
      "[8]\teval-auc:0.525255\ttrain-auc:0.896914\n",
      "[9]\teval-auc:0.582439\ttrain-auc:0.916222\n",
      "5 /9\n",
      "[0]\teval-auc:0.5\ttrain-auc:0.5\n",
      "[1]\teval-auc:0.5\ttrain-auc:0.5\n",
      "[2]\teval-auc:0.5\ttrain-auc:0.5\n",
      "[3]\teval-auc:0.505019\ttrain-auc:0.551318\n",
      "[4]\teval-auc:0.519792\ttrain-auc:0.621141\n",
      "[5]\teval-auc:0.525176\ttrain-auc:0.662167\n",
      "[6]\teval-auc:0.504591\ttrain-auc:0.713421\n",
      "[7]\teval-auc:0.492693\ttrain-auc:0.78104\n",
      "[8]\teval-auc:0.515939\ttrain-auc:0.813088\n",
      "[9]\teval-auc:0.503869\ttrain-auc:0.819877\n",
      "6 /9\n",
      "[0]\teval-auc:0.5\ttrain-auc:0.5\n",
      "[1]\teval-auc:0.539769\ttrain-auc:0.557686\n",
      "[2]\teval-auc:0.539776\ttrain-auc:0.557691\n",
      "[3]\teval-auc:0.64306\ttrain-auc:0.652041\n",
      "[4]\teval-auc:0.6643\ttrain-auc:0.671926\n",
      "[5]\teval-auc:0.663412\ttrain-auc:0.685396\n",
      "[6]\teval-auc:0.643583\ttrain-auc:0.720414\n",
      "[7]\teval-auc:0.657795\ttrain-auc:0.757683\n",
      "[8]\teval-auc:0.667202\ttrain-auc:0.775844\n",
      "[9]\teval-auc:0.657558\ttrain-auc:0.797033\n",
      "7 /9\n",
      "[0]\teval-auc:0.5\ttrain-auc:0.5\n",
      "[1]\teval-auc:0.523764\ttrain-auc:0.603095\n",
      "[2]\teval-auc:0.517121\ttrain-auc:0.614454\n",
      "[3]\teval-auc:0.509291\ttrain-auc:0.641592\n",
      "[4]\teval-auc:0.533557\ttrain-auc:0.676056\n",
      "[5]\teval-auc:0.575325\ttrain-auc:0.704042\n",
      "[6]\teval-auc:0.593597\ttrain-auc:0.717374\n",
      "[7]\teval-auc:0.603461\ttrain-auc:0.723591\n",
      "[8]\teval-auc:0.59264\ttrain-auc:0.72866\n",
      "[9]\teval-auc:0.598561\ttrain-auc:0.736415\n",
      "8 /9\n",
      "[0]\teval-auc:0.5\ttrain-auc:0.5\n",
      "[1]\teval-auc:0.5\ttrain-auc:0.5\n",
      "[2]\teval-auc:0.5\ttrain-auc:0.5\n",
      "[3]\teval-auc:0.5\ttrain-auc:0.5\n",
      "[4]\teval-auc:0.498525\ttrain-auc:0.514777\n",
      "[5]\teval-auc:0.41235\ttrain-auc:0.730901\n",
      "[6]\teval-auc:0.393138\ttrain-auc:0.775845\n",
      "[7]\teval-auc:0.529019\ttrain-auc:0.839775\n",
      "[8]\teval-auc:0.613685\ttrain-auc:0.862992\n",
      "[9]\teval-auc:0.475214\ttrain-auc:0.884591\n",
      "9 /9\n"
     ]
    }
   ],
   "source": [
    "import xgboost as xgb\n",
    "\n",
    "xgb_model = []\n",
    "train_ad_pd = []\n",
    "train_ad_rmse = []\n",
    "train_ad_auc = []\n",
    "train_ad_report = []\n",
    "vali_ad_pd = []\n",
    "vali_ad_rmse = []\n",
    "vali_ad_auc = []\n",
    "\n",
    "param = {'max_depth':4, 'eta':1, 'silent':1, 'objective':'binary:logistic' }\n",
    "param['nthread'] = 4\n",
    "param['eval_metric'] = 'auc'\n",
    "plst = param.items()\n",
    "\n",
    "num_round = 10\n",
    "\n",
    "for i in range(ad_len):\n",
    "    dtrain = (xgb.DMatrix(_train_ad_onehot[i],_train_ad_click[i]))\n",
    "    dvali = (xgb.DMatrix(_ad_onehot[i],_ad_click[i]))\n",
    "    evallist  = [(dvali,'eval'), (dtrain,'train')]\n",
    "    dptrain = xgb.DMatrix(train_ad_onehot[i])\n",
    "    dpvali =xgb.DMatrix(vali_ad_onehot[i])\n",
    "    \n",
    "    xgb_model.append(xgb.train( plst, dtrain, num_round, evallist ))\n",
    "    train_ad_pd.append(xgb_model[i].predict(dptrain))\n",
    "    train_ad_rmse.append(rmse(train_ad_click[i],train_ad_pd[i]))\n",
    "    train_ad_auc.append(auc(train_ad_click[i],train_ad_pd[i]))\n",
    "    \n",
    "    vali_ad_pd.append(xgb_model[i].predict(dpvali))\n",
    "    vali_ad_rmse.append(rmse(vali_ad_click[i],vali_ad_pd[i]))\n",
    "    vali_ad_auc.append(auc(vali_ad_click[i],vali_ad_pd[i]))\n",
    "    print(i+1,'/9')"
   ]
  },
  {
   "cell_type": "code",
   "execution_count": 20,
   "metadata": {},
   "outputs": [
    {
     "name": "stdout",
     "output_type": "stream",
     "text": [
      "xgb validation results\n",
      "ad 1458 : RMSE 0.0217942473851 AUC 0.964258274281\n",
      "ad 3476 : RMSE 0.019836956863 AUC 0.823949256842\n",
      "ad 3427 : RMSE 0.0247393551685 AUC 0.952029031574\n",
      "ad 3358 : RMSE 0.0227416115309 AUC 0.920750748383\n",
      "ad 2259 : RMSE 0.0259010117117 AUC 0.597219759762\n",
      "ad 2821 : RMSE 0.0250923827508 AUC 0.530942574953\n",
      "ad 3386 : RMSE 0.0245510455235 AUC 0.668235845393\n",
      "ad 2997 : RMSE 0.0655661704949 AUC 0.661435393834\n",
      "ad 2261 : RMSE 0.0193977560541 AUC 0.494605312383\n"
     ]
    }
   ],
   "source": [
    "j = 0\n",
    "print('xgb validation results')\n",
    "for i in ad_name:    \n",
    "    print('ad',i,':','RMSE',vali_ad_rmse[j],'AUC',vali_ad_auc[j])\n",
    "    j+=1"
   ]
  },
  {
   "cell_type": "code",
   "execution_count": 21,
   "metadata": {},
   "outputs": [
    {
     "data": {
      "text/plain": [
       "[4.9515946898281982e-14,\n",
       " -1.6364687382974807e-13,\n",
       " -4.8605564018089353e-13,\n",
       " 0.016758969103661037,\n",
       " 0.058812774256578049,\n",
       " 0.13476196517784578,\n",
       " 0.06117242618136487,\n",
       " 1.3744561044859438e-13,\n",
       " 0.27870557426090992]"
      ]
     },
     "execution_count": 21,
     "metadata": {},
     "output_type": "execute_result"
    }
   ],
   "source": [
    "best = [0.964258274281,0.823949256842,0.952029031574,0.937509717487,0.656032534019,0.665704540131,0.729408271574,0.661435393834,0.773310886644]\n",
    "list(map(lambda x: x[0]-x[1], zip(best, vali_ad_auc)))"
   ]
  },
  {
   "cell_type": "code",
   "execution_count": 22,
   "metadata": {},
   "outputs": [
    {
     "data": {
      "text/plain": [
       "(540293, 280)"
      ]
     },
     "execution_count": 22,
     "metadata": {},
     "output_type": "execute_result"
    }
   ],
   "source": [
    "train_ad_onehot[0].shape"
   ]
  },
  {
   "cell_type": "code",
   "execution_count": 23,
   "metadata": {
    "collapsed": true
   },
   "outputs": [],
   "source": [
    "for i in range(len(train_ad_onehot)):\n",
    "    vali_ad_onehot[i] = vali_ad_onehot[i].drop(remove_list,axis=1)\n",
    "    train_ad_onehot[i] = train_ad_onehot[i].drop(remove_list,axis=1)"
   ]
  },
  {
   "cell_type": "code",
   "execution_count": 24,
   "metadata": {},
   "outputs": [
    {
     "data": {
      "text/plain": [
       "(540293, 259)"
      ]
     },
     "execution_count": 24,
     "metadata": {},
     "output_type": "execute_result"
    }
   ],
   "source": [
    "train_ad_onehot[0].shape"
   ]
  },
  {
   "cell_type": "code",
   "execution_count": 28,
   "metadata": {},
   "outputs": [
    {
     "name": "stdout",
     "output_type": "stream",
     "text": [
      "1 /9\n",
      "2 /9\n",
      "3 /9\n",
      "4 /9\n",
      "5 /9\n",
      "6 /9\n",
      "7 /9\n",
      "8 /9\n",
      "9 /9\n"
     ]
    }
   ],
   "source": [
    "from sklearn.ensemble import GradientBoostingClassifier\n",
    "gbc_model = []\n",
    "train_ad_gbcpd = []\n",
    "train_ad_gbcrmse = []\n",
    "train_ad_gbcauc = []\n",
    "vali_ad_gbcpd = []\n",
    "vali_ad_gbcrmse = []\n",
    "vali_ad_gbcauc = []\n",
    "    \n",
    "for i in range(ad_len):\n",
    "\n",
    "    gbc_model.append(GradientBoostingClassifier(n_estimators= 100,max_depth= 4, min_samples_leaf=15, learning_rate= 0.035))\n",
    "#     print('fitting model:',i)\n",
    "    gbc_model[i].fit(train_ad_onehot[i], train_ad_click[i])\n",
    "#     print('predicting')\n",
    "    vali_ad_gbcpd.append((gbc_model[i].predict_proba(vali_ad_onehot[i]))[:,1])\n",
    "    vali_ad_gbcrmse.append(rmse(vali_ad_click[i],vali_ad_gbcpd[i]))\n",
    "    vali_ad_gbcauc.append(auc(vali_ad_click[i],vali_ad_gbcpd[i]))\n",
    "    print(i+1,'/9')"
   ]
  },
  {
   "cell_type": "code",
   "execution_count": 29,
   "metadata": {},
   "outputs": [
    {
     "name": "stdout",
     "output_type": "stream",
     "text": [
      "extra tree classification validation results\n",
      "ad 1458 : RMSE 0.0298038599796 AUC 0.963225343893\n",
      "ad 3476 : RMSE 0.0207179601668 AUC 0.672073432157\n",
      "ad 3427 : RMSE 0.0285043446949 AUC 0.694419500954\n",
      "ad 3358 : RMSE 0.0414943462695 AUC 0.937509717487\n",
      "ad 2259 : RMSE 0.0259830818523 AUC 0.591042063738\n",
      "ad 2821 : RMSE 0.0250796616159 AUC 0.58919962133\n",
      "ad 3386 : RMSE 0.024527083622 AUC 0.68457227863\n",
      "ad 2997 : RMSE 0.0655184049188 AUC 0.656547680016\n",
      "ad 2261 : RMSE 0.0211107043447 AUC 0.57011597456\n"
     ]
    }
   ],
   "source": [
    "j = 0\n",
    "print('extra tree classification validation results')\n",
    "for i in ad_name:    \n",
    "    print('ad',i,':','RMSE',vali_ad_gbcrmse[j],'AUC',vali_ad_gbcauc[j])\n",
    "    j+=1"
   ]
  },
  {
   "cell_type": "code",
   "execution_count": 30,
   "metadata": {},
   "outputs": [
    {
     "data": {
      "text/plain": [
       "[0.0010329303877112395,\n",
       " 0.15187582468511862,\n",
       " 0.25760953062040814,\n",
       " 3.4172664697962318e-13,\n",
       " 0.064990470280690493,\n",
       " 0.076504918800581523,\n",
       " 0.044835992944110337,\n",
       " 0.0048877138176114387,\n",
       " 0.20319491208358098]"
      ]
     },
     "execution_count": 30,
     "metadata": {},
     "output_type": "execute_result"
    }
   ],
   "source": [
    "list(map(lambda x: x[0]-x[1], zip(best, vali_ad_gbcauc)))#0.00005,0.00003#0.00004"
   ]
  },
  {
   "cell_type": "code",
   "execution_count": 31,
   "metadata": {},
   "outputs": [
    {
     "name": "stdout",
     "output_type": "stream",
     "text": [
      "1 /9\n",
      "2 /9\n",
      "3 /9\n",
      "4 /9\n",
      "5 /9\n",
      "6 /9\n",
      "7 /9\n",
      "8 /9\n",
      "9 /9\n"
     ]
    }
   ],
   "source": [
    "from sklearn.ensemble import AdaBoostClassifier\n",
    "adb_model = []\n",
    "train_ad_adbpd = []\n",
    "train_ad_adbrmse = []\n",
    "train_ad_adbauc = []\n",
    "vali_ad_adbpd = []\n",
    "vali_ad_adbrmse = []\n",
    "vali_ad_adbauc = []\n",
    "\n",
    "for i in range(ad_len):\n",
    "    adb_model.append(AdaBoostClassifier(n_estimators=100, learning_rate=0.5, random_state=2017))\n",
    "    adb_model[i].fit(train_ad_onehot[i], train_ad_click[i])\n",
    "#     train_ad_adbpd.append((adb_model[i].predict_proba(train_ad_onehot[i]))[:,1])\n",
    "#     train_ad_adbrmse.append(rmse(train_ad_click[i],train_ad_adbpd[i]))\n",
    "#     train_ad_adbauc.append(auc(train_ad_adbpd[i],train_ad_adbpd[i]))\n",
    "    vali_ad_adbpd.append((adb_model[i].predict_proba(vali_ad_onehot[i]))[:,1])\n",
    "    vali_ad_adbrmse.append(rmse(vali_ad_click[i],vali_ad_adbpd[i]))\n",
    "    vali_ad_adbauc.append(auc(vali_ad_click[i],vali_ad_adbpd[i]))\n",
    "    print(i+1,'/9')\n"
   ]
  },
  {
   "cell_type": "code",
   "execution_count": 32,
   "metadata": {},
   "outputs": [
    {
     "name": "stdout",
     "output_type": "stream",
     "text": [
      "Adaboosting validation results\n",
      "ad 1458 : RMSE 0.450369772464 AUC 0.963908628595\n",
      "ad 3476 : RMSE 0.449349903403 AUC 0.674023949059\n",
      "ad 3427 : RMSE 0.453485636704 AUC 0.942543220668\n",
      "ad 3358 : RMSE 0.449437385353 AUC 0.93714401151\n",
      "ad 2259 : RMSE 0.416637456771 AUC 0.592787332122\n",
      "ad 2821 : RMSE 0.452913962076 AUC 0.591012453154\n",
      "ad 3386 : RMSE 0.459870000249 AUC 0.665648746772\n",
      "ad 2997 : RMSE 0.466973307183 AUC 0.630300624808\n",
      "ad 2261 : RMSE 0.403631403828 AUC 0.569726898616\n"
     ]
    }
   ],
   "source": [
    "j = 0\n",
    "print('Adaboosting validation results')\n",
    "for i in ad_name:    \n",
    "    print('ad',i,':','RMSE',vali_ad_adbrmse[j],'AUC',vali_ad_adbauc[j])\n",
    "    j+=1"
   ]
  },
  {
   "cell_type": "code",
   "execution_count": 33,
   "metadata": {},
   "outputs": [
    {
     "data": {
      "text/plain": [
       "[0.00034964568575202026,\n",
       " 0.14992530778328039,\n",
       " 0.0094858109057793794,\n",
       " 0.00036570597711604869,\n",
       " 0.063245201897196845,\n",
       " 0.074692086976721361,\n",
       " 0.063759524802036616,\n",
       " 0.031134769026051612,\n",
       " 0.20358398802821254]"
      ]
     },
     "execution_count": 33,
     "metadata": {},
     "output_type": "execute_result"
    }
   ],
   "source": [
    "list(map(lambda x: x[0]-x[1], zip(best, vali_ad_adbauc)))#0.00005,0.00003#0.00004"
   ]
  }
 ],
 "metadata": {
  "kernelspec": {
   "display_name": "Python 3",
   "language": "python",
   "name": "python3"
  },
  "language_info": {
   "codemirror_mode": {
    "name": "ipython",
    "version": 3
   },
   "file_extension": ".py",
   "mimetype": "text/x-python",
   "name": "python",
   "nbconvert_exporter": "python",
   "pygments_lexer": "ipython3",
   "version": "3.6.1"
  }
 },
 "nbformat": 4,
 "nbformat_minor": 1
}
