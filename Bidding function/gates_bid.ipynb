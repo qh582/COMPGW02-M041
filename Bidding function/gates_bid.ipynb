{
 "cells": [
  {
   "cell_type": "code",
   "execution_count": 39,
   "metadata": {
    "collapsed": true
   },
   "outputs": [],
   "source": [
    "import pandas as pd\n",
    "import numpy as np\n",
    "import warnings\n",
    "warnings.filterwarnings('ignore')\n",
    "path = 'dataset/'\n",
    "train = pd.read_csv(path+'train.csv')\n",
    "vali = pd.read_csv(path+'validation.csv')\n",
    "combine_pctr = pd.read_csv(path+'model_combine.csv')"
   ]
  },
  {
   "cell_type": "code",
   "execution_count": 2,
   "metadata": {},
   "outputs": [
    {
     "data": {
      "text/plain": [
       "[0.00083473226564105031,\n",
       " 0.00050464562342478474,\n",
       " 0.00074884754565216914,\n",
       " 0.00076448084204447765,\n",
       " 0.00030658545558598702,\n",
       " 0.00062225602378400803,\n",
       " 0.0007180766777520589,\n",
       " 0.0046066034099877034,\n",
       " 0.00030675100937663219]"
      ]
     },
     "execution_count": 2,
     "metadata": {},
     "output_type": "execute_result"
    }
   ],
   "source": [
    "ad_ctr = []\n",
    "ad_name = [1458,3476,3427,3358,2259,2821,3386,2997,2261]\n",
    "for i in ad_name:\n",
    "    ad_ctr.append(train['click'][train['advertiser']==i].value_counts(normalize = True)[1])\n",
    "ad_len = len(ad_name)\n",
    "ad_ctr"
   ]
  },
  {
   "cell_type": "code",
   "execution_count": 3,
   "metadata": {},
   "outputs": [
    {
     "data": {
      "text/plain": [
       "226"
      ]
     },
     "execution_count": 3,
     "metadata": {},
     "output_type": "execute_result"
    }
   ],
   "source": [
    "vali_click = vali['click']\n",
    "sum(vali_click)"
   ]
  },
  {
   "cell_type": "code",
   "execution_count": 5,
   "metadata": {
    "collapsed": true
   },
   "outputs": [],
   "source": [
    "def const(bid):\n",
    "    price = bid\n",
    "    return price\n",
    "\n",
    "def rand(upper):\n",
    "    price = int(random.random() * upper)\n",
    "    return price\n",
    "\n",
    "def mcpc(ecpc, pctr):\n",
    "    price = int(ecpc * pctr)\n",
    "    return price\n",
    "\n",
    "def lin(pctr, basectr, basebid):\n",
    "    price = int(pctr/ basectr *basebid)\n",
    "    return price\n",
    "\n",
    "def sq(pctr, basectr, basebid):\n",
    "    price = int(pctr*pctr*4/basectr *basebid)\n",
    "    return price\n",
    "\n",
    "import math\n",
    "def epower(pctr, basectr, basebid):\n",
    "    a = (pctr-basectr)\n",
    "    try:\n",
    "        price = int((math.exp(a)*basebid-1)*0.001)\n",
    "    except OverflowError:\n",
    "        price = int(100)\n",
    "    return price\n",
    "    \n",
    "def win( payprice, price):\n",
    "    result = (price>payprice)\n",
    "    return result"
   ]
  },
  {
   "cell_type": "code",
   "execution_count": 19,
   "metadata": {
    "collapsed": true
   },
   "outputs": [],
   "source": [
    "bid_vali['ratio']= bid_vali.pctr/ad_ctr[ad_name.index(adid)]"
   ]
  },
  {
   "cell_type": "code",
   "execution_count": 77,
   "metadata": {
    "scrolled": true
   },
   "outputs": [
    {
     "name": "stdout",
     "output_type": "stream",
     "text": [
      "budget: 1/ 64 norm:  0.95 num of win:  1107 num of click:  5 ctr:  0.00451671183379 cpm:  88216.802168 cpc:  19531.2 cost 97656\n",
      "budget: 1/ 64 norm:  1.95 num of win:  987 num of click:  11 ctr:  0.0111448834853 cpm:  98942.2492401 cpc:  8877.81818182 cost 97656\n",
      "budget: 1/ 64 norm:  2.95 num of win:  1106 num of click:  25 ctr:  0.0226039783002 cpm:  88296.5641953 cpc:  3906.24 cost 97656\n",
      "budget: 1/ 64 norm:  3.95 num of win:  1107 num of click:  30 ctr:  0.0271002710027 cpm:  88216.802168 cpc:  3255.2 cost 97656\n",
      "budget: 1/ 64 norm:  4.95 num of win:  1071 num of click:  36 ctr:  0.0336134453782 cpm:  91182.0728291 cpc:  2712.66666667 cost 97656\n",
      "budget: 1/ 64 norm:  5.95 num of win:  1086 num of click:  42 ctr:  0.0386740331492 cpm:  89922.6519337 cpc:  2325.14285714 cost 97656\n",
      "budget: 1/ 64 norm:  6.95 num of win:  1066 num of click:  48 ctr:  0.0450281425891 cpm:  91609.7560976 cpc:  2034.5 cost 97656\n",
      "budget: 1/ 64 norm:  7.95 num of win:  1064 num of click:  55 ctr:  0.0516917293233 cpm:  91781.9548872 cpc:  1775.56363636 cost 97656\n",
      "budget: 1/ 64 norm:  8.95 num of win:  1049 num of click:  58 ctr:  0.0552907530982 cpm:  93093.422307 cpc:  1683.70689655 cost 97655\n",
      "budget: 1/ 64 norm:  9.95 num of win:  1054 num of click:  59 ctr:  0.0559772296015 cpm:  92652.7514231 cpc:  1655.18644068 cost 97656\n",
      "budget: 1/ 64 norm:  10.95 num of win:  1046 num of click:  69 ctr:  0.065965583174 cpm:  93361.376673 cpc:  1415.30434783 cost 97656\n",
      "budget: 1/ 64 norm:  11.95 num of win:  1052 num of click:  72 ctr:  0.0684410646388 cpm:  92827.9467681 cpc:  1356.31944444 cost 97655\n",
      "budget: 1/ 64 norm:  12.95 num of win:  1046 num of click:  72 ctr:  0.0688336520076 cpm:  93360.4206501 cpc:  1356.31944444 cost 97655\n",
      "budget: 1/ 32 norm:  0.95 num of win:  2169 num of click:  8 ctr:  0.00368833563854 cpm:  90047.0262794 cpc:  24414.0 cost 195312\n",
      "budget: 1/ 32 norm:  1.95 num of win:  1982 num of click:  25 ctr:  0.0126135216953 cpm:  98542.8859738 cpc:  7812.48 cost 195312\n",
      "budget: 1/ 32 norm:  2.95 num of win:  2169 num of click:  37 ctr:  0.0170585523283 cpm:  90047.0262794 cpc:  5278.7027027 cost 195312\n",
      "budget: 1/ 32 norm:  3.95 num of win:  2216 num of click:  51 ctr:  0.0230144404332 cpm:  88137.1841155 cpc:  3829.64705882 cost 195312\n",
      "budget: 1/ 32 norm:  4.95 num of win:  2155 num of click:  66 ctr:  0.030626450116 cpm:  90632.0185615 cpc:  2959.27272727 cost 195312\n",
      "budget: 1/ 32 norm:  5.95 num of win:  2164 num of click:  75 ctr:  0.0346580406654 cpm:  90254.6210721 cpc:  2604.14666667 cost 195311\n",
      "budget: 1/ 32 norm:  6.95 num of win:  2111 num of click:  87 ctr:  0.041212695405 cpm:  92520.6063477 cpc:  2244.95402299 cost 195311\n",
      "budget: 1/ 32 norm:  7.95 num of win:  1933 num of click:  97 ctr:  0.050181065701 cpm:  92240.558717 cpc:  1838.15463918 cost 178301\n",
      "budget: 1/ 32 norm:  8.95 num of win:  1741 num of click:  96 ctr:  0.055140723722 cpm:  93323.3773693 cpc:  1692.45833333 cost 162476\n",
      "budget: 1/ 32 norm:  9.95 num of win:  1636 num of click:  95 ctr:  0.0580684596577 cpm:  92938.8753056 cpc:  1600.50526316 cost 152048\n",
      "budget: 1/ 32 norm:  10.95 num of win:  1498 num of click:  94 ctr:  0.0627503337784 cpm:  93741.6555407 cpc:  1493.88297872 cost 140425\n",
      "budget: 1/ 32 norm:  11.95 num of win:  1399 num of click:  94 ctr:  0.0671908506076 cpm:  93669.0493209 cpc:  1394.07446809 cost 131043\n",
      "budget: 1/ 32 norm:  12.95 num of win:  1340 num of click:  94 ctr:  0.0701492537313 cpm:  94161.9402985 cpc:  1342.30851064 cost 126177\n",
      "budget: 1/ 16 norm:  0.95 num of win:  4333 num of click:  17 ctr:  0.00392337872144 cpm:  90150.9346873 cpc:  22977.8823529 cost 390624\n",
      "budget: 1/ 16 norm:  1.95 num of win:  3978 num of click:  40 ctr:  0.010055304173 cpm:  98196.0784314 cpc:  9765.6 cost 390624\n",
      "budget: 1/ 16 norm:  2.95 num of win:  4384 num of click:  69 ctr:  0.0157390510949 cpm:  89102.189781 cpc:  5661.2173913 cost 390624\n",
      "budget: 1/ 16 norm:  3.95 num of win:  4394 num of click:  95 ctr:  0.0216203914429 cpm:  88899.408284 cpc:  4111.83157895 cost 390624\n",
      "budget: 1/ 16 norm:  4.95 num of win:  3288 num of click:  98 ctr:  0.0298053527981 cpm:  91621.6545012 cpc:  3074.0 cost 301252\n",
      "budget: 1/ 16 norm:  5.95 num of win:  2714 num of click:  97 ctr:  0.0357406042741 cpm:  91442.1518055 cpc:  2558.49484536 cost 248174\n",
      "budget: 1/ 16 norm:  6.95 num of win:  2235 num of click:  97 ctr:  0.0434004474273 cpm:  92816.5548098 cpc:  2138.60824742 cost 207445\n",
      "budget: 1/ 16 norm:  7.95 num of win:  1933 num of click:  97 ctr:  0.050181065701 cpm:  92240.558717 cpc:  1838.15463918 cost 178301\n",
      "budget: 1/ 16 norm:  8.95 num of win:  1741 num of click:  96 ctr:  0.055140723722 cpm:  93323.3773693 cpc:  1692.45833333 cost 162476\n",
      "budget: 1/ 16 norm:  9.95 num of win:  1636 num of click:  95 ctr:  0.0580684596577 cpm:  92938.8753056 cpc:  1600.50526316 cost 152048\n",
      "budget: 1/ 16 norm:  10.95 num of win:  1498 num of click:  94 ctr:  0.0627503337784 cpm:  93741.6555407 cpc:  1493.88297872 cost 140425\n",
      "budget: 1/ 16 norm:  11.95 num of win:  1399 num of click:  94 ctr:  0.0671908506076 cpm:  93669.0493209 cpc:  1394.07446809 cost 131043\n",
      "budget: 1/ 16 norm:  12.95 num of win:  1340 num of click:  94 ctr:  0.0701492537313 cpm:  94161.9402985 cpc:  1342.30851064 cost 126177\n",
      "budget: 1/ 8 norm:  0.95 num of win:  8626 num of click:  32 ctr:  0.00370971481567 cpm:  90569.0934384 cpc:  24414.03125 cost 781249\n",
      "budget: 1/ 8 norm:  1.95 num of win:  7987 num of click:  72 ctr:  0.00901464880431 cpm:  97815.0744961 cpc:  10850.6805556 cost 781249\n",
      "budget: 1/ 8 norm:  2.95 num of win:  7177 num of click:  108 ctr:  0.0150480702243 cpm:  89317.9601505 cpc:  5935.50925926 cost 641035\n",
      "budget: 1/ 8 norm:  3.95 num of win:  4483 num of click:  101 ctr:  0.0225295561008 cpm:  89193.6203435 cpc:  3958.96039604 cost 399855\n",
      "budget: 1/ 8 norm:  4.95 num of win:  3288 num of click:  98 ctr:  0.0298053527981 cpm:  91621.6545012 cpc:  3074.0 cost 301252\n",
      "budget: 1/ 8 norm:  5.95 num of win:  2714 num of click:  97 ctr:  0.0357406042741 cpm:  91442.1518055 cpc:  2558.49484536 cost 248174\n",
      "budget: 1/ 8 norm:  6.95 num of win:  2235 num of click:  97 ctr:  0.0434004474273 cpm:  92816.5548098 cpc:  2138.60824742 cost 207445\n",
      "budget: 1/ 8 norm:  7.95 num of win:  1933 num of click:  97 ctr:  0.050181065701 cpm:  92240.558717 cpc:  1838.15463918 cost 178301\n",
      "budget: 1/ 8 norm:  8.95 num of win:  1741 num of click:  96 ctr:  0.055140723722 cpm:  93323.3773693 cpc:  1692.45833333 cost 162476\n",
      "budget: 1/ 8 norm:  9.95 num of win:  1636 num of click:  95 ctr:  0.0580684596577 cpm:  92938.8753056 cpc:  1600.50526316 cost 152048\n",
      "budget: 1/ 8 norm:  10.95 num of win:  1498 num of click:  94 ctr:  0.0627503337784 cpm:  93741.6555407 cpc:  1493.88297872 cost 140425\n",
      "budget: 1/ 8 norm:  11.95 num of win:  1399 num of click:  94 ctr:  0.0671908506076 cpm:  93669.0493209 cpc:  1394.07446809 cost 131043\n",
      "budget: 1/ 8 norm:  12.95 num of win:  1340 num of click:  94 ctr:  0.0701492537313 cpm:  94161.9402985 cpc:  1342.30851064 cost 126177\n",
      "budget: 1/ 4 norm:  0.95 num of win:  17081 num of click:  58 ctr:  0.00339558573854 cpm:  91475.85036 cpc:  26939.637931 cost 1562499\n",
      "budget: 1/ 4 norm:  1.95 num of win:  13835 num of click:  119 ctr:  0.00860137332851 cpm:  97800.5782436 cpc:  11370.3445378 cost 1353071\n",
      "budget: 1/ 4 norm:  2.95 num of win:  7177 num of click:  108 ctr:  0.0150480702243 cpm:  89317.9601505 cpc:  5935.50925926 cost 641035\n",
      "budget: 1/ 4 norm:  3.95 num of win:  4483 num of click:  101 ctr:  0.0225295561008 cpm:  89193.6203435 cpc:  3958.96039604 cost 399855\n",
      "budget: 1/ 4 norm:  4.95 num of win:  3288 num of click:  98 ctr:  0.0298053527981 cpm:  91621.6545012 cpc:  3074.0 cost 301252\n",
      "budget: 1/ 4 norm:  5.95 num of win:  2714 num of click:  97 ctr:  0.0357406042741 cpm:  91442.1518055 cpc:  2558.49484536 cost 248174\n",
      "budget: 1/ 4 norm:  6.95 num of win:  2235 num of click:  97 ctr:  0.0434004474273 cpm:  92816.5548098 cpc:  2138.60824742 cost 207445\n",
      "budget: 1/ 4 norm:  7.95 num of win:  1933 num of click:  97 ctr:  0.050181065701 cpm:  92240.558717 cpc:  1838.15463918 cost 178301\n",
      "budget: 1/ 4 norm:  8.95 num of win:  1741 num of click:  96 ctr:  0.055140723722 cpm:  93323.3773693 cpc:  1692.45833333 cost 162476\n",
      "budget: 1/ 4 norm:  9.95 num of win:  1636 num of click:  95 ctr:  0.0580684596577 cpm:  92938.8753056 cpc:  1600.50526316 cost 152048\n"
     ]
    },
    {
     "name": "stdout",
     "output_type": "stream",
     "text": [
      "budget: 1/ 4 norm:  10.95 num of win:  1498 num of click:  94 ctr:  0.0627503337784 cpm:  93741.6555407 cpc:  1493.88297872 cost 140425\n",
      "budget: 1/ 4 norm:  11.95 num of win:  1399 num of click:  94 ctr:  0.0671908506076 cpm:  93669.0493209 cpc:  1394.07446809 cost 131043\n",
      "budget: 1/ 4 norm:  12.95 num of win:  1340 num of click:  94 ctr:  0.0701492537313 cpm:  94161.9402985 cpc:  1342.30851064 cost 126177\n",
      "budget: 1/ 2 norm:  0.95 num of win:  34129 num of click:  106 ctr:  0.00310586304902 cpm:  91564.3294559 cpc:  29481.1226415 cost 3124999\n",
      "budget: 1/ 2 norm:  1.95 num of win:  13835 num of click:  119 ctr:  0.00860137332851 cpm:  97800.5782436 cpc:  11370.3445378 cost 1353071\n",
      "budget: 1/ 2 norm:  2.95 num of win:  7177 num of click:  108 ctr:  0.0150480702243 cpm:  89317.9601505 cpc:  5935.50925926 cost 641035\n",
      "budget: 1/ 2 norm:  3.95 num of win:  4483 num of click:  101 ctr:  0.0225295561008 cpm:  89193.6203435 cpc:  3958.96039604 cost 399855\n",
      "budget: 1/ 2 norm:  4.95 num of win:  3288 num of click:  98 ctr:  0.0298053527981 cpm:  91621.6545012 cpc:  3074.0 cost 301252\n",
      "budget: 1/ 2 norm:  5.95 num of win:  2714 num of click:  97 ctr:  0.0357406042741 cpm:  91442.1518055 cpc:  2558.49484536 cost 248174\n",
      "budget: 1/ 2 norm:  6.95 num of win:  2235 num of click:  97 ctr:  0.0434004474273 cpm:  92816.5548098 cpc:  2138.60824742 cost 207445\n",
      "budget: 1/ 2 norm:  7.95 num of win:  1933 num of click:  97 ctr:  0.050181065701 cpm:  92240.558717 cpc:  1838.15463918 cost 178301\n",
      "budget: 1/ 2 norm:  8.95 num of win:  1741 num of click:  96 ctr:  0.055140723722 cpm:  93323.3773693 cpc:  1692.45833333 cost 162476\n",
      "budget: 1/ 2 norm:  9.95 num of win:  1636 num of click:  95 ctr:  0.0580684596577 cpm:  92938.8753056 cpc:  1600.50526316 cost 152048\n",
      "budget: 1/ 2 norm:  10.95 num of win:  1498 num of click:  94 ctr:  0.0627503337784 cpm:  93741.6555407 cpc:  1493.88297872 cost 140425\n",
      "budget: 1/ 2 norm:  11.95 num of win:  1399 num of click:  94 ctr:  0.0671908506076 cpm:  93669.0493209 cpc:  1394.07446809 cost 131043\n",
      "budget: 1/ 2 norm:  12.95 num of win:  1340 num of click:  94 ctr:  0.0701492537313 cpm:  94161.9402985 cpc:  1342.30851064 cost 126177\n",
      "budget: 1/ 1 norm:  0.95 num of win:  51529 num of click:  158 ctr:  0.00306623454754 cpm:  91793.9994954 cpc:  29937.0443038 cost 4730053\n",
      "budget: 1/ 1 norm:  1.95 num of win:  13835 num of click:  119 ctr:  0.00860137332851 cpm:  97800.5782436 cpc:  11370.3445378 cost 1353071\n",
      "budget: 1/ 1 norm:  2.95 num of win:  7177 num of click:  108 ctr:  0.0150480702243 cpm:  89317.9601505 cpc:  5935.50925926 cost 641035\n",
      "budget: 1/ 1 norm:  3.95 num of win:  4483 num of click:  101 ctr:  0.0225295561008 cpm:  89193.6203435 cpc:  3958.96039604 cost 399855\n",
      "budget: 1/ 1 norm:  4.95 num of win:  3288 num of click:  98 ctr:  0.0298053527981 cpm:  91621.6545012 cpc:  3074.0 cost 301252\n",
      "budget: 1/ 1 norm:  5.95 num of win:  2714 num of click:  97 ctr:  0.0357406042741 cpm:  91442.1518055 cpc:  2558.49484536 cost 248174\n",
      "budget: 1/ 1 norm:  6.95 num of win:  2235 num of click:  97 ctr:  0.0434004474273 cpm:  92816.5548098 cpc:  2138.60824742 cost 207445\n",
      "budget: 1/ 1 norm:  7.95 num of win:  1933 num of click:  97 ctr:  0.050181065701 cpm:  92240.558717 cpc:  1838.15463918 cost 178301\n",
      "budget: 1/ 1 norm:  8.95 num of win:  1741 num of click:  96 ctr:  0.055140723722 cpm:  93323.3773693 cpc:  1692.45833333 cost 162476\n",
      "budget: 1/ 1 norm:  9.95 num of win:  1636 num of click:  95 ctr:  0.0580684596577 cpm:  92938.8753056 cpc:  1600.50526316 cost 152048\n",
      "budget: 1/ 1 norm:  10.95 num of win:  1498 num of click:  94 ctr:  0.0627503337784 cpm:  93741.6555407 cpc:  1493.88297872 cost 140425\n",
      "budget: 1/ 1 norm:  11.95 num of win:  1399 num of click:  94 ctr:  0.0671908506076 cpm:  93669.0493209 cpc:  1394.07446809 cost 131043\n",
      "budget: 1/ 1 norm:  12.95 num of win:  1340 num of click:  94 ctr:  0.0701492537313 cpm:  94161.9402985 cpc:  1342.30851064 cost 126177\n"
     ]
    }
   ],
   "source": [
    "final_final_result = []\n",
    "for i in [64,32,16,8,4,2,1]:#124,158from best constant bid\n",
    "    final_result = []\n",
    "    for n in np.linspace(0.95,12.95,13):\n",
    "        gate_bidwin = []\n",
    "        bidwin = []\n",
    "        budget = 6250*1000/i\n",
    "        cost = 0\n",
    "        bid_vali = combine_pctr\n",
    "        for index in range(len(vali)):\n",
    "            adid = bid_vali.iloc[index][1]\n",
    "            bidid = vali.bidid[index]\n",
    "            slotprice = vali.slotprice[index]\n",
    "            bidprice = vali.bidprice[index]\n",
    "            payprice = vali.payprice[index]\n",
    "            click = vali.click[index]\n",
    "            basectr = ad_ctr[ad_name.index(adid)]\n",
    "            pclick = bid_vali.iloc[index][0]\n",
    "\n",
    "            if (pclick/ basectr) >= n*0.95:\n",
    "                price = const(0)\n",
    "                if (pclick/ basectr) >= n:\n",
    "                    price = const(301)\n",
    "                \n",
    "            else:\n",
    "                price=const(0)\n",
    "\n",
    "            result = win(payprice, price)\n",
    "\n",
    "            if result and budget-payprice>0:\n",
    "                detail = []\n",
    "                budget = budget-payprice\n",
    "                #index, adid, click, pclick\n",
    "                detail = [index,bidid,click]\n",
    "                gate_bidwin.append(detail)\n",
    "                cost = cost + payprice\n",
    "            if budget<1:\n",
    "                break\n",
    "\n",
    "            slotprice = 0\n",
    "            bidprice = 0\n",
    "\n",
    "        c_sum = 0\n",
    "        for k in range(len(gate_bidwin)):\n",
    "            c_sum = gate_bidwin[k][2]+c_sum\n",
    "        if len(gate_bidwin) ==0:\n",
    "            ctr=0\n",
    "        else:\n",
    "            ctr=c_sum/len(gate_bidwin)\n",
    "            cpm = cost/len(gate_bidwin)* 1000\n",
    "            cpc = cost/c_sum\n",
    "        if ctr == 0:\n",
    "            cpc = 0\n",
    "        detail2 = [i,n,len(gate_bidwin),c_sum,ctr,cpm,cpc,cost]\n",
    "        final_result.append(detail2)\n",
    "        print('budget: 1/',i,'norm: ',n,'num of win: ',len(gate_bidwin),'num of click: ',c_sum,'ctr: ',ctr,'cpm: ',cpm,'cpc: ',cpc,'cost',cost)\n",
    "    final_final_result.append(final_result)"
   ]
  },
  {
   "cell_type": "code",
   "execution_count": 78,
   "metadata": {
    "collapsed": true
   },
   "outputs": [],
   "source": [
    "for i in range(1,7):\n",
    "    final_final_result[0].extend(final_final_result[i])"
   ]
  },
  {
   "cell_type": "code",
   "execution_count": 79,
   "metadata": {
    "collapsed": true
   },
   "outputs": [],
   "source": [
    "new = final_final_result[0]"
   ]
  },
  {
   "cell_type": "code",
   "execution_count": 80,
   "metadata": {
    "collapsed": true
   },
   "outputs": [],
   "source": [
    "new=pd.DataFrame(new)\n",
    "new.columns = ['budget','norm', 'impression','clicks','ctr','cpm','cpc','cost']"
   ]
  },
  {
   "cell_type": "code",
   "execution_count": 81,
   "metadata": {
    "collapsed": true
   },
   "outputs": [],
   "source": [
    "int_to_str_budget = {1:'1',2:'1/2',4:'1/4',8:'1/8',16:'1/16',32:'1/32',64:'1/64'}\n",
    "new['budget'] = new['budget'].map(int_to_str_budget)"
   ]
  },
  {
   "cell_type": "code",
   "execution_count": 83,
   "metadata": {},
   "outputs": [
    {
     "data": {
      "text/html": [
       "<div>\n",
       "<table border=\"1\" class=\"dataframe\">\n",
       "  <thead>\n",
       "    <tr style=\"text-align: right;\">\n",
       "      <th></th>\n",
       "      <th>budget</th>\n",
       "      <th>norm</th>\n",
       "      <th>impression</th>\n",
       "      <th>clicks</th>\n",
       "      <th>ctr</th>\n",
       "      <th>cpm</th>\n",
       "      <th>cpc</th>\n",
       "      <th>cost</th>\n",
       "    </tr>\n",
       "  </thead>\n",
       "  <tbody>\n",
       "    <tr>\n",
       "      <th>78</th>\n",
       "      <td>1</td>\n",
       "      <td>0.95</td>\n",
       "      <td>51529</td>\n",
       "      <td>158</td>\n",
       "      <td>0.003066</td>\n",
       "      <td>91793.999495</td>\n",
       "      <td>29937.044304</td>\n",
       "      <td>4730053</td>\n",
       "    </tr>\n",
       "  </tbody>\n",
       "</table>\n",
       "</div>"
      ],
      "text/plain": [
       "   budget  norm  impression  clicks       ctr           cpm           cpc  \\\n",
       "78      1  0.95       51529     158  0.003066  91793.999495  29937.044304   \n",
       "\n",
       "       cost  \n",
       "78  4730053  "
      ]
     },
     "execution_count": 83,
     "metadata": {},
     "output_type": "execute_result"
    }
   ],
   "source": [
    "new.iloc[np.where(new.clicks == new.clicks.max())[0]]"
   ]
  },
  {
   "cell_type": "code",
   "execution_count": 84,
   "metadata": {},
   "outputs": [
    {
     "data": {
      "text/html": [
       "<div>\n",
       "<table border=\"1\" class=\"dataframe\">\n",
       "  <thead>\n",
       "    <tr style=\"text-align: right;\">\n",
       "      <th></th>\n",
       "      <th>budget</th>\n",
       "      <th>norm</th>\n",
       "      <th>impression</th>\n",
       "      <th>clicks</th>\n",
       "      <th>ctr</th>\n",
       "      <th>cpm</th>\n",
       "      <th>cpc</th>\n",
       "      <th>cost</th>\n",
       "    </tr>\n",
       "  </thead>\n",
       "  <tbody>\n",
       "    <tr>\n",
       "      <th>25</th>\n",
       "      <td>1/32</td>\n",
       "      <td>12.95</td>\n",
       "      <td>1340</td>\n",
       "      <td>94</td>\n",
       "      <td>0.070149</td>\n",
       "      <td>94161.940299</td>\n",
       "      <td>1342.308511</td>\n",
       "      <td>126177</td>\n",
       "    </tr>\n",
       "    <tr>\n",
       "      <th>38</th>\n",
       "      <td>1/16</td>\n",
       "      <td>12.95</td>\n",
       "      <td>1340</td>\n",
       "      <td>94</td>\n",
       "      <td>0.070149</td>\n",
       "      <td>94161.940299</td>\n",
       "      <td>1342.308511</td>\n",
       "      <td>126177</td>\n",
       "    </tr>\n",
       "    <tr>\n",
       "      <th>51</th>\n",
       "      <td>1/8</td>\n",
       "      <td>12.95</td>\n",
       "      <td>1340</td>\n",
       "      <td>94</td>\n",
       "      <td>0.070149</td>\n",
       "      <td>94161.940299</td>\n",
       "      <td>1342.308511</td>\n",
       "      <td>126177</td>\n",
       "    </tr>\n",
       "    <tr>\n",
       "      <th>64</th>\n",
       "      <td>1/4</td>\n",
       "      <td>12.95</td>\n",
       "      <td>1340</td>\n",
       "      <td>94</td>\n",
       "      <td>0.070149</td>\n",
       "      <td>94161.940299</td>\n",
       "      <td>1342.308511</td>\n",
       "      <td>126177</td>\n",
       "    </tr>\n",
       "    <tr>\n",
       "      <th>77</th>\n",
       "      <td>1/2</td>\n",
       "      <td>12.95</td>\n",
       "      <td>1340</td>\n",
       "      <td>94</td>\n",
       "      <td>0.070149</td>\n",
       "      <td>94161.940299</td>\n",
       "      <td>1342.308511</td>\n",
       "      <td>126177</td>\n",
       "    </tr>\n",
       "    <tr>\n",
       "      <th>90</th>\n",
       "      <td>1</td>\n",
       "      <td>12.95</td>\n",
       "      <td>1340</td>\n",
       "      <td>94</td>\n",
       "      <td>0.070149</td>\n",
       "      <td>94161.940299</td>\n",
       "      <td>1342.308511</td>\n",
       "      <td>126177</td>\n",
       "    </tr>\n",
       "  </tbody>\n",
       "</table>\n",
       "</div>"
      ],
      "text/plain": [
       "   budget   norm  impression  clicks       ctr           cpm          cpc  \\\n",
       "25   1/32  12.95        1340      94  0.070149  94161.940299  1342.308511   \n",
       "38   1/16  12.95        1340      94  0.070149  94161.940299  1342.308511   \n",
       "51    1/8  12.95        1340      94  0.070149  94161.940299  1342.308511   \n",
       "64    1/4  12.95        1340      94  0.070149  94161.940299  1342.308511   \n",
       "77    1/2  12.95        1340      94  0.070149  94161.940299  1342.308511   \n",
       "90      1  12.95        1340      94  0.070149  94161.940299  1342.308511   \n",
       "\n",
       "      cost  \n",
       "25  126177  \n",
       "38  126177  \n",
       "51  126177  \n",
       "64  126177  \n",
       "77  126177  \n",
       "90  126177  "
      ]
     },
     "execution_count": 84,
     "metadata": {},
     "output_type": "execute_result"
    }
   ],
   "source": [
    "new.iloc[np.where(new.ctr == new.ctr.max())[0]]"
   ]
  },
  {
   "cell_type": "code",
   "execution_count": 86,
   "metadata": {
    "collapsed": true
   },
   "outputs": [],
   "source": [
    "new1 = new[new['budget']=='1']"
   ]
  },
  {
   "cell_type": "code",
   "execution_count": 91,
   "metadata": {},
   "outputs": [
    {
     "data": {
      "image/png": "[encoded data removed]",
      "text/plain": [
       "<matplotlib.figure.Figure at 0x139e79a1d30>"
      ]
     },
     "metadata": {},
     "output_type": "display_data"
    }
   ],
   "source": [
    "import seaborn as sns\n",
    "import matplotlib.pyplot as plt\n",
    "sns.set(style=\"white\", color_codes=True)\n",
    "fig = plt.figure()\n",
    "ax1 = fig.add_subplot(111)\n",
    "ax1.set_xlabel('Normaliztion value')\n",
    "ax1.plot(new1.norm,new1.clicks,'b',label='Clicks')\n",
    "ax1.set_ylabel('Clicks')\n",
    "ax1.set_title(\"Gate bidding\",fontsize=16)\n",
    "plt.legend(loc='right')\n",
    "ax2 = ax1.twinx()\n",
    "ax2.plot(new1.norm, new1.ctr,'r',label='CTR')\n",
    "ax2.set_ylabel('CTR')\n",
    "plt.legend(loc='lower right')\n",
    "plt.grid(True)\n",
    "plt.show()\n",
    "fig.savefig('gate.eps', dpi=1000)"
   ]
  },
  {
   "cell_type": "markdown",
   "metadata": {},
   "source": [
    "new.to_csv(\"gate_bidding_budget.csv\", index = False)"
   ]
  },
  {
   "cell_type": "code",
   "execution_count": null,
   "metadata": {
    "collapsed": true
   },
   "outputs": [],
   "source": []
  }
 ],
 "metadata": {
  "kernelspec": {
   "display_name": "Python 3",
   "language": "python",
   "name": "python3"
  },
  "language_info": {
   "codemirror_mode": {
    "name": "ipython",
    "version": 3
   },
   "file_extension": ".py",
   "mimetype": "text/x-python",
   "name": "python",
   "nbconvert_exporter": "python",
   "pygments_lexer": "ipython3",
   "version": "3.6.1"
  }
 },
 "nbformat": 4,
 "nbformat_minor": 2
}
